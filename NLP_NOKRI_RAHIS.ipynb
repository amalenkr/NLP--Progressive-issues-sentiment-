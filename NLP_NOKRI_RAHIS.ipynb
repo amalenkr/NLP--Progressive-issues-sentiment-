{
  "nbformat": 4,
  "nbformat_minor": 0,
  "metadata": {
    "colab": {
      "name": "Copy of script_ erwan.ipynb",
      "provenance": [],
      "collapsed_sections": [
        "J-z0yqqcThU0"
      ],
      "toc_visible": true,
      "include_colab_link": true
    },
    "kernelspec": {
      "display_name": "Python 3",
      "language": "python",
      "name": "python3"
    },
    "language_info": {
      "codemirror_mode": {
        "name": "ipython",
        "version": 3
      },
      "file_extension": ".py",
      "mimetype": "text/x-python",
      "name": "python",
      "nbconvert_exporter": "python",
      "pygments_lexer": "ipython3",
      "version": "3.8.3"
    }
  },
  "cells": [
    {
      "cell_type": "markdown",
      "metadata": {
        "id": "view-in-github",
        "colab_type": "text"
      },
      "source": [
        "<a href=\"https://colab.research.google.com/github/amalenkr/NLP--Progressive-issues-sentiment-/blob/main/NLP_NOKRI_RAHIS.ipynb\" target=\"_parent\"><img src=\"https://colab.research.google.com/assets/colab-badge.svg\" alt=\"Open In Colab\"/></a>"
      ]
    },
    {
      "cell_type": "markdown",
      "metadata": {
        "id": "ifAa9J93Midc"
      },
      "source": [
        "# NLP Sentiment classification"
      ]
    },
    {
      "cell_type": "code",
      "metadata": {
        "colab": {
          "base_uri": "https://localhost:8080/"
        },
        "id": "fy0vMOW2Midq",
        "outputId": "ff85618c-0391-4b8a-918f-633f1f3641fe"
      },
      "source": [
        "import pandas as pd\n",
        "import numpy as np\n",
        "import matplotlib.pyplot as plt\n",
        "import pickle as pckl\n",
        "import seaborn as sns\n",
        "sns.set_theme()\n",
        "from wordcloud import WordCloud, STOPWORDS, ImageColorGenerator\n",
        "import re\n",
        "import nltk\n",
        "nltk.download('stopwords')\n",
        "from nltk.corpus import stopwords\n",
        "from google.colab import files\n",
        "from sklearn.metrics import confusion_matrix, classification_report,  accuracy_score, mean_squared_error, balanced_accuracy_score,  plot_roc_curve, make_scorer\n",
        "import pdb\n",
        "import torch\n",
        "import torch.nn as nn\n",
        "from torch.utils.data import Dataset, DataLoader, TensorDataset\n",
        "from sklearn.model_selection import train_test_split\n",
        "import torch.optim as optim\n",
        "from sklearn.preprocessing import MaxAbsScaler, StandardScaler\n",
        "from sklearn.neighbors import KNeighborsClassifier\n",
        "from sklearn.tree import DecisionTreeClassifier\n",
        "from sklearn.model_selection import train_test_split, GridSearchCV\n",
        "from sklearn.ensemble import RandomForestClassifier\n",
        "from sklearn.preprocessing import OneHotEncoder\n",
        "from sklearn.pipeline import Pipeline\n",
        "import sklearn.tree as tree\n",
        "from sklearn.linear_model import LogisticRegression\n",
        "from sklearn.compose import ColumnTransformer\n"
      ],
      "execution_count": null,
      "outputs": [
        {
          "output_type": "stream",
          "text": [
            "[nltk_data] Downloading package stopwords to /root/nltk_data...\n",
            "[nltk_data]   Package stopwords is already up-to-date!\n"
          ],
          "name": "stdout"
        }
      ]
    },
    {
      "cell_type": "markdown",
      "metadata": {
        "id": "g7l_7RtqMids"
      },
      "source": [
        "## Extraction et recodage des données"
      ]
    },
    {
      "cell_type": "code",
      "metadata": {
        "id": "pIFxdq-tPUif",
        "colab": {
          "base_uri": "https://localhost:8080/"
        },
        "outputId": "940e921c-1ebb-4bbd-e76d-857fbe05825f"
      },
      "source": [
        "from google.colab import drive\n",
        "drive.mount('/content/gdrive')"
      ],
      "execution_count": null,
      "outputs": [
        {
          "output_type": "stream",
          "text": [
            "Drive already mounted at /content/gdrive; to attempt to forcibly remount, call drive.mount(\"/content/gdrive\", force_remount=True).\n"
          ],
          "name": "stdout"
        }
      ]
    },
    {
      "cell_type": "code",
      "metadata": {
        "id": "lnP6CEIgMidt",
        "scrolled": true
      },
      "source": [
        "#On computer\n",
        "#database = pckl.load(open('data_query.p', 'rb'))\n",
        "#On google Drive\n",
        "database = pckl.load(open('gdrive/MyDrive/NLP_Project/data_query.p', 'rb'))"
      ],
      "execution_count": null,
      "outputs": []
    },
    {
      "cell_type": "code",
      "metadata": {
        "id": "SFsA1wxrMidt"
      },
      "source": [
        "database = database.rename(columns={'q1_from_reading_the_tweet_which_of_the_options_below_is_most_likely_to_be_true_about_the_stance_or_outlook_of_the_tweeter_towards_the_target' : 'q1', 'q1_from_reading_the_tweet_which_of_the_options_below_is_most_likely_to_be_true_about_the_stance_or_outlook_of_the_tweeter_towards_the_target_confidence': 'q1_confidence', 'q2_which_of_the_options_below_is_true_about_the_opinion_in_the_tweet' : 'q2', 'q2_which_of_the_options_below_is_true_about_the_opinion_in_the_tweet_confidence': 'q2_confidence'})"
      ],
      "execution_count": null,
      "outputs": []
    },
    {
      "cell_type": "code",
      "metadata": {
        "id": "ewDiZ81CMidu",
        "colab": {
          "base_uri": "https://localhost:8080/"
        },
        "outputId": "37b3c128-7a11-49d7-f208-26022025698d"
      },
      "source": [
        "database['q1'].value_counts()"
      ],
      "execution_count": null,
      "outputs": [
        {
          "output_type": "execute_result",
          "data": {
            "text/plain": [
              "AGAINST: We can infer from the tweet that the tweeter is against the target (e.g., directly or indirectly by opposing or criticizing someone/something, by supporting someone/something opposed to the target, or by echoing the stance of somebody else).                                                                                                483\n",
              "FOR: We can infer from the tweet that the tweeter supports the target (e.g., directly or indirectly by supporting someone/something, by opposing or criticizing someone/something opposed to the target, or by echoing the stance of somebody else).                                                                                                      348\n",
              "NONE OF THE ABOVE: There is no clue in the tweet to reveal the stance of the tweeter towards the target (support/against/neutral).                                                                                                                                                                                                                        317\n",
              "NEUTRAL: We can infer from the tweet that the tweeter has a neutral stance towards the target. (The tweet being neither favorable nor against the target is not sufficient reason for choosing this option. One reason for choosing this option is that the tweeter supports the target entity to some extent, but is also against it to some extent.)     11\n",
              "Name: q1, dtype: int64"
            ]
          },
          "metadata": {
            "tags": []
          },
          "execution_count": 205
        }
      ]
    },
    {
      "cell_type": "code",
      "metadata": {
        "id": "MSZcCEipMidw"
      },
      "source": [
        "database['q1r'] = database['q1'].replace({'AGAINST: We can infer from the tweet that the tweeter is against the target (e.g., directly or indirectly by opposing or criticizing someone/something, by supporting someone/something opposed to the target, or by echoing the stance of somebody else).':'AGAINST', \n",
        "                                         'FOR: We can infer from the tweet that the tweeter supports the target (e.g., directly or indirectly by supporting someone/something, by opposing or criticizing someone/something opposed to the target, or by echoing the stance of somebody else).':'FOR', \n",
        "                                         'NONE OF THE ABOVE: There is no clue in the tweet to reveal the stance of the tweeter towards the target (support/against/neutral).':'NONE OF THE ABOVE',\n",
        "                                         'NEUTRAL: We can infer from the tweet that the tweeter has a neutral stance towards the target. (The tweet being neither favorable nor against the target is not sufficient reason for choosing this option. One reason for choosing this option is that the tweeter supports the target entity to some extent, but is also against it to some extent.)': 'NEUTRAL'})"
      ],
      "execution_count": null,
      "outputs": []
    },
    {
      "cell_type": "code",
      "metadata": {
        "id": "0_YBMiQgMidx",
        "colab": {
          "base_uri": "https://localhost:8080/"
        },
        "outputId": "ae8b9b65-963a-482e-db08-fb5ae27506ba"
      },
      "source": [
        "database['q1r'].value_counts()"
      ],
      "execution_count": null,
      "outputs": [
        {
          "output_type": "execute_result",
          "data": {
            "text/plain": [
              "AGAINST              483\n",
              "FOR                  348\n",
              "NONE OF THE ABOVE    317\n",
              "NEUTRAL               11\n",
              "Name: q1r, dtype: int64"
            ]
          },
          "metadata": {
            "tags": []
          },
          "execution_count": 207
        }
      ]
    },
    {
      "cell_type": "markdown",
      "metadata": {
        "id": "vVvFF8cYMidy"
      },
      "source": [
        "# 1) Exploration"
      ]
    },
    {
      "cell_type": "code",
      "metadata": {
        "id": "DiWiFZoAMidz",
        "colab": {
          "base_uri": "https://localhost:8080/",
          "height": 635
        },
        "outputId": "0f77db98-ebd2-4529-9f80-9a64921b8b41"
      },
      "source": [
        "database.head()"
      ],
      "execution_count": null,
      "outputs": [
        {
          "output_type": "execute_result",
          "data": {
            "text/html": [
              "<div>\n",
              "<style scoped>\n",
              "    .dataframe tbody tr th:only-of-type {\n",
              "        vertical-align: middle;\n",
              "    }\n",
              "\n",
              "    .dataframe tbody tr th {\n",
              "        vertical-align: top;\n",
              "    }\n",
              "\n",
              "    .dataframe thead th {\n",
              "        text-align: right;\n",
              "    }\n",
              "</style>\n",
              "<table border=\"1\" class=\"dataframe\">\n",
              "  <thead>\n",
              "    <tr style=\"text-align: right;\">\n",
              "      <th></th>\n",
              "      <th>unit_id</th>\n",
              "      <th>golden</th>\n",
              "      <th>unit_state</th>\n",
              "      <th>trusted_judgments</th>\n",
              "      <th>last_judgment_at</th>\n",
              "      <th>q1</th>\n",
              "      <th>q1_confidence</th>\n",
              "      <th>q2</th>\n",
              "      <th>q2_confidence</th>\n",
              "      <th>orig_golden</th>\n",
              "      <th>internal_id</th>\n",
              "      <th>orig_q1_from_reading_the_tweet_which_of_the_options_below_is_most_likely_to_be_true_about_the_stance_or_outlook_of_the_tweeter_towards_the_target</th>\n",
              "      <th>q1_from_reading_the_tweet_which_of_the_options_below_is_most_likely_to_be_true_about_the_stance_or_outlook_of_the_tweeter_towards_the_target_gold</th>\n",
              "      <th>orig_q2_which_of_the_options_below_is_true_about_the_opinion_in_the_tweet</th>\n",
              "      <th>target</th>\n",
              "      <th>tweet</th>\n",
              "      <th>tweet_id</th>\n",
              "      <th>q1r</th>\n",
              "    </tr>\n",
              "  </thead>\n",
              "  <tbody>\n",
              "    <tr>\n",
              "      <th>0</th>\n",
              "      <td>713632888</td>\n",
              "      <td>True</td>\n",
              "      <td>golden</td>\n",
              "      <td>30</td>\n",
              "      <td>None</td>\n",
              "      <td>AGAINST: We can infer from the tweet that the ...</td>\n",
              "      <td>0.6581</td>\n",
              "      <td>2. The tweet does NOT expresses opinion about ...</td>\n",
              "      <td>0.4976</td>\n",
              "      <td>True</td>\n",
              "      <td>189</td>\n",
              "      <td>None</td>\n",
              "      <td>AGAINST: We can infer from the tweet that the ...</td>\n",
              "      <td>None</td>\n",
              "      <td>Legalization of Abortion</td>\n",
              "      <td>Thank you for another day of life Lord. #Chris...</td>\n",
              "      <td>id588718177095266305</td>\n",
              "      <td>AGAINST</td>\n",
              "    </tr>\n",
              "    <tr>\n",
              "      <th>1</th>\n",
              "      <td>713632889</td>\n",
              "      <td>False</td>\n",
              "      <td>golden</td>\n",
              "      <td>2</td>\n",
              "      <td>None</td>\n",
              "      <td>NONE OF THE ABOVE: There is no clue in the twe...</td>\n",
              "      <td>1.0000</td>\n",
              "      <td>2. The tweet does NOT expresses opinion about ...</td>\n",
              "      <td>0.5294</td>\n",
              "      <td>True</td>\n",
              "      <td>190</td>\n",
              "      <td>None</td>\n",
              "      <td>AGAINST: We can infer from the tweet that the ...</td>\n",
              "      <td>None</td>\n",
              "      <td>Legalization of Abortion</td>\n",
              "      <td>@rosaryrevival Lovely to use Glorious Mysterie...</td>\n",
              "      <td>id592798858725425152</td>\n",
              "      <td>NONE OF THE ABOVE</td>\n",
              "    </tr>\n",
              "    <tr>\n",
              "      <th>2</th>\n",
              "      <td>713632890</td>\n",
              "      <td>True</td>\n",
              "      <td>golden</td>\n",
              "      <td>26</td>\n",
              "      <td>None</td>\n",
              "      <td>AGAINST: We can infer from the tweet that the ...</td>\n",
              "      <td>0.8859</td>\n",
              "      <td>1.  The tweet explicitly expresses opinion abo...</td>\n",
              "      <td>0.8820</td>\n",
              "      <td>True</td>\n",
              "      <td>207</td>\n",
              "      <td>None</td>\n",
              "      <td>AGAINST: We can infer from the tweet that the ...</td>\n",
              "      <td>None</td>\n",
              "      <td>Legalization of Abortion</td>\n",
              "      <td>@Niall250 good thing is that #DUP have consist...</td>\n",
              "      <td>id593472619208380419</td>\n",
              "      <td>AGAINST</td>\n",
              "    </tr>\n",
              "    <tr>\n",
              "      <th>3</th>\n",
              "      <td>713632891</td>\n",
              "      <td>False</td>\n",
              "      <td>golden</td>\n",
              "      <td>3</td>\n",
              "      <td>None</td>\n",
              "      <td>AGAINST: We can infer from the tweet that the ...</td>\n",
              "      <td>0.6323</td>\n",
              "      <td>1.  The tweet explicitly expresses opinion abo...</td>\n",
              "      <td>0.6323</td>\n",
              "      <td>True</td>\n",
              "      <td>211</td>\n",
              "      <td>None</td>\n",
              "      <td>AGAINST: We can infer from the tweet that the ...</td>\n",
              "      <td>None</td>\n",
              "      <td>Legalization of Abortion</td>\n",
              "      <td>So, you tell me... is murder okay if the victi...</td>\n",
              "      <td>id592699132399194112</td>\n",
              "      <td>AGAINST</td>\n",
              "    </tr>\n",
              "    <tr>\n",
              "      <th>4</th>\n",
              "      <td>713632892</td>\n",
              "      <td>True</td>\n",
              "      <td>golden</td>\n",
              "      <td>31</td>\n",
              "      <td>None</td>\n",
              "      <td>AGAINST: We can infer from the tweet that the ...</td>\n",
              "      <td>0.8920</td>\n",
              "      <td>1.  The tweet explicitly expresses opinion abo...</td>\n",
              "      <td>0.8939</td>\n",
              "      <td>True</td>\n",
              "      <td>213</td>\n",
              "      <td>None</td>\n",
              "      <td>AGAINST: We can infer from the tweet that the ...</td>\n",
              "      <td>None</td>\n",
              "      <td>Legalization of Abortion</td>\n",
              "      <td>@HillaryClinton Don't you mean to say (all chi...</td>\n",
              "      <td>id588527665365188608</td>\n",
              "      <td>AGAINST</td>\n",
              "    </tr>\n",
              "  </tbody>\n",
              "</table>\n",
              "</div>"
            ],
            "text/plain": [
              "     unit_id  golden  ...              tweet_id                q1r\n",
              "0  713632888    True  ...  id588718177095266305            AGAINST\n",
              "1  713632889   False  ...  id592798858725425152  NONE OF THE ABOVE\n",
              "2  713632890    True  ...  id593472619208380419            AGAINST\n",
              "3  713632891   False  ...  id592699132399194112            AGAINST\n",
              "4  713632892    True  ...  id588527665365188608            AGAINST\n",
              "\n",
              "[5 rows x 18 columns]"
            ]
          },
          "metadata": {
            "tags": []
          },
          "execution_count": 208
        }
      ]
    },
    {
      "cell_type": "code",
      "metadata": {
        "id": "ZfatR3n2Mid0",
        "colab": {
          "base_uri": "https://localhost:8080/"
        },
        "outputId": "a11837be-3203-40b7-9ffa-a01653274fcc"
      },
      "source": [
        "database.shape"
      ],
      "execution_count": null,
      "outputs": [
        {
          "output_type": "execute_result",
          "data": {
            "text/plain": [
              "(1159, 18)"
            ]
          },
          "metadata": {
            "tags": []
          },
          "execution_count": 209
        }
      ]
    },
    {
      "cell_type": "code",
      "metadata": {
        "id": "uAV2lfBZ1Cv5"
      },
      "source": [
        ""
      ],
      "execution_count": null,
      "outputs": []
    },
    {
      "cell_type": "code",
      "metadata": {
        "id": "Rw8tEuL-Mid1",
        "colab": {
          "base_uri": "https://localhost:8080/",
          "height": 734
        },
        "outputId": "19551521-6ee2-4630-942a-6b8f839e5c5a"
      },
      "source": [
        "database.describe(include= 'all').transpose()"
      ],
      "execution_count": null,
      "outputs": [
        {
          "output_type": "execute_result",
          "data": {
            "text/html": [
              "<div>\n",
              "<style scoped>\n",
              "    .dataframe tbody tr th:only-of-type {\n",
              "        vertical-align: middle;\n",
              "    }\n",
              "\n",
              "    .dataframe tbody tr th {\n",
              "        vertical-align: top;\n",
              "    }\n",
              "\n",
              "    .dataframe thead th {\n",
              "        text-align: right;\n",
              "    }\n",
              "</style>\n",
              "<table border=\"1\" class=\"dataframe\">\n",
              "  <thead>\n",
              "    <tr style=\"text-align: right;\">\n",
              "      <th></th>\n",
              "      <th>count</th>\n",
              "      <th>unique</th>\n",
              "      <th>top</th>\n",
              "      <th>freq</th>\n",
              "      <th>mean</th>\n",
              "      <th>std</th>\n",
              "      <th>min</th>\n",
              "      <th>25%</th>\n",
              "      <th>50%</th>\n",
              "      <th>75%</th>\n",
              "      <th>max</th>\n",
              "    </tr>\n",
              "  </thead>\n",
              "  <tbody>\n",
              "    <tr>\n",
              "      <th>unit_id</th>\n",
              "      <td>1159</td>\n",
              "      <td>NaN</td>\n",
              "      <td>NaN</td>\n",
              "      <td>NaN</td>\n",
              "      <td>7.13633e+08</td>\n",
              "      <td>335.487</td>\n",
              "      <td>7.13633e+08</td>\n",
              "      <td>7.13633e+08</td>\n",
              "      <td>7.13633e+08</td>\n",
              "      <td>7.13634e+08</td>\n",
              "      <td>7.13634e+08</td>\n",
              "    </tr>\n",
              "    <tr>\n",
              "      <th>golden</th>\n",
              "      <td>1159</td>\n",
              "      <td>2</td>\n",
              "      <td>False</td>\n",
              "      <td>1105</td>\n",
              "      <td>NaN</td>\n",
              "      <td>NaN</td>\n",
              "      <td>NaN</td>\n",
              "      <td>NaN</td>\n",
              "      <td>NaN</td>\n",
              "      <td>NaN</td>\n",
              "      <td>NaN</td>\n",
              "    </tr>\n",
              "    <tr>\n",
              "      <th>unit_state</th>\n",
              "      <td>1159</td>\n",
              "      <td>2</td>\n",
              "      <td>finalized</td>\n",
              "      <td>1090</td>\n",
              "      <td>NaN</td>\n",
              "      <td>NaN</td>\n",
              "      <td>NaN</td>\n",
              "      <td>NaN</td>\n",
              "      <td>NaN</td>\n",
              "      <td>NaN</td>\n",
              "      <td>NaN</td>\n",
              "    </tr>\n",
              "    <tr>\n",
              "      <th>trusted_judgments</th>\n",
              "      <td>1159</td>\n",
              "      <td>NaN</td>\n",
              "      <td>NaN</td>\n",
              "      <td>NaN</td>\n",
              "      <td>8.96635</td>\n",
              "      <td>4.79184</td>\n",
              "      <td>2</td>\n",
              "      <td>8</td>\n",
              "      <td>8</td>\n",
              "      <td>8</td>\n",
              "      <td>38</td>\n",
              "    </tr>\n",
              "    <tr>\n",
              "      <th>last_judgment_at</th>\n",
              "      <td>1090</td>\n",
              "      <td>152</td>\n",
              "      <td>2015-05-04T18:36:00</td>\n",
              "      <td>14</td>\n",
              "      <td>NaN</td>\n",
              "      <td>NaN</td>\n",
              "      <td>NaN</td>\n",
              "      <td>NaN</td>\n",
              "      <td>NaN</td>\n",
              "      <td>NaN</td>\n",
              "      <td>NaN</td>\n",
              "    </tr>\n",
              "    <tr>\n",
              "      <th>q1</th>\n",
              "      <td>1159</td>\n",
              "      <td>4</td>\n",
              "      <td>AGAINST: We can infer from the tweet that the ...</td>\n",
              "      <td>483</td>\n",
              "      <td>NaN</td>\n",
              "      <td>NaN</td>\n",
              "      <td>NaN</td>\n",
              "      <td>NaN</td>\n",
              "      <td>NaN</td>\n",
              "      <td>NaN</td>\n",
              "      <td>NaN</td>\n",
              "    </tr>\n",
              "    <tr>\n",
              "      <th>q1_confidence</th>\n",
              "      <td>1159</td>\n",
              "      <td>NaN</td>\n",
              "      <td>NaN</td>\n",
              "      <td>NaN</td>\n",
              "      <td>0.78027</td>\n",
              "      <td>0.195433</td>\n",
              "      <td>0.2575</td>\n",
              "      <td>0.6225</td>\n",
              "      <td>0.8143</td>\n",
              "      <td>1</td>\n",
              "      <td>1</td>\n",
              "    </tr>\n",
              "    <tr>\n",
              "      <th>q2</th>\n",
              "      <td>1159</td>\n",
              "      <td>3</td>\n",
              "      <td>1.  The tweet explicitly expresses opinion abo...</td>\n",
              "      <td>730</td>\n",
              "      <td>NaN</td>\n",
              "      <td>NaN</td>\n",
              "      <td>NaN</td>\n",
              "      <td>NaN</td>\n",
              "      <td>NaN</td>\n",
              "      <td>NaN</td>\n",
              "      <td>NaN</td>\n",
              "    </tr>\n",
              "    <tr>\n",
              "      <th>q2_confidence</th>\n",
              "      <td>1159</td>\n",
              "      <td>NaN</td>\n",
              "      <td>NaN</td>\n",
              "      <td>NaN</td>\n",
              "      <td>0.721863</td>\n",
              "      <td>0.195343</td>\n",
              "      <td>0.3732</td>\n",
              "      <td>0.51715</td>\n",
              "      <td>0.7407</td>\n",
              "      <td>0.88275</td>\n",
              "      <td>1</td>\n",
              "    </tr>\n",
              "    <tr>\n",
              "      <th>orig_golden</th>\n",
              "      <td>69</td>\n",
              "      <td>1</td>\n",
              "      <td>True</td>\n",
              "      <td>69</td>\n",
              "      <td>NaN</td>\n",
              "      <td>NaN</td>\n",
              "      <td>NaN</td>\n",
              "      <td>NaN</td>\n",
              "      <td>NaN</td>\n",
              "      <td>NaN</td>\n",
              "      <td>NaN</td>\n",
              "    </tr>\n",
              "    <tr>\n",
              "      <th>internal_id</th>\n",
              "      <td>1159</td>\n",
              "      <td>NaN</td>\n",
              "      <td>NaN</td>\n",
              "      <td>NaN</td>\n",
              "      <td>1107.84</td>\n",
              "      <td>1797.62</td>\n",
              "      <td>1</td>\n",
              "      <td>240</td>\n",
              "      <td>336</td>\n",
              "      <td>439</td>\n",
              "      <td>5194</td>\n",
              "    </tr>\n",
              "    <tr>\n",
              "      <th>orig_q1_from_reading_the_tweet_which_of_the_options_below_is_most_likely_to_be_true_about_the_stance_or_outlook_of_the_tweeter_towards_the_target</th>\n",
              "      <td>0</td>\n",
              "      <td>0</td>\n",
              "      <td>NaN</td>\n",
              "      <td>NaN</td>\n",
              "      <td>NaN</td>\n",
              "      <td>NaN</td>\n",
              "      <td>NaN</td>\n",
              "      <td>NaN</td>\n",
              "      <td>NaN</td>\n",
              "      <td>NaN</td>\n",
              "      <td>NaN</td>\n",
              "    </tr>\n",
              "    <tr>\n",
              "      <th>q1_from_reading_the_tweet_which_of_the_options_below_is_most_likely_to_be_true_about_the_stance_or_outlook_of_the_tweeter_towards_the_target_gold</th>\n",
              "      <td>69</td>\n",
              "      <td>7</td>\n",
              "      <td>AGAINST: We can infer from the tweet that the ...</td>\n",
              "      <td>37</td>\n",
              "      <td>NaN</td>\n",
              "      <td>NaN</td>\n",
              "      <td>NaN</td>\n",
              "      <td>NaN</td>\n",
              "      <td>NaN</td>\n",
              "      <td>NaN</td>\n",
              "      <td>NaN</td>\n",
              "    </tr>\n",
              "    <tr>\n",
              "      <th>orig_q2_which_of_the_options_below_is_true_about_the_opinion_in_the_tweet</th>\n",
              "      <td>0</td>\n",
              "      <td>0</td>\n",
              "      <td>NaN</td>\n",
              "      <td>NaN</td>\n",
              "      <td>NaN</td>\n",
              "      <td>NaN</td>\n",
              "      <td>NaN</td>\n",
              "      <td>NaN</td>\n",
              "      <td>NaN</td>\n",
              "      <td>NaN</td>\n",
              "      <td>NaN</td>\n",
              "    </tr>\n",
              "    <tr>\n",
              "      <th>target</th>\n",
              "      <td>1159</td>\n",
              "      <td>4</td>\n",
              "      <td>Feminist Movement</td>\n",
              "      <td>319</td>\n",
              "      <td>NaN</td>\n",
              "      <td>NaN</td>\n",
              "      <td>NaN</td>\n",
              "      <td>NaN</td>\n",
              "      <td>NaN</td>\n",
              "      <td>NaN</td>\n",
              "      <td>NaN</td>\n",
              "    </tr>\n",
              "    <tr>\n",
              "      <th>tweet</th>\n",
              "      <td>1159</td>\n",
              "      <td>1152</td>\n",
              "      <td>When you've done everything you can do, that's...</td>\n",
              "      <td>2</td>\n",
              "      <td>NaN</td>\n",
              "      <td>NaN</td>\n",
              "      <td>NaN</td>\n",
              "      <td>NaN</td>\n",
              "      <td>NaN</td>\n",
              "      <td>NaN</td>\n",
              "      <td>NaN</td>\n",
              "    </tr>\n",
              "    <tr>\n",
              "      <th>tweet_id</th>\n",
              "      <td>1159</td>\n",
              "      <td>1159</td>\n",
              "      <td>id592759601684156419</td>\n",
              "      <td>1</td>\n",
              "      <td>NaN</td>\n",
              "      <td>NaN</td>\n",
              "      <td>NaN</td>\n",
              "      <td>NaN</td>\n",
              "      <td>NaN</td>\n",
              "      <td>NaN</td>\n",
              "      <td>NaN</td>\n",
              "    </tr>\n",
              "    <tr>\n",
              "      <th>q1r</th>\n",
              "      <td>1159</td>\n",
              "      <td>4</td>\n",
              "      <td>AGAINST</td>\n",
              "      <td>483</td>\n",
              "      <td>NaN</td>\n",
              "      <td>NaN</td>\n",
              "      <td>NaN</td>\n",
              "      <td>NaN</td>\n",
              "      <td>NaN</td>\n",
              "      <td>NaN</td>\n",
              "      <td>NaN</td>\n",
              "    </tr>\n",
              "  </tbody>\n",
              "</table>\n",
              "</div>"
            ],
            "text/plain": [
              "                                                   count  ...          max\n",
              "unit_id                                             1159  ...  7.13634e+08\n",
              "golden                                              1159  ...          NaN\n",
              "unit_state                                          1159  ...          NaN\n",
              "trusted_judgments                                   1159  ...           38\n",
              "last_judgment_at                                    1090  ...          NaN\n",
              "q1                                                  1159  ...          NaN\n",
              "q1_confidence                                       1159  ...            1\n",
              "q2                                                  1159  ...          NaN\n",
              "q2_confidence                                       1159  ...            1\n",
              "orig_golden                                           69  ...          NaN\n",
              "internal_id                                         1159  ...         5194\n",
              "orig_q1_from_reading_the_tweet_which_of_the_opt...     0  ...          NaN\n",
              "q1_from_reading_the_tweet_which_of_the_options_...    69  ...          NaN\n",
              "orig_q2_which_of_the_options_below_is_true_abou...     0  ...          NaN\n",
              "target                                              1159  ...          NaN\n",
              "tweet                                               1159  ...          NaN\n",
              "tweet_id                                            1159  ...          NaN\n",
              "q1r                                                 1159  ...          NaN\n",
              "\n",
              "[18 rows x 11 columns]"
            ]
          },
          "metadata": {
            "tags": []
          },
          "execution_count": 210
        }
      ]
    },
    {
      "cell_type": "code",
      "metadata": {
        "id": "SwXp0QU3Mid1",
        "colab": {
          "base_uri": "https://localhost:8080/"
        },
        "outputId": "09bd79e1-be8c-45be-bde9-e081ee913506"
      },
      "source": [
        "database.columns"
      ],
      "execution_count": null,
      "outputs": [
        {
          "output_type": "execute_result",
          "data": {
            "text/plain": [
              "Index(['unit_id', 'golden', 'unit_state', 'trusted_judgments',\n",
              "       'last_judgment_at', 'q1', 'q1_confidence', 'q2', 'q2_confidence',\n",
              "       'orig_golden', 'internal_id',\n",
              "       'orig_q1_from_reading_the_tweet_which_of_the_options_below_is_most_likely_to_be_true_about_the_stance_or_outlook_of_the_tweeter_towards_the_target',\n",
              "       'q1_from_reading_the_tweet_which_of_the_options_below_is_most_likely_to_be_true_about_the_stance_or_outlook_of_the_tweeter_towards_the_target_gold',\n",
              "       'orig_q2_which_of_the_options_below_is_true_about_the_opinion_in_the_tweet',\n",
              "       'target', 'tweet', 'tweet_id', 'q1r'],\n",
              "      dtype='object')"
            ]
          },
          "metadata": {
            "tags": []
          },
          "execution_count": 211
        }
      ]
    },
    {
      "cell_type": "markdown",
      "metadata": {
        "id": "-EMMJpD9Mid2"
      },
      "source": [
        "## Sujets des tweets "
      ]
    },
    {
      "cell_type": "code",
      "metadata": {
        "id": "CVxkNUjRMid3",
        "colab": {
          "base_uri": "https://localhost:8080/"
        },
        "outputId": "9cbd36d4-8913-4136-ca96-cec5fc982343"
      },
      "source": [
        "#Targets\n",
        "print(database['target'].unique())"
      ],
      "execution_count": null,
      "outputs": [
        {
          "output_type": "stream",
          "text": [
            "['Legalization of Abortion' 'Hillary Clinton' 'Feminist Movement'\n",
            " 'Atheism']\n"
          ],
          "name": "stdout"
        }
      ]
    },
    {
      "cell_type": "code",
      "metadata": {
        "id": "xxxqlchfwZb6",
        "colab": {
          "base_uri": "https://localhost:8080/",
          "height": 610
        },
        "outputId": "e4cd7991-5029-4ba7-85c3-475679d57651"
      },
      "source": [
        "fig, axes = plt.subplots(2, 1, figsize=(10, 10), sharey=True)\n",
        "sns.barplot(y=pd.Series(database['target']).value_counts().transpose(), x=pd.Series(database['target']).value_counts().index, ax=axes[0])\n",
        "sns.barplot(y=database.groupby(by='q1r').count().transpose().iloc[0,:], x=['AGAINST', 'FOR', 'NEUTRAL', 'NONE OF THE ABOVE'], ax=axes[1])\n",
        "axes[0].set_title('Targets')\n",
        "axes[1].set_title('Sentiment')\n",
        "plt.show()"
      ],
      "execution_count": null,
      "outputs": [
        {
          "output_type": "display_data",
          "data": {
            "image/png": "[encoded data removed]",
            "text/plain": [
              "<Figure size 720x720 with 2 Axes>"
            ]
          },
          "metadata": {
            "tags": []
          }
        }
      ]
    },
    {
      "cell_type": "markdown",
      "metadata": {
        "id": "t4XttPNSMid4"
      },
      "source": [
        "## q1"
      ]
    },
    {
      "cell_type": "code",
      "metadata": {
        "id": "EeMHWtirMid5",
        "colab": {
          "base_uri": "https://localhost:8080/"
        },
        "outputId": "b55f620d-10f0-45c6-bea5-0e8677b12c2f"
      },
      "source": [
        "#Answers to Q1\n",
        "print(database['q1r'].unique())\n",
        "print(database['q1_confidence'].describe())"
      ],
      "execution_count": null,
      "outputs": [
        {
          "output_type": "stream",
          "text": [
            "['AGAINST' 'NONE OF THE ABOVE' 'FOR' 'NEUTRAL']\n",
            "count    1159.000000\n",
            "mean        0.780270\n",
            "std         0.195433\n",
            "min         0.257500\n",
            "25%         0.622500\n",
            "50%         0.814300\n",
            "75%         1.000000\n",
            "max         1.000000\n",
            "Name: q1_confidence, dtype: float64\n"
          ],
          "name": "stdout"
        }
      ]
    },
    {
      "cell_type": "markdown",
      "metadata": {
        "id": "x9-Xv10bMid6"
      },
      "source": [
        "## q2"
      ]
    },
    {
      "cell_type": "code",
      "metadata": {
        "id": "o2kDgr7bMid7",
        "colab": {
          "base_uri": "https://localhost:8080/"
        },
        "outputId": "e18d3335-f6c4-475d-82d1-6c8c4a946a48"
      },
      "source": [
        "#Answers to Q2\n",
        "print(database['q2'].unique())\n",
        "print(database['q2_confidence'].describe())"
      ],
      "execution_count": null,
      "outputs": [
        {
          "output_type": "stream",
          "text": [
            "['2. The tweet does NOT expresses opinion about the target but it HAS opinion about something or someone other than the target.'\n",
            " '1.  The tweet explicitly expresses opinion about the target, a part of the target, or an aspect of the target.'\n",
            " '3.  The tweet is not explicitly expressing opinion. (For example, the tweet is simply giving information.)']\n",
            "count    1159.000000\n",
            "mean        0.721863\n",
            "std         0.195343\n",
            "min         0.373200\n",
            "25%         0.517150\n",
            "50%         0.740700\n",
            "75%         0.882750\n",
            "max         1.000000\n",
            "Name: q2_confidence, dtype: float64\n"
          ],
          "name": "stdout"
        }
      ]
    },
    {
      "cell_type": "markdown",
      "metadata": {
        "id": "Tj75sz1TMid7"
      },
      "source": [
        "## WordCloud"
      ]
    },
    {
      "cell_type": "code",
      "metadata": {
        "id": "8j00-lK1Mid8",
        "colab": {
          "base_uri": "https://localhost:8080/",
          "height": 330
        },
        "outputId": "20cc17c3-4b46-4c25-a34f-d8a9adc1de44"
      },
      "source": [
        "!pip install multidict\n",
        "import multidict as multidict\n",
        "import re\n",
        "  \n",
        "def plot_word_cloud(text) :\n",
        "    # Définir le calque du nuage des mots\n",
        "    wc = WordCloud(width=700,height=300,background_color=\"white\", max_words=30, font_path='gdrive/MyDrive/NLP_Project/Roboto-Bold.ttf',\n",
        "                   stopwords=stop_words, max_font_size=200,collocations = False, random_state=42)\n",
        "    # Générer et afficher le nuage de mots\n",
        "    plt.figure(figsize= (15,20))\n",
        "    wc.generate_from_frequencies(text)\n",
        "    plt.imshow(wc, interpolation=\"bilinear\")\n",
        "    plt.axis(\"off\")\n",
        "    plt.show()\n",
        "\n",
        "\n",
        "def getFrequencyDictForText(sentence):\n",
        "    fullTermsDict = multidict.MultiDict()\n",
        "    tmpDict = {}\n",
        "\n",
        "    # making dict for counting frequencies\n",
        "    for text in sentence.split(\" \"):\n",
        "        if re.match(\"a|the|an|the|to|in|for|of|or|by|with|is|on|that|be|=|\\[|\\]$|#|\\*$|removed\\]|her\\*|&\", text):\n",
        "            continue\n",
        "        val = tmpDict.get(text, 0)\n",
        "        tmpDict[text.lower()] = val + 1\n",
        "    for key in tmpDict:\n",
        "        fullTermsDict.add(key, tmpDict[key])\n",
        "    return fullTermsDict\n",
        "# Faire un nuage de mot \n",
        "# Analyser les langues des tweets \n",
        "stop_words = stopwords.words('english')\n",
        "freq_dict = {}\n",
        "for sent in database['tweet'].values:\n",
        "  freq_dict.update(getFrequencyDictForText(sent))\n",
        "\n",
        "plot_word_cloud(freq_dict)"
      ],
      "execution_count": null,
      "outputs": [
        {
          "output_type": "stream",
          "text": [
            "Requirement already satisfied: multidict in /usr/local/lib/python3.7/dist-packages (5.1.0)\n"
          ],
          "name": "stdout"
        },
        {
          "output_type": "display_data",
          "data": {
            "image/png": "[encoded data removed]",
            "text/plain": [
              "<Figure size 1080x1440 with 1 Axes>"
            ]
          },
          "metadata": {
            "tags": []
          }
        }
      ]
    },
    {
      "cell_type": "markdown",
      "metadata": {
        "id": "QhkPfednMid9"
      },
      "source": [
        "## Valeurs manquantes "
      ]
    },
    {
      "cell_type": "code",
      "metadata": {
        "id": "eguFOr4vMid-",
        "colab": {
          "base_uri": "https://localhost:8080/"
        },
        "outputId": "59b93223-8d3a-4d7c-dcb9-19964232f22a"
      },
      "source": [
        "database.isna().sum()"
      ],
      "execution_count": null,
      "outputs": [
        {
          "output_type": "execute_result",
          "data": {
            "text/plain": [
              "unit_id                                                                                                                                                 0\n",
              "golden                                                                                                                                                  0\n",
              "unit_state                                                                                                                                              0\n",
              "trusted_judgments                                                                                                                                       0\n",
              "last_judgment_at                                                                                                                                       69\n",
              "q1                                                                                                                                                      0\n",
              "q1_confidence                                                                                                                                           0\n",
              "q2                                                                                                                                                      0\n",
              "q2_confidence                                                                                                                                           0\n",
              "orig_golden                                                                                                                                          1090\n",
              "internal_id                                                                                                                                             0\n",
              "orig_q1_from_reading_the_tweet_which_of_the_options_below_is_most_likely_to_be_true_about_the_stance_or_outlook_of_the_tweeter_towards_the_target    1159\n",
              "q1_from_reading_the_tweet_which_of_the_options_below_is_most_likely_to_be_true_about_the_stance_or_outlook_of_the_tweeter_towards_the_target_gold    1090\n",
              "orig_q2_which_of_the_options_below_is_true_about_the_opinion_in_the_tweet                                                                            1159\n",
              "target                                                                                                                                                  0\n",
              "tweet                                                                                                                                                   0\n",
              "tweet_id                                                                                                                                                0\n",
              "q1r                                                                                                                                                     0\n",
              "dtype: int64"
            ]
          },
          "metadata": {
            "tags": []
          },
          "execution_count": 217
        }
      ]
    },
    {
      "cell_type": "markdown",
      "metadata": {
        "id": "GBKPD3wjMieA"
      },
      "source": [
        "# 2) Word2Vec"
      ]
    },
    {
      "cell_type": "code",
      "metadata": {
        "id": "wG8uQN9VMieB",
        "colab": {
          "base_uri": "https://localhost:8080/"
        },
        "outputId": "eba8cde9-42b9-464e-a13b-2cb9c4b45ae2"
      },
      "source": [
        "import nltk\n",
        "from tqdm import tqdm\n",
        "from gensim.models import Word2Vec\n",
        "from multiprocessing import cpu_count\n",
        "from gensim.models.phrases import Phrases, Phraser\n",
        "from gensim.models.phrases import Phrases, Phraser\n",
        "from nltk.tokenize import TreebankWordTokenizer, TweetTokenizer\n",
        "nltk.download('punkt')\n",
        "sent_detector = nltk.data.load('tokenizers/punkt/english.pickle')\n",
        "\n",
        "from sklearn.feature_extraction.text import CountVectorizer\n",
        "from sklearn import preprocessing"
      ],
      "execution_count": null,
      "outputs": [
        {
          "output_type": "stream",
          "text": [
            "[nltk_data] Downloading package punkt to /root/nltk_data...\n",
            "[nltk_data]   Package punkt is already up-to-date!\n"
          ],
          "name": "stdout"
        }
      ]
    },
    {
      "cell_type": "markdown",
      "metadata": {
        "id": "sqOppYfTMieC"
      },
      "source": [
        "## Text cleaning"
      ]
    },
    {
      "cell_type": "code",
      "metadata": {
        "id": "pGN0O87uMieC"
      },
      "source": [
        "#Suppression des hashtags\n",
        "def remove_hashtags(tokens):\n",
        "    tokens = map(lambda x: x.replace('#', ''), tokens)\n",
        "    tokens = map(lambda x: x.replace('.', ''), tokens)\n",
        "    return list(tokens)\n",
        "\n",
        "#Suppression des url\n",
        "def remove_url(tokens):\n",
        "    tokens = filter(lambda x: \"http\" not in x, tokens)\n",
        "    return list(tokens)\n",
        "\n",
        "def remove_html(tokens):\n",
        "    tokens = filter(lambda x: x[0]+x[-1] != '<>', tokens)\n",
        "    return list(tokens)\n",
        "\n",
        "def tokenize_url_hashtags(corpus, tweets=False):\n",
        "    if tweets:\n",
        "        tokenizer = TweetTokenizer()\n",
        "    else:\n",
        "        tokenizer = TreebankWordTokenizer()  \n",
        "    # Life hack : treebank word tokenizer won't keep html code in one token.\n",
        "    # To preprocess economics news corpus, use tweettokenizer. \n",
        "    tokenized_sentences = []\n",
        "    for sample in tqdm(corpus):\n",
        "    # separating sentences\n",
        "        for sentence in sent_detector.tokenize(sample):\n",
        "            tokens = tokenizer.tokenize(sentence)\n",
        "            tokens = remove_url(tokens)\n",
        "            tokens = remove_html(tokens)\n",
        "            tokens = remove_hashtags(tokens)\n",
        "            tokens = list(map(lambda x: x.lower(), tokens))\n",
        "            tokenized_sentences.append(tokens)\n",
        "    return tokenized_sentences\n",
        "\n",
        "\n",
        "def clean_corpus(corpus, threshold=50, tweets=False):\n",
        "    tokenized_sentences = tokenize_url_hashtags(corpus, tweets=tweets)\n",
        "    phrases = Phrases(tokenized_sentences, threshold=threshold)\n",
        "\n",
        "  # This lets you use it with less RAM and faster processing.\n",
        "  # But it will no longer be possible to update the detector with new training \n",
        "  # samples\n",
        "    phraser = Phraser(phrases)\n",
        "\n",
        "  # Merging multi-word expressions in the tokenization\n",
        "    clean_corpus = []\n",
        "    for sentence in tokenized_sentences:\n",
        "        clean_corpus.append(phraser[sentence])\n",
        "    return clean_corpus\n",
        "\n",
        "from gensim.models.phrases import Phrases, Phraser\n",
        "\n",
        "def show_phrases(tokenized_sentences, threshold=10, shown=15):\n",
        "  # Training the multi-word expression detector\n",
        "  phrases = Phrases(tokenized_sentences, threshold=threshold)\n",
        "  i = 0\n",
        "  for phrase, score in phrases.export_phrases(tokenized_sentences):\n",
        "    if i>shown:\n",
        "      break\n",
        "    else:\n",
        "      print(\"Expression : {0}, score = {1}\".format(phrase, score))\n",
        "    i=i+1\n",
        "\n",
        "def detokenize_url_hashtags(corpus):\n",
        "    tokenizer = TweetTokenizer() \n",
        "    # Life hack : treebank word tokenizer won't keep html code in one token.\n",
        "    # To preprocess economics news corpus, use tweettokenizer. \n",
        "    tokenized_sentences = []\n",
        "    for sample in tqdm(corpus):\n",
        "          tokens = tokenizer.tokenize(sample)\n",
        "          tokens = remove_url(tokens)\n",
        "          tokens = remove_html(tokens)\n",
        "          tokens = remove_hashtags(tokens)\n",
        "          tokens = list(map(lambda x: x.lower(), tokens))\n",
        "          tokenized_sentences.append(' '.join(tokens))\n",
        "    return tokenized_sentences\n",
        "\n",
        "def clean_corpus2(corpus, threshold=50):\n",
        "    tokenized_sentences = tokenize_url_hashtags(corpus)\n",
        "    phrases = Phrases(tokenized_sentences, threshold=threshold)\n",
        "\n",
        "    phraser = Phraser(phrases)\n",
        "\n",
        "    clean_corpus = []\n",
        "    for sentence in tokenized_sentences:\n",
        "        clean_corpus.append(phraser[sentence])\n",
        "    return clean_corpus"
      ],
      "execution_count": null,
      "outputs": []
    },
    {
      "cell_type": "code",
      "metadata": {
        "id": "WtRnzStVMieE",
        "colab": {
          "base_uri": "https://localhost:8080/"
        },
        "outputId": "97807edf-49f2-4440-ca93-5deeacea2b48"
      },
      "source": [
        "cleaned_pol = tokenize_url_hashtags(database.tweet.array, tweets=True)\n",
        "print('number of pol:', len(cleaned_pol))"
      ],
      "execution_count": null,
      "outputs": [
        {
          "output_type": "stream",
          "text": [
            "100%|██████████| 1159/1159 [00:00<00:00, 6568.27it/s]"
          ],
          "name": "stderr"
        },
        {
          "output_type": "stream",
          "text": [
            "number of pol: 2134\n"
          ],
          "name": "stdout"
        },
        {
          "output_type": "stream",
          "text": [
            "\n"
          ],
          "name": "stderr"
        }
      ]
    },
    {
      "cell_type": "code",
      "metadata": {
        "id": "YYs_c2MQO51W",
        "colab": {
          "base_uri": "https://localhost:8080/"
        },
        "outputId": "44d9dfe8-333a-4b66-a68c-354ee1784de0"
      },
      "source": [
        "cleaned_tweets = detokenize_url_hashtags(database.tweet)"
      ],
      "execution_count": null,
      "outputs": [
        {
          "output_type": "stream",
          "text": [
            "100%|██████████| 1159/1159 [00:00<00:00, 12440.40it/s]\n"
          ],
          "name": "stderr"
        }
      ]
    },
    {
      "cell_type": "code",
      "metadata": {
        "id": "oFILw87ZO765"
      },
      "source": [
        "database['cleaned_tweets']=cleaned_tweets"
      ],
      "execution_count": null,
      "outputs": []
    },
    {
      "cell_type": "code",
      "metadata": {
        "id": "JwHPcA60MieF",
        "colab": {
          "base_uri": "https://localhost:8080/"
        },
        "outputId": "60db2955-b25b-479e-d61a-f18ee658bd42"
      },
      "source": [
        "show_phrases(cleaned_pol, threshold=10)"
      ],
      "execution_count": null,
      "outputs": [
        {
          "output_type": "stream",
          "text": [
            "Expression : b'the same', score = 19.070697220867867\n",
            "Expression : b'pray for', score = 25.283775048480933\n",
            "Expression : b'to kill', score = 13.837499999999999\n",
            "Expression : b'i am', score = 49.463229571984435\n",
            "Expression : b'want to', score = 11.616666666666667\n",
            "Expression : b'i am', score = 49.463229571984435\n",
            "Expression : b'no matter', score = 60.73602484472049\n",
            "Expression : b'people who', score = 39.803934871099045\n",
            "Expression : b'have been', score = 10.651960784313724\n",
            "Expression : b'ready for', score = 44.821237585943464\n",
            "Expression : b'marcorubio in', score = 36.77115229653505\n",
            "Expression : b'a woman', score = 18.246564885496184\n",
            "Expression : b'hillary clinton', score = 122.57948717948719\n",
            "Expression : b'too many', score = 75.21923076923078\n",
            "Expression : b'too many', score = 75.21923076923078\n",
            "Expression : b'the same', score = 19.070697220867867\n"
          ],
          "name": "stdout"
        }
      ]
    },
    {
      "cell_type": "code",
      "metadata": {
        "id": "LjjNAYgeMieE",
        "colab": {
          "base_uri": "https://localhost:8080/"
        },
        "outputId": "9197f52d-abc0-4e0b-88bb-b30a226ddf75"
      },
      "source": [
        "print(cleaned_pol[106]) "
      ],
      "execution_count": null,
      "outputs": [
        {
          "output_type": "stream",
          "text": [
            "[\"it's\", 'time', 'that', 'we', 'move', 'from', 'good', 'words', '2', 'good', 'works', ',', 'from', 'sound', 'bites', '2', 'sound', 'solutions', 'hillary', 'clinton', 'hillaryclinton']\n"
          ],
          "name": "stdout"
        }
      ]
    },
    {
      "cell_type": "markdown",
      "metadata": {
        "id": "c-5KhFoqNzdQ"
      },
      "source": [
        "Hillary Clinton is a multilingual expression. According to the following tweet, it was indeed considered so. "
      ]
    },
    {
      "cell_type": "markdown",
      "metadata": {
        "id": "AC6cp9HmMieG"
      },
      "source": [
        "## Training Word2Vec model \n"
      ]
    },
    {
      "cell_type": "code",
      "metadata": {
        "id": "21738c-zMieH",
        "colab": {
          "base_uri": "https://localhost:8080/"
        },
        "outputId": "223d0319-c361-4c6a-a50a-d3fd6592f817"
      },
      "source": [
        "cpu = cpu_count()\n",
        "print('The virtual instance has {} cpus, that will be used to train the word2vec model'.format(cpu))"
      ],
      "execution_count": null,
      "outputs": [
        {
          "output_type": "stream",
          "text": [
            "The virtual instance has 2 cpus, that will be used to train the word2vec model\n"
          ],
          "name": "stdout"
        }
      ]
    },
    {
      "cell_type": "code",
      "metadata": {
        "id": "kciJftvIMieH",
        "colab": {
          "base_uri": "https://localhost:8080/"
        },
        "outputId": "07e1f731-b886-4e63-e6f8-1ac1edaf3d0d"
      },
      "source": [
        "# We will just get the \"WordVectors\" parameter from the trained Word2Vec model.\n",
        "# Otherwise, we could continue training with some more exemples that could be\n",
        "# fed on the fly to the model.\n",
        "print(\"Training the political W2V ...\")\n",
        "pol = Word2Vec(cleaned_pol, size=100, window=5, min_count=1, workers=cpu, sg=0)\n",
        "pol.train(cleaned_pol, total_examples=len(cleaned_pol), epochs=100)\n",
        "pol_wv = pol.wv"
      ],
      "execution_count": null,
      "outputs": [
        {
          "output_type": "stream",
          "text": [
            "Training the political W2V ...\n"
          ],
          "name": "stdout"
        }
      ]
    },
    {
      "cell_type": "code",
      "metadata": {
        "id": "oAjMnvPRMieI"
      },
      "source": [
        "def tokens2vectors(tokenCorpus, trained_word2vec, dim=100):\n",
        "    new_sample = list()\n",
        "    for sample in tokenCorpus:\n",
        "        tweetVecs = list()\n",
        "        for token in sample.split(' '):\n",
        "            try: tweetVecs.append(trained_word2vec.get_vector(token)  )\n",
        "            except: tweetVecs.append( np.zeros(dim) ) \n",
        "        new_sample.append(np.mean(tweetVecs, axis=0))\n",
        "    return np.array(new_sample)"
      ],
      "execution_count": null,
      "outputs": []
    },
    {
      "cell_type": "code",
      "metadata": {
        "id": "muXOV45JMieJ",
        "colab": {
          "base_uri": "https://localhost:8080/"
        },
        "outputId": "b9896133-860e-45bb-c8d7-4587351fa5a4"
      },
      "source": [
        "X = tokens2vectors(database.loc[:, \"tweet\"], pol_wv)\n",
        "print(X.shape)\n",
        "print(len(database.loc[:, \"tweet\"]))"
      ],
      "execution_count": null,
      "outputs": [
        {
          "output_type": "stream",
          "text": [
            "(1159, 100)\n",
            "1159\n"
          ],
          "name": "stdout"
        }
      ]
    },
    {
      "cell_type": "code",
      "metadata": {
        "id": "NqH2WYbuPaRz",
        "colab": {
          "base_uri": "https://localhost:8080/"
        },
        "outputId": "7e4b65f3-edbd-4105-b770-8bafa8d812f6"
      },
      "source": [
        "print(X)"
      ],
      "execution_count": null,
      "outputs": [
        {
          "output_type": "stream",
          "text": [
            "[[-0.03761096  0.09020913  0.35451519 ...  0.00703612  0.3112482\n",
            "   0.64487062]\n",
            " [ 0.00244321  0.06173131  0.44070381 ... -0.19130145 -0.3203484\n",
            "   0.01160153]\n",
            " [-0.03748266  0.10162174  0.33778896 ...  0.46077756  0.41992016\n",
            "   0.10389539]\n",
            " ...\n",
            " [-0.17044922  0.14558596  0.26151944 ...  0.03106213  0.15946563\n",
            "   0.0278331 ]\n",
            " [-0.06933485  0.25518062  0.17470395 ... -0.0566236   0.37166669\n",
            "   0.29277746]\n",
            " [-0.38870319  0.29793313  0.2094042  ...  0.2267975  -0.01161576\n",
            "   0.74975769]]\n"
          ],
          "name": "stdout"
        }
      ]
    },
    {
      "cell_type": "markdown",
      "metadata": {
        "id": "WFhH-PqbPuTb"
      },
      "source": [
        "## Sentiment models"
      ]
    },
    {
      "cell_type": "code",
      "metadata": {
        "id": "SkZ79nNUPd7O"
      },
      "source": [
        "Xseries = pd.DataFrame(X)"
      ],
      "execution_count": null,
      "outputs": []
    },
    {
      "cell_type": "markdown",
      "metadata": {
        "id": "oUvUi0zLPe0B"
      },
      "source": [
        "### Train test split"
      ]
    },
    {
      "cell_type": "code",
      "metadata": {
        "id": "tktuTKzOP1gX"
      },
      "source": [
        "le = preprocessing.LabelEncoder()\n",
        "database['q1rE'] = le.fit_transform(database.q1r)\n",
        "\n",
        "X_train, X_1, y_train, y_1, idx_train, idxx = train_test_split(Xseries, database.q1rE, np.arange(len(database)), test_size=0.33, random_state=42)\n",
        "train_df = pd.DataFrame(X_train, y_train)\n",
        "\n",
        "X_val, X_test, y_val, y_test, idx_val, idx_test = train_test_split(X_1, y_1,idxx,  test_size=0.5, random_state=42)\n",
        "test_df = pd.DataFrame(X_test, y_test)\n",
        "val_df = pd.DataFrame(X_val, y_val)"
      ],
      "execution_count": null,
      "outputs": []
    },
    {
      "cell_type": "code",
      "metadata": {
        "id": "Ge2McupHQ7fD",
        "colab": {
          "base_uri": "https://localhost:8080/"
        },
        "outputId": "6fe5b827-ef04-4ae1-b128-01ed0b8630bf"
      },
      "source": [
        "le_classes = le.classes_\n",
        "le_classes"
      ],
      "execution_count": null,
      "outputs": [
        {
          "output_type": "execute_result",
          "data": {
            "text/plain": [
              "array(['AGAINST', 'FOR', 'NEUTRAL', 'NONE OF THE ABOVE'], dtype=object)"
            ]
          },
          "metadata": {
            "tags": []
          },
          "execution_count": 232
        }
      ]
    },
    {
      "cell_type": "code",
      "metadata": {
        "id": "JgcMFx_oQ_8_",
        "colab": {
          "base_uri": "https://localhost:8080/"
        },
        "outputId": "d348922e-5c7b-4a04-e2a8-cab97f767bba"
      },
      "source": [
        "print(train_df.shape, val_df.shape, test_df.shape)"
      ],
      "execution_count": null,
      "outputs": [
        {
          "output_type": "stream",
          "text": [
            "(776, 100) (191, 100) (192, 100)\n"
          ],
          "name": "stdout"
        }
      ]
    },
    {
      "cell_type": "code",
      "metadata": {
        "id": "spGn2T1hRDPb",
        "colab": {
          "base_uri": "https://localhost:8080/",
          "height": 244
        },
        "outputId": "f431940e-94a6-4300-b14f-0ab213dc80ac"
      },
      "source": [
        "X_train.head()"
      ],
      "execution_count": null,
      "outputs": [
        {
          "output_type": "execute_result",
          "data": {
            "text/html": [
              "<div>\n",
              "<style scoped>\n",
              "    .dataframe tbody tr th:only-of-type {\n",
              "        vertical-align: middle;\n",
              "    }\n",
              "\n",
              "    .dataframe tbody tr th {\n",
              "        vertical-align: top;\n",
              "    }\n",
              "\n",
              "    .dataframe thead th {\n",
              "        text-align: right;\n",
              "    }\n",
              "</style>\n",
              "<table border=\"1\" class=\"dataframe\">\n",
              "  <thead>\n",
              "    <tr style=\"text-align: right;\">\n",
              "      <th></th>\n",
              "      <th>0</th>\n",
              "      <th>1</th>\n",
              "      <th>2</th>\n",
              "      <th>3</th>\n",
              "      <th>4</th>\n",
              "      <th>5</th>\n",
              "      <th>6</th>\n",
              "      <th>7</th>\n",
              "      <th>8</th>\n",
              "      <th>9</th>\n",
              "      <th>10</th>\n",
              "      <th>11</th>\n",
              "      <th>12</th>\n",
              "      <th>13</th>\n",
              "      <th>14</th>\n",
              "      <th>15</th>\n",
              "      <th>16</th>\n",
              "      <th>17</th>\n",
              "      <th>18</th>\n",
              "      <th>19</th>\n",
              "      <th>20</th>\n",
              "      <th>21</th>\n",
              "      <th>22</th>\n",
              "      <th>23</th>\n",
              "      <th>24</th>\n",
              "      <th>25</th>\n",
              "      <th>26</th>\n",
              "      <th>27</th>\n",
              "      <th>28</th>\n",
              "      <th>29</th>\n",
              "      <th>30</th>\n",
              "      <th>31</th>\n",
              "      <th>32</th>\n",
              "      <th>33</th>\n",
              "      <th>34</th>\n",
              "      <th>35</th>\n",
              "      <th>36</th>\n",
              "      <th>37</th>\n",
              "      <th>38</th>\n",
              "      <th>39</th>\n",
              "      <th>...</th>\n",
              "      <th>60</th>\n",
              "      <th>61</th>\n",
              "      <th>62</th>\n",
              "      <th>63</th>\n",
              "      <th>64</th>\n",
              "      <th>65</th>\n",
              "      <th>66</th>\n",
              "      <th>67</th>\n",
              "      <th>68</th>\n",
              "      <th>69</th>\n",
              "      <th>70</th>\n",
              "      <th>71</th>\n",
              "      <th>72</th>\n",
              "      <th>73</th>\n",
              "      <th>74</th>\n",
              "      <th>75</th>\n",
              "      <th>76</th>\n",
              "      <th>77</th>\n",
              "      <th>78</th>\n",
              "      <th>79</th>\n",
              "      <th>80</th>\n",
              "      <th>81</th>\n",
              "      <th>82</th>\n",
              "      <th>83</th>\n",
              "      <th>84</th>\n",
              "      <th>85</th>\n",
              "      <th>86</th>\n",
              "      <th>87</th>\n",
              "      <th>88</th>\n",
              "      <th>89</th>\n",
              "      <th>90</th>\n",
              "      <th>91</th>\n",
              "      <th>92</th>\n",
              "      <th>93</th>\n",
              "      <th>94</th>\n",
              "      <th>95</th>\n",
              "      <th>96</th>\n",
              "      <th>97</th>\n",
              "      <th>98</th>\n",
              "      <th>99</th>\n",
              "    </tr>\n",
              "  </thead>\n",
              "  <tbody>\n",
              "    <tr>\n",
              "      <th>254</th>\n",
              "      <td>-0.280933</td>\n",
              "      <td>0.465987</td>\n",
              "      <td>0.333721</td>\n",
              "      <td>-0.366071</td>\n",
              "      <td>0.023209</td>\n",
              "      <td>0.085242</td>\n",
              "      <td>0.076369</td>\n",
              "      <td>-0.407559</td>\n",
              "      <td>-0.109585</td>\n",
              "      <td>-0.345017</td>\n",
              "      <td>0.132137</td>\n",
              "      <td>-0.171983</td>\n",
              "      <td>0.060339</td>\n",
              "      <td>-0.121580</td>\n",
              "      <td>0.070466</td>\n",
              "      <td>0.005507</td>\n",
              "      <td>0.183104</td>\n",
              "      <td>-0.484523</td>\n",
              "      <td>0.058208</td>\n",
              "      <td>0.077478</td>\n",
              "      <td>0.018413</td>\n",
              "      <td>-0.350091</td>\n",
              "      <td>-0.254845</td>\n",
              "      <td>-0.133311</td>\n",
              "      <td>-0.166461</td>\n",
              "      <td>-0.184851</td>\n",
              "      <td>0.210750</td>\n",
              "      <td>0.079313</td>\n",
              "      <td>-0.016620</td>\n",
              "      <td>-0.107974</td>\n",
              "      <td>-0.121726</td>\n",
              "      <td>0.080847</td>\n",
              "      <td>0.089969</td>\n",
              "      <td>-0.092673</td>\n",
              "      <td>-0.092305</td>\n",
              "      <td>0.180109</td>\n",
              "      <td>0.111090</td>\n",
              "      <td>0.352969</td>\n",
              "      <td>0.317004</td>\n",
              "      <td>-0.119615</td>\n",
              "      <td>...</td>\n",
              "      <td>-0.151647</td>\n",
              "      <td>-0.046147</td>\n",
              "      <td>0.201566</td>\n",
              "      <td>-0.231454</td>\n",
              "      <td>0.176279</td>\n",
              "      <td>-0.008181</td>\n",
              "      <td>-0.119900</td>\n",
              "      <td>0.181870</td>\n",
              "      <td>-0.276439</td>\n",
              "      <td>-0.669164</td>\n",
              "      <td>-0.249587</td>\n",
              "      <td>-0.115770</td>\n",
              "      <td>-0.217403</td>\n",
              "      <td>-0.314232</td>\n",
              "      <td>-0.121545</td>\n",
              "      <td>0.570825</td>\n",
              "      <td>-0.201249</td>\n",
              "      <td>-0.221405</td>\n",
              "      <td>-0.056467</td>\n",
              "      <td>-0.015537</td>\n",
              "      <td>0.262113</td>\n",
              "      <td>0.130279</td>\n",
              "      <td>0.220679</td>\n",
              "      <td>0.297082</td>\n",
              "      <td>0.104610</td>\n",
              "      <td>-0.243266</td>\n",
              "      <td>-0.031876</td>\n",
              "      <td>0.020997</td>\n",
              "      <td>0.006500</td>\n",
              "      <td>-0.215606</td>\n",
              "      <td>-0.420542</td>\n",
              "      <td>-0.265852</td>\n",
              "      <td>-0.043863</td>\n",
              "      <td>0.230665</td>\n",
              "      <td>0.006978</td>\n",
              "      <td>-0.052351</td>\n",
              "      <td>0.250017</td>\n",
              "      <td>0.133587</td>\n",
              "      <td>-0.063536</td>\n",
              "      <td>0.280168</td>\n",
              "    </tr>\n",
              "    <tr>\n",
              "      <th>881</th>\n",
              "      <td>-0.125200</td>\n",
              "      <td>0.280737</td>\n",
              "      <td>0.258233</td>\n",
              "      <td>-0.552306</td>\n",
              "      <td>0.231725</td>\n",
              "      <td>0.321058</td>\n",
              "      <td>0.193599</td>\n",
              "      <td>-0.054897</td>\n",
              "      <td>-0.031658</td>\n",
              "      <td>-0.502294</td>\n",
              "      <td>0.318017</td>\n",
              "      <td>0.218063</td>\n",
              "      <td>-0.071344</td>\n",
              "      <td>-0.383464</td>\n",
              "      <td>0.456419</td>\n",
              "      <td>-0.231007</td>\n",
              "      <td>0.459239</td>\n",
              "      <td>-0.379478</td>\n",
              "      <td>0.504288</td>\n",
              "      <td>0.094471</td>\n",
              "      <td>0.584499</td>\n",
              "      <td>-0.307988</td>\n",
              "      <td>-0.376000</td>\n",
              "      <td>-0.225896</td>\n",
              "      <td>-0.294056</td>\n",
              "      <td>0.014108</td>\n",
              "      <td>0.190175</td>\n",
              "      <td>-0.105348</td>\n",
              "      <td>0.063606</td>\n",
              "      <td>0.009552</td>\n",
              "      <td>-0.395595</td>\n",
              "      <td>0.015764</td>\n",
              "      <td>0.172797</td>\n",
              "      <td>-0.013317</td>\n",
              "      <td>-0.219544</td>\n",
              "      <td>0.236243</td>\n",
              "      <td>-0.112928</td>\n",
              "      <td>0.275314</td>\n",
              "      <td>0.619687</td>\n",
              "      <td>-0.070419</td>\n",
              "      <td>...</td>\n",
              "      <td>-0.105670</td>\n",
              "      <td>-0.357374</td>\n",
              "      <td>0.365882</td>\n",
              "      <td>0.137615</td>\n",
              "      <td>0.198863</td>\n",
              "      <td>0.019714</td>\n",
              "      <td>-0.078197</td>\n",
              "      <td>-0.087221</td>\n",
              "      <td>-0.250718</td>\n",
              "      <td>-0.486853</td>\n",
              "      <td>-0.176498</td>\n",
              "      <td>-0.083486</td>\n",
              "      <td>0.041446</td>\n",
              "      <td>-0.431989</td>\n",
              "      <td>-0.143141</td>\n",
              "      <td>0.500281</td>\n",
              "      <td>-0.568980</td>\n",
              "      <td>-0.124715</td>\n",
              "      <td>-0.042932</td>\n",
              "      <td>0.101961</td>\n",
              "      <td>0.131443</td>\n",
              "      <td>-0.350836</td>\n",
              "      <td>0.209955</td>\n",
              "      <td>-0.186913</td>\n",
              "      <td>0.144958</td>\n",
              "      <td>-0.024830</td>\n",
              "      <td>-0.185834</td>\n",
              "      <td>0.001300</td>\n",
              "      <td>0.113356</td>\n",
              "      <td>-0.138810</td>\n",
              "      <td>-0.509441</td>\n",
              "      <td>-0.360100</td>\n",
              "      <td>-0.030952</td>\n",
              "      <td>0.315341</td>\n",
              "      <td>-0.023608</td>\n",
              "      <td>-0.422252</td>\n",
              "      <td>0.485154</td>\n",
              "      <td>-0.066936</td>\n",
              "      <td>-0.000818</td>\n",
              "      <td>0.321004</td>\n",
              "    </tr>\n",
              "    <tr>\n",
              "      <th>312</th>\n",
              "      <td>-0.327678</td>\n",
              "      <td>0.477555</td>\n",
              "      <td>0.308201</td>\n",
              "      <td>-0.563821</td>\n",
              "      <td>0.186975</td>\n",
              "      <td>0.288124</td>\n",
              "      <td>0.124733</td>\n",
              "      <td>-0.319373</td>\n",
              "      <td>-0.092439</td>\n",
              "      <td>-0.475874</td>\n",
              "      <td>0.239975</td>\n",
              "      <td>-0.082558</td>\n",
              "      <td>0.281206</td>\n",
              "      <td>-0.293203</td>\n",
              "      <td>0.170351</td>\n",
              "      <td>-0.105791</td>\n",
              "      <td>0.428482</td>\n",
              "      <td>-0.542650</td>\n",
              "      <td>0.238310</td>\n",
              "      <td>0.022216</td>\n",
              "      <td>-0.054070</td>\n",
              "      <td>-0.208656</td>\n",
              "      <td>-0.175834</td>\n",
              "      <td>-0.206009</td>\n",
              "      <td>-0.334944</td>\n",
              "      <td>-0.203144</td>\n",
              "      <td>0.340048</td>\n",
              "      <td>0.025401</td>\n",
              "      <td>-0.352637</td>\n",
              "      <td>-0.089416</td>\n",
              "      <td>-0.174718</td>\n",
              "      <td>0.163488</td>\n",
              "      <td>0.098250</td>\n",
              "      <td>0.249251</td>\n",
              "      <td>-0.237938</td>\n",
              "      <td>0.217620</td>\n",
              "      <td>-0.148573</td>\n",
              "      <td>0.085049</td>\n",
              "      <td>0.314359</td>\n",
              "      <td>-0.040665</td>\n",
              "      <td>...</td>\n",
              "      <td>-0.152029</td>\n",
              "      <td>-0.369345</td>\n",
              "      <td>0.107517</td>\n",
              "      <td>0.078818</td>\n",
              "      <td>0.027507</td>\n",
              "      <td>-0.081453</td>\n",
              "      <td>-0.156403</td>\n",
              "      <td>0.399321</td>\n",
              "      <td>-0.412695</td>\n",
              "      <td>-0.717464</td>\n",
              "      <td>-0.143015</td>\n",
              "      <td>-0.115222</td>\n",
              "      <td>-0.356504</td>\n",
              "      <td>-0.497374</td>\n",
              "      <td>-0.134912</td>\n",
              "      <td>0.435628</td>\n",
              "      <td>-0.251400</td>\n",
              "      <td>-0.065016</td>\n",
              "      <td>-0.016455</td>\n",
              "      <td>-0.062483</td>\n",
              "      <td>0.237794</td>\n",
              "      <td>0.113003</td>\n",
              "      <td>0.399250</td>\n",
              "      <td>0.308019</td>\n",
              "      <td>-0.116358</td>\n",
              "      <td>-0.100642</td>\n",
              "      <td>-0.142825</td>\n",
              "      <td>-0.081828</td>\n",
              "      <td>-0.024258</td>\n",
              "      <td>-0.096147</td>\n",
              "      <td>-0.279328</td>\n",
              "      <td>-0.441651</td>\n",
              "      <td>-0.107570</td>\n",
              "      <td>0.489549</td>\n",
              "      <td>0.112684</td>\n",
              "      <td>-0.090452</td>\n",
              "      <td>0.310660</td>\n",
              "      <td>0.011111</td>\n",
              "      <td>0.086265</td>\n",
              "      <td>-0.019359</td>\n",
              "    </tr>\n",
              "    <tr>\n",
              "      <th>451</th>\n",
              "      <td>-0.879477</td>\n",
              "      <td>0.474133</td>\n",
              "      <td>0.487268</td>\n",
              "      <td>-0.557664</td>\n",
              "      <td>0.028019</td>\n",
              "      <td>0.292079</td>\n",
              "      <td>0.616811</td>\n",
              "      <td>-0.655217</td>\n",
              "      <td>-0.306107</td>\n",
              "      <td>-0.685360</td>\n",
              "      <td>0.493131</td>\n",
              "      <td>-0.434374</td>\n",
              "      <td>-0.019663</td>\n",
              "      <td>-0.050866</td>\n",
              "      <td>-0.031262</td>\n",
              "      <td>0.234732</td>\n",
              "      <td>0.434949</td>\n",
              "      <td>-0.404190</td>\n",
              "      <td>-0.057863</td>\n",
              "      <td>0.003972</td>\n",
              "      <td>0.104644</td>\n",
              "      <td>-0.196835</td>\n",
              "      <td>-0.413069</td>\n",
              "      <td>-0.070253</td>\n",
              "      <td>-0.319631</td>\n",
              "      <td>-0.380405</td>\n",
              "      <td>0.404955</td>\n",
              "      <td>-0.049830</td>\n",
              "      <td>0.282982</td>\n",
              "      <td>0.102238</td>\n",
              "      <td>-0.468842</td>\n",
              "      <td>0.256815</td>\n",
              "      <td>0.089816</td>\n",
              "      <td>-0.013912</td>\n",
              "      <td>-0.057166</td>\n",
              "      <td>0.075009</td>\n",
              "      <td>-0.011804</td>\n",
              "      <td>0.171859</td>\n",
              "      <td>0.141670</td>\n",
              "      <td>0.037261</td>\n",
              "      <td>...</td>\n",
              "      <td>-0.139466</td>\n",
              "      <td>-0.105372</td>\n",
              "      <td>0.280371</td>\n",
              "      <td>-0.524961</td>\n",
              "      <td>0.152065</td>\n",
              "      <td>0.011376</td>\n",
              "      <td>-0.156704</td>\n",
              "      <td>0.085381</td>\n",
              "      <td>-0.033870</td>\n",
              "      <td>-0.577298</td>\n",
              "      <td>-0.156252</td>\n",
              "      <td>-0.357051</td>\n",
              "      <td>0.133658</td>\n",
              "      <td>-0.173276</td>\n",
              "      <td>-0.277820</td>\n",
              "      <td>0.371640</td>\n",
              "      <td>-0.168428</td>\n",
              "      <td>-0.246618</td>\n",
              "      <td>0.029613</td>\n",
              "      <td>-0.152771</td>\n",
              "      <td>0.739487</td>\n",
              "      <td>-0.060196</td>\n",
              "      <td>0.297444</td>\n",
              "      <td>0.402315</td>\n",
              "      <td>-0.151857</td>\n",
              "      <td>-0.362677</td>\n",
              "      <td>0.008279</td>\n",
              "      <td>-0.197040</td>\n",
              "      <td>-0.151142</td>\n",
              "      <td>-0.453686</td>\n",
              "      <td>-0.416922</td>\n",
              "      <td>-0.274118</td>\n",
              "      <td>0.052754</td>\n",
              "      <td>-0.259255</td>\n",
              "      <td>0.298934</td>\n",
              "      <td>-0.287854</td>\n",
              "      <td>0.408048</td>\n",
              "      <td>0.214507</td>\n",
              "      <td>-0.036935</td>\n",
              "      <td>0.187185</td>\n",
              "    </tr>\n",
              "    <tr>\n",
              "      <th>221</th>\n",
              "      <td>-0.317453</td>\n",
              "      <td>0.186028</td>\n",
              "      <td>0.275140</td>\n",
              "      <td>-0.639119</td>\n",
              "      <td>-0.265714</td>\n",
              "      <td>0.169861</td>\n",
              "      <td>0.215293</td>\n",
              "      <td>-0.977982</td>\n",
              "      <td>-0.435608</td>\n",
              "      <td>-0.467385</td>\n",
              "      <td>0.255271</td>\n",
              "      <td>-0.463889</td>\n",
              "      <td>0.232329</td>\n",
              "      <td>0.111549</td>\n",
              "      <td>-0.084294</td>\n",
              "      <td>0.539832</td>\n",
              "      <td>-0.088616</td>\n",
              "      <td>-0.377801</td>\n",
              "      <td>-0.315191</td>\n",
              "      <td>0.504023</td>\n",
              "      <td>-0.075096</td>\n",
              "      <td>-0.309834</td>\n",
              "      <td>-0.386371</td>\n",
              "      <td>0.022341</td>\n",
              "      <td>-0.085143</td>\n",
              "      <td>-0.259372</td>\n",
              "      <td>0.203403</td>\n",
              "      <td>0.157312</td>\n",
              "      <td>-0.113934</td>\n",
              "      <td>-0.485308</td>\n",
              "      <td>-0.237620</td>\n",
              "      <td>-0.269452</td>\n",
              "      <td>0.524210</td>\n",
              "      <td>-0.309832</td>\n",
              "      <td>-0.213167</td>\n",
              "      <td>0.112608</td>\n",
              "      <td>0.310929</td>\n",
              "      <td>-0.098370</td>\n",
              "      <td>-0.001713</td>\n",
              "      <td>0.391188</td>\n",
              "      <td>...</td>\n",
              "      <td>-0.131287</td>\n",
              "      <td>-0.134112</td>\n",
              "      <td>-0.221710</td>\n",
              "      <td>0.000018</td>\n",
              "      <td>0.351914</td>\n",
              "      <td>0.272603</td>\n",
              "      <td>-0.386775</td>\n",
              "      <td>0.163890</td>\n",
              "      <td>-0.247625</td>\n",
              "      <td>-0.769390</td>\n",
              "      <td>-0.503406</td>\n",
              "      <td>0.178066</td>\n",
              "      <td>0.451837</td>\n",
              "      <td>-0.031177</td>\n",
              "      <td>-0.465417</td>\n",
              "      <td>0.783639</td>\n",
              "      <td>-0.349833</td>\n",
              "      <td>-0.067366</td>\n",
              "      <td>0.168591</td>\n",
              "      <td>0.230297</td>\n",
              "      <td>0.174912</td>\n",
              "      <td>0.313052</td>\n",
              "      <td>0.374445</td>\n",
              "      <td>0.305066</td>\n",
              "      <td>-0.097742</td>\n",
              "      <td>-0.084009</td>\n",
              "      <td>0.028422</td>\n",
              "      <td>-0.048622</td>\n",
              "      <td>-0.331362</td>\n",
              "      <td>-0.439789</td>\n",
              "      <td>-0.729399</td>\n",
              "      <td>0.096128</td>\n",
              "      <td>0.175105</td>\n",
              "      <td>-0.239209</td>\n",
              "      <td>0.158530</td>\n",
              "      <td>-0.480054</td>\n",
              "      <td>0.020653</td>\n",
              "      <td>0.176149</td>\n",
              "      <td>0.196032</td>\n",
              "      <td>0.262695</td>\n",
              "    </tr>\n",
              "  </tbody>\n",
              "</table>\n",
              "<p>5 rows × 100 columns</p>\n",
              "</div>"
            ],
            "text/plain": [
              "           0         1         2   ...        97        98        99\n",
              "254 -0.280933  0.465987  0.333721  ...  0.133587 -0.063536  0.280168\n",
              "881 -0.125200  0.280737  0.258233  ... -0.066936 -0.000818  0.321004\n",
              "312 -0.327678  0.477555  0.308201  ...  0.011111  0.086265 -0.019359\n",
              "451 -0.879477  0.474133  0.487268  ...  0.214507 -0.036935  0.187185\n",
              "221 -0.317453  0.186028  0.275140  ...  0.176149  0.196032  0.262695\n",
              "\n",
              "[5 rows x 100 columns]"
            ]
          },
          "metadata": {
            "tags": []
          },
          "execution_count": 234
        }
      ]
    },
    {
      "cell_type": "code",
      "metadata": {
        "id": "VZwJGCbDRHaE",
        "colab": {
          "base_uri": "https://localhost:8080/"
        },
        "outputId": "8c7e9aa1-ac55-4511-f0be-35503261f7a8"
      },
      "source": [
        "y_train.head()"
      ],
      "execution_count": null,
      "outputs": [
        {
          "output_type": "execute_result",
          "data": {
            "text/plain": [
              "254    3\n",
              "881    1\n",
              "312    0\n",
              "451    1\n",
              "221    0\n",
              "Name: q1rE, dtype: int64"
            ]
          },
          "metadata": {
            "tags": []
          },
          "execution_count": 235
        }
      ]
    },
    {
      "cell_type": "code",
      "metadata": {
        "id": "BzYUPRvCRK55",
        "colab": {
          "base_uri": "https://localhost:8080/"
        },
        "outputId": "0adebe5f-9fa5-417b-baf7-3468a13585a8"
      },
      "source": [
        "models = [\n",
        "    ('knn', KNeighborsClassifier()),\n",
        "        (\"logreg\", LogisticRegression(max_iter=5000, random_state=1)),\n",
        "         (\"RF\", RandomForestClassifier(n_estimators=100, max_depth=10, random_state=1))]\n",
        "\n",
        "grids = {\"knn\" : {'knn__n_neighbors': [1, 2, 3, 4, 5]},\n",
        "        \"logreg\" : {'logreg__C': np.logspace(-2, 2, 5, base=2)\n",
        "                    }, \n",
        "         \"RF\" : {'RF__n_estimators' : np.arange(60,400,30),\n",
        "                 'RF__max_depth': np.arange(7, 13)\n",
        "                }\n",
        "        }\n",
        "\n",
        "for name, model in models:\n",
        "    pipe = Pipeline(steps=[(name, model)])\n",
        "    clf = GridSearchCV(pipe, grids[name], cv=3)\n",
        "    clf.fit(X_train, y_train) \n",
        "    print('Returned hyperparameter: {}'.format(clf.best_params_))\n",
        "    print('Best classification accuracy in train is: {}'.format(clf.best_score_))\n",
        "    print('Classification accuracy on test is: {}'.format(clf.score(X_test, y_test)))\n",
        "    print()"
      ],
      "execution_count": null,
      "outputs": [
        {
          "output_type": "stream",
          "text": [
            "Returned hyperparameter: {'knn__n_neighbors': 2}\n",
            "Best classification accuracy in train is: 0.3891832031366915\n",
            "Classification accuracy on test is: 0.390625\n",
            "\n",
            "Returned hyperparameter: {'logreg__C': 2.0}\n",
            "Best classification accuracy in train is: 0.4239472030169705\n",
            "Classification accuracy on test is: 0.4166666666666667\n",
            "\n",
            "Returned hyperparameter: {'RF__max_depth': 7, 'RF__n_estimators': 180}\n",
            "Best classification accuracy in train is: 0.4227001087466204\n",
            "Classification accuracy on test is: 0.4010416666666667\n",
            "\n"
          ],
          "name": "stdout"
        }
      ]
    },
    {
      "cell_type": "code",
      "metadata": {
        "id": "XAOrY6NPS0pF"
      },
      "source": [
        "def show_confusion_matrix(confusion_matrix, legend_text):\n",
        "  hmap = sns.heatmap(confusion_matrix, annot=True, fmt=\"d\", cmap=\"Blues\")\n",
        "  hmap.yaxis.set_ticklabels(hmap.yaxis.get_ticklabels(), rotation=0, ha='right')\n",
        "  hmap.xaxis.set_ticklabels(hmap.xaxis.get_ticklabels(), rotation=30, ha='right')\n",
        "  plt.ylabel('True '+legend_text)\n",
        "  plt.xlabel('Predicted '+legend_text)\n",
        "  plt.show()"
      ],
      "execution_count": null,
      "outputs": []
    },
    {
      "cell_type": "code",
      "metadata": {
        "id": "Mc2MzhzpTFbP"
      },
      "source": [
        "best_logreg = LogisticRegression(max_iter=5000, C=0.5, random_state=1)\n",
        "pipe1 = Pipeline(steps=[('LogisticRegression', best_logreg)])\n",
        "pipe1.fit(X_train, y_train)\n",
        "y_pred = pipe1.predict(X_test)"
      ],
      "execution_count": null,
      "outputs": []
    },
    {
      "cell_type": "code",
      "metadata": {
        "id": "nbs0oZ4_TN2s",
        "colab": {
          "base_uri": "https://localhost:8080/",
          "height": 776
        },
        "outputId": "2383d6e9-2803-42b9-a0bb-1e054a17b36d"
      },
      "source": [
        "print(\"Balanced Accuracy:\",balanced_accuracy_score(y_test,y_pred))\n",
        "\n",
        "plt.figure(figsize=(10,8))\n",
        "cmW2V_Sent = confusion_matrix(y_test, y_pred)\n",
        "df_cmW2V_Sent = pd.DataFrame(cmW2V_Sent, index= le_classes, columns=le_classes)\n",
        "show_confusion_matrix(df_cmW2V_Sent, 'Sentiment')\n",
        "\n",
        "print(classification_report(y_test, y_pred, target_names = le_classes))"
      ],
      "execution_count": null,
      "outputs": [
        {
          "output_type": "stream",
          "text": [
            "Balanced Accuracy: 0.31353820598006643\n"
          ],
          "name": "stdout"
        },
        {
          "output_type": "display_data",
          "data": {
            "image/png": "[encoded data removed]",
            "text/plain": [
              "<Figure size 720x576 with 2 Axes>"
            ]
          },
          "metadata": {
            "tags": []
          }
        },
        {
          "output_type": "stream",
          "text": [
            "                   precision    recall  f1-score   support\n",
            "\n",
            "          AGAINST       0.44      0.57      0.49        77\n",
            "              FOR       0.51      0.36      0.42        70\n",
            "          NEUTRAL       0.00      0.00      0.00         2\n",
            "NONE OF THE ABOVE       0.33      0.33      0.33        43\n",
            "\n",
            "         accuracy                           0.43       192\n",
            "        macro avg       0.32      0.31      0.31       192\n",
            "     weighted avg       0.44      0.43      0.43       192\n",
            "\n"
          ],
          "name": "stdout"
        },
        {
          "output_type": "stream",
          "text": [
            "/usr/local/lib/python3.7/dist-packages/sklearn/metrics/_classification.py:1272: UndefinedMetricWarning: Precision and F-score are ill-defined and being set to 0.0 in labels with no predicted samples. Use `zero_division` parameter to control this behavior.\n",
            "  _warn_prf(average, modifier, msg_start, len(result))\n"
          ],
          "name": "stderr"
        }
      ]
    },
    {
      "cell_type": "markdown",
      "metadata": {
        "id": "J-z0yqqcThU0"
      },
      "source": [
        "## Aspect classification"
      ]
    },
    {
      "cell_type": "code",
      "metadata": {
        "id": "wk7EZPEDTg78"
      },
      "source": [
        "leAspect = preprocessing.LabelEncoder()\n",
        "database['targetEncoded'] = leAspect.fit_transform(database.target)\n",
        "\n",
        "X_trainAspect = X[idx_train]\n",
        "y_trainAspect = database.targetEncoded[idx_train]\n",
        "\n",
        "X_valAspect = X[idx_val]\n",
        "y_valAspect = database.targetEncoded[idx_val]\n",
        "\n",
        "X_testAspect = X[idx_test]\n",
        "y_testAspect = database.targetEncoded[idx_test]\n",
        "\n",
        "trainAspect_df = pd.DataFrame(X_trainAspect, y_trainAspect)\n",
        "testAspect_df = pd.DataFrame(X_testAspect, y_testAspect)\n",
        "valAspect_df = pd.DataFrame(X_valAspect, y_valAspect)"
      ],
      "execution_count": null,
      "outputs": []
    },
    {
      "cell_type": "code",
      "metadata": {
        "id": "MSY2ljggTrew",
        "colab": {
          "base_uri": "https://localhost:8080/"
        },
        "outputId": "186a92cb-5663-4267-9318-29571b881b2f"
      },
      "source": [
        "le_classesAspect = leAspect.classes_\n",
        "le_classesAspect"
      ],
      "execution_count": null,
      "outputs": [
        {
          "output_type": "execute_result",
          "data": {
            "text/plain": [
              "array(['Atheism', 'Feminist Movement', 'Hillary Clinton',\n",
              "       'Legalization of Abortion'], dtype=object)"
            ]
          },
          "metadata": {
            "tags": []
          },
          "execution_count": 241
        }
      ]
    },
    {
      "cell_type": "code",
      "metadata": {
        "id": "7ZvrXmIeTt8G",
        "colab": {
          "base_uri": "https://localhost:8080/"
        },
        "outputId": "cbeb1da0-5cf2-43b4-fee1-1f9c65a38f30"
      },
      "source": [
        "print(trainAspect_df.shape, valAspect_df.shape, testAspect_df.shape)"
      ],
      "execution_count": null,
      "outputs": [
        {
          "output_type": "stream",
          "text": [
            "(776, 100) (191, 100) (192, 100)\n"
          ],
          "name": "stdout"
        }
      ]
    },
    {
      "cell_type": "code",
      "metadata": {
        "id": "zrz7S9ygT2UR",
        "colab": {
          "base_uri": "https://localhost:8080/"
        },
        "outputId": "224bef1f-17f6-4ef7-f028-9d12dd3f8658"
      },
      "source": [
        "for name, model in models:\n",
        "    pipe = Pipeline(steps=[(name, model)])\n",
        "    clf = GridSearchCV(pipe, grids[name], cv=3)\n",
        "    clf.fit(X_trainAspect, y_trainAspect) \n",
        "    print('Returned hyperparameter: {}'.format(clf.best_params_))\n",
        "    print('Best classification accuracy in train is: {}'.format(clf.best_score_))\n",
        "    print('Classification accuracy on test is: {}'.format(clf.score(X_testAspect, y_testAspect)))\n",
        "    print()"
      ],
      "execution_count": null,
      "outputs": [
        {
          "output_type": "stream",
          "text": [
            "Returned hyperparameter: {'knn__n_neighbors': 4}\n",
            "Best classification accuracy in train is: 0.34792433629642927\n",
            "Classification accuracy on test is: 0.3645833333333333\n",
            "\n",
            "Returned hyperparameter: {'logreg__C': 4.0}\n",
            "Best classification accuracy in train is: 0.45363303502838387\n",
            "Classification accuracy on test is: 0.4947916666666667\n",
            "\n",
            "Returned hyperparameter: {'RF__max_depth': 9, 'RF__n_estimators': 270}\n",
            "Best classification accuracy in train is: 0.43040216296030254\n",
            "Classification accuracy on test is: 0.5\n",
            "\n"
          ],
          "name": "stdout"
        }
      ]
    },
    {
      "cell_type": "code",
      "metadata": {
        "id": "bzkODuqTVJQ9",
        "colab": {
          "base_uri": "https://localhost:8080/"
        },
        "outputId": "c7b3989e-8ce1-4567-92be-7b4736b275e1"
      },
      "source": [
        "best_logreg2 = LogisticRegression(max_iter=5000, C=1.0, random_state=1)\n",
        "pipe2 = Pipeline(steps=[('LogisticRegression', best_logreg2)])\n",
        "pipe2.fit(X_trainAspect, y_trainAspect)"
      ],
      "execution_count": null,
      "outputs": [
        {
          "output_type": "execute_result",
          "data": {
            "text/plain": [
              "Pipeline(memory=None,\n",
              "         steps=[('LogisticRegression',\n",
              "                 LogisticRegression(C=1.0, class_weight=None, dual=False,\n",
              "                                    fit_intercept=True, intercept_scaling=1,\n",
              "                                    l1_ratio=None, max_iter=5000,\n",
              "                                    multi_class='auto', n_jobs=None,\n",
              "                                    penalty='l2', random_state=1,\n",
              "                                    solver='lbfgs', tol=0.0001, verbose=0,\n",
              "                                    warm_start=False))],\n",
              "         verbose=False)"
            ]
          },
          "metadata": {
            "tags": []
          },
          "execution_count": 244
        }
      ]
    },
    {
      "cell_type": "code",
      "metadata": {
        "id": "3_qPmyx_VcJx",
        "colab": {
          "base_uri": "https://localhost:8080/"
        },
        "outputId": "0a55dfa7-52e4-48bf-d3db-3821056b4236"
      },
      "source": [
        "y_predAspect = pipe2.predict(X_testAspect)\n",
        "print(\"Balanced Accuracy:\",balanced_accuracy_score(y_testAspect,y_predAspect))\n",
        "cnf_matrix = confusion_matrix(y_testAspect, y_predAspect)\n",
        "\n",
        "plt.figure(figsize=(10,8))\n",
        "cmW2V_Aspect = confusion_matrix(y_testAspect, y_predAspect)\n",
        "df_cmW2V_Aspect = pd.DataFrame(cmW2V_Aspect, index= le_classesAspect, columns=le_classesAspect)\n",
        "show_confusion_matrix(df_cmW2V_Aspect, 'Sentiment')\n",
        "\n",
        "\n",
        "print(classification_report(y_testAspect, y_predAspect, target_names = le_classesAspect))"
      ],
      "execution_count": null,
      "outputs": [
        {
          "output_type": "stream",
          "text": [
            "Balanced Accuracy: 0.4859730629539951\n"
          ],
          "name": "stdout"
        },
        {
          "output_type": "display_data",
          "data": {
            "image/png": "[encoded data removed]",
            "text/plain": [
              "<Figure size 720x576 with 2 Axes>"
            ]
          },
          "metadata": {
            "tags": []
          }
        },
        {
          "output_type": "stream",
          "text": [
            "                          precision    recall  f1-score   support\n",
            "\n",
            "                 Atheism       0.63      0.49      0.55        35\n",
            "       Feminist Movement       0.51      0.44      0.47        59\n",
            "         Hillary Clinton       0.54      0.58      0.56        50\n",
            "Legalization of Abortion       0.35      0.44      0.39        48\n",
            "\n",
            "                accuracy                           0.48       192\n",
            "               macro avg       0.51      0.49      0.49       192\n",
            "            weighted avg       0.50      0.48      0.49       192\n",
            "\n"
          ],
          "name": "stdout"
        }
      ]
    },
    {
      "cell_type": "markdown",
      "metadata": {
        "id": "hx2GhS1fMieY"
      },
      "source": [
        "# 3) BERT for Sentiment Classification"
      ]
    },
    {
      "cell_type": "markdown",
      "metadata": {
        "id": "NfMGqAqFIP-T"
      },
      "source": [
        "## Training"
      ]
    },
    {
      "cell_type": "code",
      "metadata": {
        "id": "xBKJpBkvMief",
        "colab": {
          "base_uri": "https://localhost:8080/"
        },
        "outputId": "7cb032b6-8663-488b-dd66-b389de01e04c"
      },
      "source": [
        "!pip install transformers\n",
        "import pdb\n",
        "import torch\n",
        "import torch.nn as nn\n",
        "from transformers import AutoModel, AutoTokenizer, AutoModelWithLMHead, AutoModel\n",
        "from torch.utils.data import Dataset, DataLoader, TensorDataset\n",
        "from sklearn.model_selection import train_test_split\n",
        "import torch.optim as optim"
      ],
      "execution_count": null,
      "outputs": [
        {
          "output_type": "stream",
          "text": [
            "Requirement already satisfied: transformers in /usr/local/lib/python3.7/dist-packages (4.5.1)\n",
            "Requirement already satisfied: filelock in /usr/local/lib/python3.7/dist-packages (from transformers) (3.0.12)\n",
            "Requirement already satisfied: numpy>=1.17 in /usr/local/lib/python3.7/dist-packages (from transformers) (1.19.5)\n",
            "Requirement already satisfied: requests in /usr/local/lib/python3.7/dist-packages (from transformers) (2.23.0)\n",
            "Requirement already satisfied: sacremoses in /usr/local/lib/python3.7/dist-packages (from transformers) (0.0.45)\n",
            "Requirement already satisfied: importlib-metadata; python_version < \"3.8\" in /usr/local/lib/python3.7/dist-packages (from transformers) (3.10.1)\n",
            "Requirement already satisfied: tokenizers<0.11,>=0.10.1 in /usr/local/lib/python3.7/dist-packages (from transformers) (0.10.2)\n",
            "Requirement already satisfied: regex!=2019.12.17 in /usr/local/lib/python3.7/dist-packages (from transformers) (2019.12.20)\n",
            "Requirement already satisfied: tqdm>=4.27 in /usr/local/lib/python3.7/dist-packages (from transformers) (4.41.1)\n",
            "Requirement already satisfied: packaging in /usr/local/lib/python3.7/dist-packages (from transformers) (20.9)\n",
            "Requirement already satisfied: idna<3,>=2.5 in /usr/local/lib/python3.7/dist-packages (from requests->transformers) (2.10)\n",
            "Requirement already satisfied: chardet<4,>=3.0.2 in /usr/local/lib/python3.7/dist-packages (from requests->transformers) (3.0.4)\n",
            "Requirement already satisfied: certifi>=2017.4.17 in /usr/local/lib/python3.7/dist-packages (from requests->transformers) (2020.12.5)\n",
            "Requirement already satisfied: urllib3!=1.25.0,!=1.25.1,<1.26,>=1.21.1 in /usr/local/lib/python3.7/dist-packages (from requests->transformers) (1.24.3)\n",
            "Requirement already satisfied: six in /usr/local/lib/python3.7/dist-packages (from sacremoses->transformers) (1.15.0)\n",
            "Requirement already satisfied: click in /usr/local/lib/python3.7/dist-packages (from sacremoses->transformers) (7.1.2)\n",
            "Requirement already satisfied: joblib in /usr/local/lib/python3.7/dist-packages (from sacremoses->transformers) (1.0.1)\n",
            "Requirement already satisfied: typing-extensions>=3.6.4; python_version < \"3.8\" in /usr/local/lib/python3.7/dist-packages (from importlib-metadata; python_version < \"3.8\"->transformers) (3.7.4.3)\n",
            "Requirement already satisfied: zipp>=0.5 in /usr/local/lib/python3.7/dist-packages (from importlib-metadata; python_version < \"3.8\"->transformers) (3.4.1)\n",
            "Requirement already satisfied: pyparsing>=2.0.2 in /usr/local/lib/python3.7/dist-packages (from packaging->transformers) (2.4.7)\n"
          ],
          "name": "stdout"
        }
      ]
    },
    {
      "cell_type": "code",
      "metadata": {
        "id": "-JkwpEFzMieg"
      },
      "source": [
        "X_train = database.cleaned_tweets[idx_train]\n",
        "y_train = database.q1rE[idx_train]\n",
        "\n",
        "X_val = database.cleaned_tweets[idx_val]\n",
        "y_val = database.q1rE[idx_val]\n",
        "\n",
        "X_test = database.cleaned_tweets[idx_test]\n",
        "y_test = database.q1rE[idx_test]\n",
        "\n",
        "train_df = pd.DataFrame({'sentence':X_train, 'label':y_train})\n",
        "test_df = pd.DataFrame({'sentence':X_test, 'label':y_test})\n",
        "val_df = pd.DataFrame({'sentence':X_val, 'label':y_val})"
      ],
      "execution_count": null,
      "outputs": []
    },
    {
      "cell_type": "code",
      "metadata": {
        "id": "OnhsgVkyMieh",
        "colab": {
          "base_uri": "https://localhost:8080/"
        },
        "outputId": "1d1a8d02-66c2-4d37-bfcd-c3ff3f97938f"
      },
      "source": [
        "print(train_df.shape, val_df.shape, test_df.shape)"
      ],
      "execution_count": null,
      "outputs": [
        {
          "output_type": "stream",
          "text": [
            "(776, 2) (191, 2) (192, 2)\n"
          ],
          "name": "stdout"
        }
      ]
    },
    {
      "cell_type": "code",
      "metadata": {
        "id": "fmXdTPEGMiei"
      },
      "source": [
        "class ProgressiveIssuesDataSet(Dataset):\n",
        "\n",
        "    def __init__(self, dataset, maxlen, model_name='bert-base-uncased'):\n",
        "\n",
        "        #Initialize the BERT tokenizer\n",
        "        self.tokenizer = AutoTokenizer.from_pretrained(model_name)\n",
        "        self.dataset = dataset\n",
        "        self.maxlen = maxlen\n",
        "        \n",
        "    def __len__(self):\n",
        "        return len(self.dataset)\n",
        "    \n",
        "    def __getitem__(self, index):\n",
        "        \n",
        "        #print(\"INDEX selected:\", index)\n",
        "        #Selecting the sentence and label at the specified index in the data frame\n",
        "        sentence = self.dataset.loc[index,'sentence']\n",
        "        label = self.dataset.loc[index, 'label']\n",
        "        \n",
        "       \n",
        "        #Preprocessing the text to be suitable for BERT\n",
        "        tokens = self.tokenizer.tokenize(sentence) #Tokenize the sentence\n",
        "        if self.tokenizer.cls_token is None:\n",
        "            bos_token = self.tokenizer.bos_token\n",
        "        else:\n",
        "            bos_token = self.tokenizer.cls_token\n",
        "          \n",
        "        if self.tokenizer.sep_token is None:\n",
        "            eos_token = self.tokenizer.eos_token\n",
        "        else:\n",
        "            eos_token = self.tokenizer.sep_token\n",
        "        \n",
        "        tokens = [bos_token] + tokens + [eos_token] #Insering the CLS and SEP token in the beginning and end of the sentence\n",
        "        if len(tokens) < self.maxlen:\n",
        "            tokens = tokens + [self.tokenizer.pad_token for _ in range(self.maxlen - len(tokens))] #Padding sentences\n",
        "        else:\n",
        "            tokens = tokens[:self.maxlen-1] + [eos_token] #Prunning the list to be of specified max length\n",
        "\n",
        "        tokens_ids = self.tokenizer.convert_tokens_to_ids(tokens) #Obtaining the indices of the tokens in the BERT Vocabulary\n",
        "        tokens_ids_tensor = torch.tensor(tokens_ids) #Converting the list to a pytorch tensor\n",
        "        #Obtaining the attention mask i.e a tensor containing 1s for no padded tokens and 0s for padded ones\n",
        "        attn_mask = (tokens_ids_tensor != 0).long()\n",
        "\n",
        "        return tokens_ids_tensor, attn_mask, label"
      ],
      "execution_count": null,
      "outputs": []
    },
    {
      "cell_type": "code",
      "metadata": {
        "id": "huur180AMiej"
      },
      "source": [
        "#Creating instances of training and validation set\n",
        "train_set = ProgressiveIssuesDataSet(train_df.reset_index(drop=True), maxlen=30,  model_name='bert-base-uncased')\n",
        "val_set = ProgressiveIssuesDataSet(val_df.reset_index(drop=True), maxlen=30, model_name='bert-base-uncased')\n",
        "test_set = ProgressiveIssuesDataSet(test_df.reset_index(drop=True), maxlen=30, model_name='bert-base-uncased')"
      ],
      "execution_count": null,
      "outputs": []
    },
    {
      "cell_type": "code",
      "metadata": {
        "id": "fGJFQkthMiek",
        "colab": {
          "base_uri": "https://localhost:8080/",
          "height": 52
        },
        "outputId": "0ad7c818-fbf6-468a-cd09-05e996dd1395"
      },
      "source": [
        "train_set.dataset.loc[0, 'sentence']"
      ],
      "execution_count": null,
      "outputs": [
        {
          "output_type": "execute_result",
          "data": {
            "application/vnd.google.colaboratory.intrinsic+json": {
              "type": "string"
            },
            "text/plain": [
              "\"fact : 17 % of today's population is equivalent to residents in new york , florida , and pennsylvania  where's the outrage for this ?\""
            ]
          },
          "metadata": {
            "tags": []
          },
          "execution_count": 251
        }
      ]
    },
    {
      "cell_type": "code",
      "metadata": {
        "id": "RrR1xtfKMiel",
        "colab": {
          "base_uri": "https://localhost:8080/"
        },
        "outputId": "c1117f72-e05d-4fb8-f03f-89e3054d7690"
      },
      "source": [
        "train_set.dataset.loc[0, 'label']"
      ],
      "execution_count": null,
      "outputs": [
        {
          "output_type": "execute_result",
          "data": {
            "text/plain": [
              "3"
            ]
          },
          "metadata": {
            "tags": []
          },
          "execution_count": 252
        }
      ]
    },
    {
      "cell_type": "code",
      "metadata": {
        "id": "zmWUSbtTMiem",
        "colab": {
          "base_uri": "https://localhost:8080/"
        },
        "outputId": "b2c9d715-b5be-4aa0-992d-e292abe1011e"
      },
      "source": [
        "train_set.__getitem__(0)"
      ],
      "execution_count": null,
      "outputs": [
        {
          "output_type": "execute_result",
          "data": {
            "text/plain": [
              "(tensor([  101,  2755,  1024,  2459,  1003,  1997,  2651,  1005,  1055,  2313,\n",
              "          2003,  5662,  2000,  3901,  1999,  2047,  2259,  1010,  3516,  1010,\n",
              "          1998,  3552,  2073,  1005,  1055,  1996, 19006,  2005,  2023,   102]),\n",
              " tensor([1, 1, 1, 1, 1, 1, 1, 1, 1, 1, 1, 1, 1, 1, 1, 1, 1, 1, 1, 1, 1, 1, 1, 1,\n",
              "         1, 1, 1, 1, 1, 1]),\n",
              " 3)"
            ]
          },
          "metadata": {
            "tags": []
          },
          "execution_count": 253
        }
      ]
    },
    {
      "cell_type": "code",
      "metadata": {
        "id": "aJrJ-LZ5Mien"
      },
      "source": [
        "#Creating intsances of training and validation dataloaders\n",
        "train_loader = DataLoader(train_set, batch_size = 12, num_workers = 1)\n",
        "val_loader = DataLoader(val_set, batch_size = 12, num_workers = 1)\n",
        "test_loader = DataLoader(test_set, batch_size = 12, num_workers = 1)"
      ],
      "execution_count": null,
      "outputs": []
    },
    {
      "cell_type": "code",
      "metadata": {
        "id": "FtuJJgQHMiep",
        "colab": {
          "base_uri": "https://localhost:8080/"
        },
        "outputId": "a6f47d96-9808-4b28-9d4f-5246be599d63"
      },
      "source": [
        "train_iter = iter(train_loader)\n",
        "print(type(train_iter))"
      ],
      "execution_count": null,
      "outputs": [
        {
          "output_type": "stream",
          "text": [
            "<class 'torch.utils.data.dataloader._MultiProcessingDataLoaderIter'>\n"
          ],
          "name": "stdout"
        }
      ]
    },
    {
      "cell_type": "code",
      "metadata": {
        "id": "1PwORW4gMieq"
      },
      "source": [
        "class SentimentClassifier(nn.Module):\n",
        "\n",
        "    def __init__(self, pretrained_model_name='bert-base-uncased'):\n",
        "        super(SentimentClassifier, self).__init__()\n",
        "        \n",
        "        #Loading Mask Language Model \n",
        "        self.encoder = AutoModel.from_pretrained(pretrained_model_name)\n",
        "        #we append an extra layer for Classification (it will be randomly initialized)\n",
        "        self.cls_layer = nn.Linear(self.encoder.pooler.dense.out_features, 4)\n",
        "\n",
        "    def forward(self, seq, attn_masks):\n",
        "        '''\n",
        "        Inputs:\n",
        "            -seq : Tensor of shape [B, T] containing token ids of sequences\n",
        "            -attn_masks : Tensor of shape [B, T] containing attention masks to be used to avoid contibution of PAD tokens\n",
        "        '''\n",
        "\n",
        "        #Feeding the input to BERT model to obtain contextualized representations\n",
        "        # see in the hugging face doc what to input\n",
        "        #cont_reps = #  self.encoder(..)..\n",
        "        cont_reps = self.encoder(seq, attention_mask = attn_masks)\n",
        "        #Obtaining the representation of [CLS] head\n",
        "        pool = cont_reps[\"pooler_output\"]\n",
        "\n",
        "        #Feeding cls_rep to the classifier layer\n",
        "        output = self.cls_layer(pool)\n",
        "\n",
        "        return output\n"
      ],
      "execution_count": null,
      "outputs": []
    },
    {
      "cell_type": "code",
      "metadata": {
        "id": "pAncuFFiMieq"
      },
      "source": [
        "sentiment_model = SentimentClassifier('bert-base-uncased')"
      ],
      "execution_count": null,
      "outputs": []
    },
    {
      "cell_type": "code",
      "metadata": {
        "id": "DMTA-G9qMier"
      },
      "source": [
        "# define the loss and optimizer \n",
        "criterion = nn.CrossEntropyLoss()\n",
        "opti = optim.Adam(sentiment_model.parameters(), lr = 1e-4)"
      ],
      "execution_count": null,
      "outputs": []
    },
    {
      "cell_type": "code",
      "metadata": {
        "id": "WNWqufX9Mies"
      },
      "source": [
        "def train(model, criterion, opti, train_loader, val_loader, max_eps=1, print_every=1,validate_every=1, break_training_after=None, gpu=False):\n",
        "    for ep in range(max_eps):\n",
        "        print('Epoch : {}/{}'.format(ep+1, max_eps))   \n",
        "        for it, (seq, attn_masks, labels) in tqdm(list(enumerate(train_loader))):\n",
        "            #Clear gradients\n",
        "            opti.zero_grad()  \n",
        "    \n",
        "            #Obtaining the outputs from the model\n",
        "            outputs = model(seq, attn_masks)\n",
        "\n",
        "            #Computing loss\n",
        "            loss = criterion(outputs, labels)\n",
        "\n",
        "            #Backpropagating the gradients\n",
        "            loss.backward()\n",
        "\n",
        "            #Optimization step\n",
        "            opti.step()\n",
        "\n",
        "            preds = torch.max(outputs, dim=1)\n",
        "            correct_predictions = torch.sum(preds.indices == labels)\n",
        "            \n",
        "\n",
        "            if (it + 1) % print_every == 0:\n",
        "                accuracy = correct_predictions /float(labels.size(0))\n",
        "                #print(\"Iteration {} of epoch {} complete. Loss : {}, Accuracy {} \".format(it+1, ep+1, loss.item(),accuracy))\n",
        "            if break_training_after is not None and it>break_training_after:\n",
        "                print(\"Early breaking : did not cover a full epoch but only {} iteration \".format(it))\n",
        "                break\n",
        "        if ep % validate_every==0:\n",
        "            print(\"Iteration {} of epoch {} complete. Loss : {}, Accuracy {} \".format(it+1, ep+1, loss.item(),accuracy))\n",
        "          # evaluation on the validation set\n",
        "            n_batch_validation = 0\n",
        "            loss_validation = 0\n",
        "            accuracy_validation = 0\n",
        "            for it, (seq, attn_masks, labels) in enumerate(val_loader):            \n",
        "              #Obtaining the logits from the model\n",
        "              logits_val = model(seq, attn_masks)\n",
        "              n_batch_validation+=1\n",
        "              preds_val = torch.max(logits_val, dim=1)\n",
        "              correct_predictions_val = torch.sum(preds_val.indices == labels)\n",
        "              #Computing loss\n",
        "              _loss = float(criterion(logits_val, labels))\n",
        "              _accu = correct_predictions_val/float(labels.size(0))\n",
        "  \n",
        "              loss_validation += _loss\n",
        "              accuracy_validation += _accu\n",
        "        print(\"EVALUATION Validation set : mean loss {} n mean accuracy {}\".format(loss_validation/n_batch_validation, accuracy_validation/n_batch_validation))\n",
        "    return _loss\n",
        "          "
      ],
      "execution_count": null,
      "outputs": []
    },
    {
      "cell_type": "code",
      "metadata": {
        "id": "AR7T_lv6Mies",
        "scrolled": false,
        "colab": {
          "base_uri": "https://localhost:8080/"
        },
        "outputId": "5803791d-0406-4902-dc7a-a5c3c1c6120e"
      },
      "source": [
        "train(sentiment_model, criterion, opti, train_loader, val_loader, max_eps=5, print_every=10)"
      ],
      "execution_count": 260,
      "outputs": [
        {
          "output_type": "stream",
          "text": [
            "Epoch : 1/5\n"
          ],
          "name": "stdout"
        },
        {
          "output_type": "stream",
          "text": [
            "100%|██████████| 65/65 [03:08<00:00,  2.90s/it]"
          ],
          "name": "stderr"
        },
        {
          "output_type": "stream",
          "text": [
            "Iteration 65 of epoch 1 complete. Loss : 0.798469066619873, Accuracy 0.6666666865348816 \n"
          ],
          "name": "stdout"
        },
        {
          "output_type": "stream",
          "text": [
            "\n"
          ],
          "name": "stderr"
        },
        {
          "output_type": "stream",
          "text": [
            "EVALUATION Validation set : mean loss 1.0464677214622498 n mean accuracy 0.5388257503509521\n",
            "Epoch : 2/5\n"
          ],
          "name": "stdout"
        },
        {
          "output_type": "stream",
          "text": [
            "100%|██████████| 65/65 [02:58<00:00,  2.75s/it]"
          ],
          "name": "stderr"
        },
        {
          "output_type": "stream",
          "text": [
            "Iteration 65 of epoch 2 complete. Loss : 0.5665708184242249, Accuracy 0.6666666865348816 \n"
          ],
          "name": "stdout"
        },
        {
          "output_type": "stream",
          "text": [
            "\n"
          ],
          "name": "stderr"
        },
        {
          "output_type": "stream",
          "text": [
            "EVALUATION Validation set : mean loss 1.2095624543726444 n mean accuracy 0.544981062412262\n",
            "Epoch : 3/5\n"
          ],
          "name": "stdout"
        },
        {
          "output_type": "stream",
          "text": [
            "100%|██████████| 65/65 [02:56<00:00,  2.71s/it]"
          ],
          "name": "stderr"
        },
        {
          "output_type": "stream",
          "text": [
            "Iteration 65 of epoch 3 complete. Loss : 0.44731080532073975, Accuracy 0.8333333134651184 \n"
          ],
          "name": "stdout"
        },
        {
          "output_type": "stream",
          "text": [
            "\n"
          ],
          "name": "stderr"
        },
        {
          "output_type": "stream",
          "text": [
            "EVALUATION Validation set : mean loss 0.9815954826772213 n mean accuracy 0.5667613744735718\n",
            "Epoch : 4/5\n"
          ],
          "name": "stdout"
        },
        {
          "output_type": "stream",
          "text": [
            "100%|██████████| 65/65 [02:57<00:00,  2.73s/it]"
          ],
          "name": "stderr"
        },
        {
          "output_type": "stream",
          "text": [
            "Iteration 65 of epoch 4 complete. Loss : 0.027916502207517624, Accuracy 1.0 \n"
          ],
          "name": "stdout"
        },
        {
          "output_type": "stream",
          "text": [
            "\n"
          ],
          "name": "stderr"
        },
        {
          "output_type": "stream",
          "text": [
            "EVALUATION Validation set : mean loss 1.2050055656582117 n mean accuracy 0.6373105645179749\n",
            "Epoch : 5/5\n"
          ],
          "name": "stdout"
        },
        {
          "output_type": "stream",
          "text": [
            "100%|██████████| 65/65 [03:04<00:00,  2.84s/it]"
          ],
          "name": "stderr"
        },
        {
          "output_type": "stream",
          "text": [
            "Iteration 65 of epoch 5 complete. Loss : 0.01673671416938305, Accuracy 0.9166666865348816 \n"
          ],
          "name": "stdout"
        },
        {
          "output_type": "stream",
          "text": [
            "\n"
          ],
          "name": "stderr"
        },
        {
          "output_type": "stream",
          "text": [
            "EVALUATION Validation set : mean loss 1.3374851420521736 n mean accuracy 0.5904356241226196\n"
          ],
          "name": "stdout"
        },
        {
          "output_type": "execute_result",
          "data": {
            "text/plain": [
              "1.4953235387802124"
            ]
          },
          "metadata": {
            "tags": []
          },
          "execution_count": 260
        }
      ]
    },
    {
      "cell_type": "markdown",
      "metadata": {
        "id": "7qlrTcoIIKBs"
      },
      "source": [
        "## Predictions on test data"
      ]
    },
    {
      "cell_type": "code",
      "metadata": {
        "id": "-PVw8I0EMiet"
      },
      "source": [
        "def get_predictions(model, data_loader, test_set):\n",
        "  model = model.eval()\n",
        "\n",
        "  review_texts = []\n",
        "  predictions = []\n",
        "  prediction_probs = []\n",
        "  real_values = []\n",
        "\n",
        "  with torch.no_grad():\n",
        "    for it, (seq, attn_masks, labels) in tqdm(list(enumerate(test_loader))):\n",
        "      tweet = test_set.dataset.loc[it, 'sentence']\n",
        "      outputs = model(\n",
        "        seq=seq,\n",
        "        attn_masks= attn_masks\n",
        "      )\n",
        "\n",
        "      _, preds = torch.max(outputs, dim=1)\n",
        "\n",
        "\n",
        "      review_texts.extend(tweet)\n",
        "      predictions.extend(preds)\n",
        "      prediction_probs.extend(outputs)\n",
        "      real_values.extend(labels)\n",
        "\n",
        "  predictions = torch.as_tensor(predictions)\n",
        "  real_values = torch.stack(real_values)\n",
        "  return review_texts, predictions, prediction_probs, real_values"
      ],
      "execution_count": 261,
      "outputs": []
    },
    {
      "cell_type": "code",
      "metadata": {
        "id": "L5bp4w_Vy0vO",
        "colab": {
          "base_uri": "https://localhost:8080/"
        },
        "outputId": "9016c7d4-eb71-4091-928f-beaf9a04505d"
      },
      "source": [
        "review_texts, predictions, prediction_probs, real_values = get_predictions(sentiment_model, data_loader=test_loader, test_set= test_set)"
      ],
      "execution_count": 262,
      "outputs": [
        {
          "output_type": "stream",
          "text": [
            "100%|██████████| 16/16 [00:11<00:00,  1.43it/s]\n"
          ],
          "name": "stderr"
        }
      ]
    },
    {
      "cell_type": "code",
      "metadata": {
        "id": "j-F6oIZrqnrB",
        "colab": {
          "base_uri": "https://localhost:8080/"
        },
        "outputId": "7b2b5d32-ece2-4ca5-f8c8-99491a25e012"
      },
      "source": [
        "predictions"
      ],
      "execution_count": 263,
      "outputs": [
        {
          "output_type": "execute_result",
          "data": {
            "text/plain": [
              "tensor([0, 0, 0, 0, 0, 0, 1, 3, 0, 0, 0, 0, 3, 0, 1, 3, 1, 1, 0, 0, 0, 0, 0, 1,\n",
              "        0, 0, 1, 0, 0, 3, 0, 0, 0, 1, 0, 0, 3, 0, 0, 0, 3, 0, 0, 3, 0, 1, 0, 0,\n",
              "        3, 0, 0, 3, 0, 0, 0, 3, 0, 0, 0, 0, 0, 0, 0, 0, 0, 1, 3, 0, 0, 3, 3, 0,\n",
              "        3, 0, 0, 0, 3, 0, 0, 3, 0, 0, 3, 0, 0, 0, 0, 3, 0, 0, 0, 1, 0, 1, 0, 3,\n",
              "        3, 0, 1, 0, 3, 3, 0, 0, 0, 1, 0, 0, 0, 0, 1, 0, 3, 3, 0, 0, 0, 0, 0, 1,\n",
              "        0, 1, 3, 0, 0, 3, 0, 0, 3, 3, 1, 0, 0, 0, 3, 0, 3, 3, 1, 3, 0, 0, 0, 0,\n",
              "        1, 0, 1, 0, 0, 0, 3, 0, 0, 1, 0, 0, 0, 0, 0, 0, 3, 0, 0, 3, 0, 0, 0, 0,\n",
              "        0, 0, 0, 0, 1, 0, 0, 0, 1, 0, 0, 0, 1, 3, 0, 1, 0, 1, 0, 3, 0, 0, 1, 0])"
            ]
          },
          "metadata": {
            "tags": []
          },
          "execution_count": 263
        }
      ]
    },
    {
      "cell_type": "code",
      "metadata": {
        "id": "K3F2i4roqwa6",
        "colab": {
          "base_uri": "https://localhost:8080/"
        },
        "outputId": "0546215a-458f-48c4-b0d4-c27b648e79fb"
      },
      "source": [
        "real_values"
      ],
      "execution_count": 264,
      "outputs": [
        {
          "output_type": "execute_result",
          "data": {
            "text/plain": [
              "tensor([3, 1, 3, 1, 1, 0, 1, 0, 0, 1, 0, 1, 3, 3, 1, 1, 1, 0, 0, 0, 0, 0, 0, 1,\n",
              "        1, 0, 1, 0, 1, 0, 0, 1, 0, 0, 1, 1, 3, 3, 0, 0, 3, 0, 3, 1, 0, 0, 3, 1,\n",
              "        3, 0, 1, 0, 0, 1, 1, 3, 0, 2, 0, 0, 1, 0, 0, 0, 0, 1, 3, 0, 3, 3, 3, 0,\n",
              "        1, 0, 3, 1, 3, 0, 3, 0, 0, 1, 0, 1, 0, 1, 1, 1, 0, 0, 0, 1, 0, 3, 1, 1,\n",
              "        3, 1, 1, 0, 0, 0, 1, 2, 1, 0, 0, 3, 0, 1, 1, 1, 1, 1, 0, 0, 1, 1, 3, 3,\n",
              "        3, 1, 0, 0, 0, 0, 1, 1, 3, 3, 1, 1, 0, 1, 1, 1, 3, 3, 1, 1, 0, 0, 1, 1,\n",
              "        3, 3, 0, 0, 3, 1, 3, 3, 0, 3, 0, 1, 3, 1, 1, 0, 3, 0, 3, 1, 0, 0, 1, 3,\n",
              "        1, 0, 1, 0, 1, 0, 3, 0, 1, 1, 3, 1, 1, 3, 0, 3, 3, 1, 0, 0, 0, 0, 0, 0])"
            ]
          },
          "metadata": {
            "tags": []
          },
          "execution_count": 264
        }
      ]
    },
    {
      "cell_type": "code",
      "metadata": {
        "id": "4kl8GPb0q3VG",
        "colab": {
          "base_uri": "https://localhost:8080/"
        },
        "outputId": "410a1b76-9dd0-47e9-8e7f-62b278cbdfad"
      },
      "source": [
        "torch.sum(real_values==predictions) / len(predictions)"
      ],
      "execution_count": 265,
      "outputs": [
        {
          "output_type": "execute_result",
          "data": {
            "text/plain": [
              "tensor(0.4896)"
            ]
          },
          "metadata": {
            "tags": []
          },
          "execution_count": 265
        }
      ]
    },
    {
      "cell_type": "code",
      "metadata": {
        "id": "CgsRQNblra8m",
        "colab": {
          "base_uri": "https://localhost:8080/",
          "height": 560
        },
        "outputId": "224fe66a-9233-450b-c446-e4ef8d90fe6c"
      },
      "source": [
        "plt.figure(figsize=(10,8))\n",
        "cm = confusion_matrix(real_values, predictions)\n",
        "df_cm = pd.DataFrame(cm, index=le_classes, columns=le_classes)\n",
        "show_confusion_matrix(df_cm, 'sentiment')"
      ],
      "execution_count": 266,
      "outputs": [
        {
          "output_type": "display_data",
          "data": {
            "image/png": "[encoded data removed]",
            "text/plain": [
              "<Figure size 720x576 with 2 Axes>"
            ]
          },
          "metadata": {
            "tags": []
          }
        }
      ]
    },
    {
      "cell_type": "markdown",
      "metadata": {
        "id": "LVatPjthqsWh"
      },
      "source": [
        "# 3) BERT For Aspect Classification (supervised)"
      ]
    },
    {
      "cell_type": "markdown",
      "metadata": {
        "id": "IWyTntM4H6Wl"
      },
      "source": [
        "## Training"
      ]
    },
    {
      "cell_type": "code",
      "metadata": {
        "id": "QJdwzBKEqpWL"
      },
      "source": [
        "X_trainAspect = database.tweet[idx_train]\n",
        "y_trainAspect = database.targetEncoded[idx_train]\n",
        "\n",
        "X_valAspect = database.tweet[idx_val]\n",
        "y_valAspect = database.targetEncoded[idx_val]\n",
        "\n",
        "X_testAspect = database.tweet[idx_test]\n",
        "y_testAspect = database.targetEncoded[idx_test]\n",
        " \n",
        "trainAspect_df = pd.DataFrame({'sentence':X_trainAspect, 'label':y_trainAspect})\n",
        "testAspect_df = pd.DataFrame({'sentence':X_testAspect, 'label':y_testAspect})\n",
        "valAspect_df = pd.DataFrame({'sentence':X_valAspect, 'label':y_valAspect})"
      ],
      "execution_count": 267,
      "outputs": []
    },
    {
      "cell_type": "code",
      "metadata": {
        "id": "c7H11kCbqpWQ",
        "colab": {
          "base_uri": "https://localhost:8080/"
        },
        "outputId": "23069f74-2c73-48c5-8dc9-dd577333a5dc"
      },
      "source": [
        "print(trainAspect_df.shape, valAspect_df.shape, testAspect_df.shape)"
      ],
      "execution_count": 268,
      "outputs": [
        {
          "output_type": "stream",
          "text": [
            "(776, 2) (191, 2) (192, 2)\n"
          ],
          "name": "stdout"
        }
      ]
    },
    {
      "cell_type": "code",
      "metadata": {
        "id": "dBjGIYs_qpWR"
      },
      "source": [
        "#Creating instances of training and validation set\n",
        "trainAspect_set = ProgressiveIssuesDataSet(trainAspect_df.reset_index(drop=True), maxlen=30,  model_name='bert-base-uncased')\n",
        "valAspect_set = ProgressiveIssuesDataSet(valAspect_df.reset_index(drop=True), maxlen=30, model_name='bert-base-uncased')\n",
        "testAspect_set = ProgressiveIssuesDataSet(testAspect_df.reset_index(drop=True), maxlen=30, model_name='bert-base-uncased')"
      ],
      "execution_count": 269,
      "outputs": []
    },
    {
      "cell_type": "code",
      "metadata": {
        "id": "B3AkJuzCqpWS",
        "colab": {
          "base_uri": "https://localhost:8080/",
          "height": 35
        },
        "outputId": "32ce05ba-cadd-4ced-830f-77ded25cd502"
      },
      "source": [
        "trainAspect_set.dataset.loc[1, 'sentence']"
      ],
      "execution_count": 270,
      "outputs": [
        {
          "output_type": "execute_result",
          "data": {
            "application/vnd.google.colaboratory.intrinsic+json": {
              "type": "string"
            },
            "text/plain": [
              "'Women in Hollywood are still getting paid less. It is 2015.'"
            ]
          },
          "metadata": {
            "tags": []
          },
          "execution_count": 270
        }
      ]
    },
    {
      "cell_type": "code",
      "metadata": {
        "id": "pgaGYJmnqpWS",
        "colab": {
          "base_uri": "https://localhost:8080/",
          "height": 35
        },
        "outputId": "dbfe10d1-166c-4a3f-bcea-730fddf7ef40"
      },
      "source": [
        "le_classesAspect[trainAspect_set.dataset.loc[1, 'label']]"
      ],
      "execution_count": 271,
      "outputs": [
        {
          "output_type": "execute_result",
          "data": {
            "application/vnd.google.colaboratory.intrinsic+json": {
              "type": "string"
            },
            "text/plain": [
              "'Feminist Movement'"
            ]
          },
          "metadata": {
            "tags": []
          },
          "execution_count": 271
        }
      ]
    },
    {
      "cell_type": "code",
      "metadata": {
        "id": "hmidBOpA-g9V",
        "colab": {
          "base_uri": "https://localhost:8080/",
          "height": 35
        },
        "outputId": "89cfcc9e-a0a7-438b-a495-46624391d7c1"
      },
      "source": [
        "le_classes[train_set.dataset.loc[1, 'label']]"
      ],
      "execution_count": 272,
      "outputs": [
        {
          "output_type": "execute_result",
          "data": {
            "application/vnd.google.colaboratory.intrinsic+json": {
              "type": "string"
            },
            "text/plain": [
              "'FOR'"
            ]
          },
          "metadata": {
            "tags": []
          },
          "execution_count": 272
        }
      ]
    },
    {
      "cell_type": "code",
      "metadata": {
        "id": "fgEGaEx_qpWT",
        "colab": {
          "base_uri": "https://localhost:8080/"
        },
        "outputId": "d981b77e-00ef-4989-8aae-531f4f039949"
      },
      "source": [
        "trainAspect_set.__getitem__(1)"
      ],
      "execution_count": 273,
      "outputs": [
        {
          "output_type": "execute_result",
          "data": {
            "text/plain": [
              "(tensor([ 101, 2308, 1999, 5365, 2024, 2145, 2893, 3825, 2625, 1012, 2009, 2003,\n",
              "         2325, 1012,  102,    0,    0,    0,    0,    0,    0,    0,    0,    0,\n",
              "            0,    0,    0,    0,    0,    0]),\n",
              " tensor([1, 1, 1, 1, 1, 1, 1, 1, 1, 1, 1, 1, 1, 1, 1, 0, 0, 0, 0, 0, 0, 0, 0, 0,\n",
              "         0, 0, 0, 0, 0, 0]),\n",
              " 1)"
            ]
          },
          "metadata": {
            "tags": []
          },
          "execution_count": 273
        }
      ]
    },
    {
      "cell_type": "code",
      "metadata": {
        "id": "Ly6sb6keqpWT"
      },
      "source": [
        "#Creating intsances of training and validation dataloaders\n",
        "trainAspect_loader = DataLoader(trainAspect_set, batch_size = 12, num_workers = 1)\n",
        "valAspect_loader = DataLoader(valAspect_set, batch_size = 12, num_workers = 1)\n",
        "testAspect_loader = DataLoader(testAspect_set, batch_size = 12, num_workers = 1)"
      ],
      "execution_count": 274,
      "outputs": []
    },
    {
      "cell_type": "code",
      "metadata": {
        "id": "_e-iC5_PqpWU"
      },
      "source": [
        "aspect_model = SentimentClassifier('bert-base-uncased')"
      ],
      "execution_count": 275,
      "outputs": []
    },
    {
      "cell_type": "code",
      "metadata": {
        "id": "zYvCkoWUqpWV"
      },
      "source": [
        "# define the loss and optimizer \n",
        "criterion2 = nn.CrossEntropyLoss()\n",
        "opti2 = optim.Adam(aspect_model.parameters(), lr = 1e-4)"
      ],
      "execution_count": 276,
      "outputs": []
    },
    {
      "cell_type": "code",
      "metadata": {
        "scrolled": false,
        "id": "UBdGbSkqqpWW",
        "colab": {
          "base_uri": "https://localhost:8080/"
        },
        "outputId": "e62b139a-ebee-4b41-99f0-7177f17e1488"
      },
      "source": [
        "train(aspect_model, criterion2, opti2, trainAspect_loader, valAspect_loader, max_eps=5, print_every=10)"
      ],
      "execution_count": 277,
      "outputs": [
        {
          "output_type": "stream",
          "text": [
            "Epoch : 1/5\n"
          ],
          "name": "stdout"
        },
        {
          "output_type": "stream",
          "text": [
            "100%|██████████| 65/65 [03:03<00:00,  2.83s/it]"
          ],
          "name": "stderr"
        },
        {
          "output_type": "stream",
          "text": [
            "Iteration 65 of epoch 1 complete. Loss : 0.4459576904773712, Accuracy 0.75 \n"
          ],
          "name": "stdout"
        },
        {
          "output_type": "stream",
          "text": [
            "\n"
          ],
          "name": "stderr"
        },
        {
          "output_type": "stream",
          "text": [
            "EVALUATION Validation set : mean loss 0.6193382712081075 n mean accuracy 0.7537879943847656\n",
            "Epoch : 2/5\n"
          ],
          "name": "stdout"
        },
        {
          "output_type": "stream",
          "text": [
            "100%|██████████| 65/65 [02:55<00:00,  2.71s/it]"
          ],
          "name": "stderr"
        },
        {
          "output_type": "stream",
          "text": [
            "Iteration 65 of epoch 2 complete. Loss : 0.5503795742988586, Accuracy 1.0 \n"
          ],
          "name": "stdout"
        },
        {
          "output_type": "stream",
          "text": [
            "\n"
          ],
          "name": "stderr"
        },
        {
          "output_type": "stream",
          "text": [
            "EVALUATION Validation set : mean loss 1.190249677747488 n mean accuracy 0.5023674368858337\n",
            "Epoch : 3/5\n"
          ],
          "name": "stdout"
        },
        {
          "output_type": "stream",
          "text": [
            "100%|██████████| 65/65 [02:55<00:00,  2.70s/it]"
          ],
          "name": "stderr"
        },
        {
          "output_type": "stream",
          "text": [
            "Iteration 65 of epoch 3 complete. Loss : 0.045671164989471436, Accuracy 1.0 \n"
          ],
          "name": "stdout"
        },
        {
          "output_type": "stream",
          "text": [
            "\n"
          ],
          "name": "stderr"
        },
        {
          "output_type": "stream",
          "text": [
            "EVALUATION Validation set : mean loss 0.7391137070953846 n mean accuracy 0.7750948071479797\n",
            "Epoch : 4/5\n"
          ],
          "name": "stdout"
        },
        {
          "output_type": "stream",
          "text": [
            "100%|██████████| 65/65 [02:56<00:00,  2.71s/it]"
          ],
          "name": "stderr"
        },
        {
          "output_type": "stream",
          "text": [
            "Iteration 65 of epoch 4 complete. Loss : 0.18910057842731476, Accuracy 1.0 \n"
          ],
          "name": "stdout"
        },
        {
          "output_type": "stream",
          "text": [
            "\n"
          ],
          "name": "stderr"
        },
        {
          "output_type": "stream",
          "text": [
            "EVALUATION Validation set : mean loss 0.9637982444837689 n mean accuracy 0.7594696879386902\n",
            "Epoch : 5/5\n"
          ],
          "name": "stdout"
        },
        {
          "output_type": "stream",
          "text": [
            "100%|██████████| 65/65 [02:57<00:00,  2.74s/it]"
          ],
          "name": "stderr"
        },
        {
          "output_type": "stream",
          "text": [
            "Iteration 65 of epoch 5 complete. Loss : 0.03034242056310177, Accuracy 1.0 \n"
          ],
          "name": "stdout"
        },
        {
          "output_type": "stream",
          "text": [
            "\n"
          ],
          "name": "stderr"
        },
        {
          "output_type": "stream",
          "text": [
            "EVALUATION Validation set : mean loss 1.3366565246833488 n mean accuracy 0.7107006907463074\n"
          ],
          "name": "stdout"
        },
        {
          "output_type": "execute_result",
          "data": {
            "text/plain": [
              "2.2549142837524414"
            ]
          },
          "metadata": {
            "tags": []
          },
          "execution_count": 277
        }
      ]
    },
    {
      "cell_type": "markdown",
      "metadata": {
        "id": "n2c_ZVaPH1cS"
      },
      "source": [
        "## Predictions on Test Data"
      ]
    },
    {
      "cell_type": "code",
      "metadata": {
        "id": "ajgaTmigqpWX",
        "colab": {
          "base_uri": "https://localhost:8080/"
        },
        "outputId": "88a516b1-bb24-49cd-e379-ae7b3c975c35"
      },
      "source": [
        "review_textsAspect, predictionsAspect, prediction_probsAspect, real_valuesAspect = get_predictions(aspect_model, data_loader=testAspect_loader, test_set= testAspect_set)"
      ],
      "execution_count": 278,
      "outputs": [
        {
          "output_type": "stream",
          "text": [
            "100%|██████████| 16/16 [00:10<00:00,  1.50it/s]\n"
          ],
          "name": "stderr"
        }
      ]
    },
    {
      "cell_type": "code",
      "metadata": {
        "id": "3KesNWgRqpWX",
        "colab": {
          "base_uri": "https://localhost:8080/"
        },
        "outputId": "4d6bad42-e490-4af8-c4f4-9c91c3571600"
      },
      "source": [
        "predictionsAspect"
      ],
      "execution_count": 279,
      "outputs": [
        {
          "output_type": "execute_result",
          "data": {
            "text/plain": [
              "tensor([3, 2, 0, 1, 3, 3, 3, 0, 2, 3, 2, 3, 2, 2, 3, 2, 3, 3, 3, 3, 3, 3, 3, 3,\n",
              "        3, 0, 3, 0, 0, 2, 3, 2, 0, 1, 2, 0, 2, 3, 0, 0, 3, 3, 3, 3, 3, 1, 2, 1,\n",
              "        3, 2, 2, 1, 2, 1, 2, 3, 1, 2, 3, 0, 3, 3, 0, 2, 0, 3, 2, 3, 2, 2, 3, 2,\n",
              "        2, 0, 3, 3, 3, 0, 0, 3, 1, 1, 2, 2, 2, 0, 3, 3, 3, 2, 2, 2, 2, 3, 2, 3,\n",
              "        2, 1, 0, 3, 0, 3, 2, 2, 2, 2, 1, 2, 0, 1, 2, 0, 0, 2, 3, 2, 2, 1, 0, 3,\n",
              "        2, 1, 0, 2, 1, 3, 1, 1, 2, 2, 0, 2, 0, 3, 0, 2, 3, 2, 3, 3, 0, 2, 3, 1,\n",
              "        0, 3, 3, 0, 3, 3, 3, 3, 0, 3, 3, 3, 3, 1, 3, 2, 1, 3, 3, 1, 2, 3, 3, 1,\n",
              "        2, 0, 1, 3, 3, 3, 3, 0, 2, 3, 0, 2, 2, 0, 2, 3, 2, 1, 2, 2, 3, 2, 1, 0])"
            ]
          },
          "metadata": {
            "tags": []
          },
          "execution_count": 279
        }
      ]
    },
    {
      "cell_type": "code",
      "metadata": {
        "id": "dbAk3tYiqpWY",
        "colab": {
          "base_uri": "https://localhost:8080/"
        },
        "outputId": "9f2ed25e-d78f-4c7d-d181-5f08fb61322a"
      },
      "source": [
        "real_valuesAspect"
      ],
      "execution_count": 280,
      "outputs": [
        {
          "output_type": "execute_result",
          "data": {
            "text/plain": [
              "tensor([3, 1, 3, 1, 1, 0, 1, 0, 0, 1, 0, 1, 3, 3, 1, 1, 1, 0, 0, 0, 0, 0, 0, 1,\n",
              "        1, 0, 1, 0, 1, 0, 0, 1, 0, 0, 1, 1, 3, 3, 0, 0, 3, 0, 3, 1, 0, 0, 3, 1,\n",
              "        3, 0, 1, 0, 0, 1, 1, 3, 0, 2, 0, 0, 1, 0, 0, 0, 0, 1, 3, 0, 3, 3, 3, 0,\n",
              "        1, 0, 3, 1, 3, 0, 3, 0, 0, 1, 0, 1, 0, 1, 1, 1, 0, 0, 0, 1, 0, 3, 1, 1,\n",
              "        3, 1, 1, 0, 0, 0, 1, 2, 1, 0, 0, 3, 0, 1, 1, 1, 1, 1, 0, 0, 1, 1, 3, 3,\n",
              "        3, 1, 0, 0, 0, 0, 1, 1, 3, 3, 1, 1, 0, 1, 1, 1, 3, 3, 1, 1, 0, 0, 1, 1,\n",
              "        3, 3, 0, 0, 3, 1, 3, 3, 0, 3, 0, 1, 3, 1, 1, 0, 3, 0, 3, 1, 0, 0, 1, 3,\n",
              "        1, 0, 1, 0, 1, 0, 3, 0, 1, 1, 3, 1, 1, 3, 0, 3, 3, 1, 0, 0, 0, 0, 0, 0])"
            ]
          },
          "metadata": {
            "tags": []
          },
          "execution_count": 280
        }
      ]
    },
    {
      "cell_type": "code",
      "metadata": {
        "id": "isvLbLnZqpWY",
        "colab": {
          "base_uri": "https://localhost:8080/"
        },
        "outputId": "8d307ecd-b62c-4b4a-9659-03cf0b04e3b0"
      },
      "source": [
        "torch.sum(real_valuesAspect==predictionsAspect) / len(predictionsAspect)"
      ],
      "execution_count": 281,
      "outputs": [
        {
          "output_type": "execute_result",
          "data": {
            "text/plain": [
              "tensor(0.3073)"
            ]
          },
          "metadata": {
            "tags": []
          },
          "execution_count": 281
        }
      ]
    },
    {
      "cell_type": "code",
      "metadata": {
        "id": "xiTr2XnpqpWY",
        "colab": {
          "base_uri": "https://localhost:8080/",
          "height": 752
        },
        "outputId": "d0235655-c6be-4fcd-973b-b57aa0d00e99"
      },
      "source": [
        "plt.figure(figsize=(10,8))\n",
        "cm = confusion_matrix(real_valuesAspect, predictionsAspect)\n",
        "df_cm = pd.DataFrame(cm, index= le_classesAspect, columns=le_classesAspect)\n",
        "show_confusion_matrix(df_cm, 'aspect')\n",
        "print(classification_report(real_valuesAspect, predictionsAspect, target_names = le_classesAspect))"
      ],
      "execution_count": 282,
      "outputs": [
        {
          "output_type": "display_data",
          "data": {
            "image/png": "[encoded data removed]",
            "text/plain": [
              "<Figure size 720x576 with 2 Axes>"
            ]
          },
          "metadata": {
            "tags": []
          }
        },
        {
          "output_type": "stream",
          "text": [
            "                          precision    recall  f1-score   support\n",
            "\n",
            "                 Atheism       0.60      0.27      0.37        77\n",
            "       Feminist Movement       0.60      0.21      0.32        70\n",
            "         Hillary Clinton       0.03      1.00      0.07         2\n",
            "Legalization of Abortion       0.29      0.49      0.36        43\n",
            "\n",
            "                accuracy                           0.31       192\n",
            "               macro avg       0.38      0.49      0.28       192\n",
            "            weighted avg       0.52      0.31      0.35       192\n",
            "\n"
          ],
          "name": "stdout"
        }
      ]
    },
    {
      "cell_type": "markdown",
      "metadata": {
        "id": "F54pmNOzKw_z"
      },
      "source": [
        "# 4) BERT combination"
      ]
    },
    {
      "cell_type": "code",
      "metadata": {
        "id": "es1PFFZSK6BY",
        "colab": {
          "base_uri": "https://localhost:8080/"
        },
        "outputId": "3ae36cd2-156d-43b8-9df6-daeb628a5184"
      },
      "source": [
        "torch.sum((real_valuesAspect == predictionsAspect) & (real_values == predictions)) / len(real_valuesAspect)"
      ],
      "execution_count": 283,
      "outputs": [
        {
          "output_type": "execute_result",
          "data": {
            "text/plain": [
              "tensor(0.1406)"
            ]
          },
          "metadata": {
            "tags": []
          },
          "execution_count": 283
        }
      ]
    },
    {
      "cell_type": "code",
      "metadata": {
        "id": "QxKWgY4KjsLI"
      },
      "source": [
        "all_valuesBERT = pd.DataFrame({'real_valuesASP':real_valuesAspect,'real_valuesSENT':real_values, 'pred_ASP':predictionsAspect, 'pred_SENT':predictions })"
      ],
      "execution_count": 284,
      "outputs": []
    },
    {
      "cell_type": "code",
      "metadata": {
        "id": "widvj7FyunVx",
        "colab": {
          "base_uri": "https://localhost:8080/",
          "height": 606
        },
        "outputId": "8f0c4a8a-7773-4086-a18b-69d3ba8cc8cd"
      },
      "source": [
        "all_valuesBERT['real'] = le_classesAspect[all_valuesBERT['real_valuesASP']] + '/'+le_classes[all_valuesBERT['real_valuesSENT']]\n",
        "all_valuesBERT['pred'] = le_classesAspect[all_valuesBERT['pred_ASP']] +'/'+ le_classes[all_valuesBERT['pred_SENT']]\n",
        "all_valuesBERT"
      ],
      "execution_count": 285,
      "outputs": [
        {
          "output_type": "execute_result",
          "data": {
            "text/html": [
              "<div>\n",
              "<style scoped>\n",
              "    .dataframe tbody tr th:only-of-type {\n",
              "        vertical-align: middle;\n",
              "    }\n",
              "\n",
              "    .dataframe tbody tr th {\n",
              "        vertical-align: top;\n",
              "    }\n",
              "\n",
              "    .dataframe thead th {\n",
              "        text-align: right;\n",
              "    }\n",
              "</style>\n",
              "<table border=\"1\" class=\"dataframe\">\n",
              "  <thead>\n",
              "    <tr style=\"text-align: right;\">\n",
              "      <th></th>\n",
              "      <th>real_valuesASP</th>\n",
              "      <th>real_valuesSENT</th>\n",
              "      <th>pred_ASP</th>\n",
              "      <th>pred_SENT</th>\n",
              "      <th>real</th>\n",
              "      <th>pred</th>\n",
              "    </tr>\n",
              "  </thead>\n",
              "  <tbody>\n",
              "    <tr>\n",
              "      <th>0</th>\n",
              "      <td>3</td>\n",
              "      <td>3</td>\n",
              "      <td>3</td>\n",
              "      <td>0</td>\n",
              "      <td>Legalization of Abortion/NONE OF THE ABOVE</td>\n",
              "      <td>Legalization of Abortion/AGAINST</td>\n",
              "    </tr>\n",
              "    <tr>\n",
              "      <th>1</th>\n",
              "      <td>1</td>\n",
              "      <td>1</td>\n",
              "      <td>2</td>\n",
              "      <td>0</td>\n",
              "      <td>Feminist Movement/FOR</td>\n",
              "      <td>Hillary Clinton/AGAINST</td>\n",
              "    </tr>\n",
              "    <tr>\n",
              "      <th>2</th>\n",
              "      <td>3</td>\n",
              "      <td>3</td>\n",
              "      <td>0</td>\n",
              "      <td>0</td>\n",
              "      <td>Legalization of Abortion/NONE OF THE ABOVE</td>\n",
              "      <td>Atheism/AGAINST</td>\n",
              "    </tr>\n",
              "    <tr>\n",
              "      <th>3</th>\n",
              "      <td>1</td>\n",
              "      <td>1</td>\n",
              "      <td>1</td>\n",
              "      <td>0</td>\n",
              "      <td>Feminist Movement/FOR</td>\n",
              "      <td>Feminist Movement/AGAINST</td>\n",
              "    </tr>\n",
              "    <tr>\n",
              "      <th>4</th>\n",
              "      <td>1</td>\n",
              "      <td>1</td>\n",
              "      <td>3</td>\n",
              "      <td>0</td>\n",
              "      <td>Feminist Movement/FOR</td>\n",
              "      <td>Legalization of Abortion/AGAINST</td>\n",
              "    </tr>\n",
              "    <tr>\n",
              "      <th>...</th>\n",
              "      <td>...</td>\n",
              "      <td>...</td>\n",
              "      <td>...</td>\n",
              "      <td>...</td>\n",
              "      <td>...</td>\n",
              "      <td>...</td>\n",
              "    </tr>\n",
              "    <tr>\n",
              "      <th>187</th>\n",
              "      <td>0</td>\n",
              "      <td>0</td>\n",
              "      <td>2</td>\n",
              "      <td>3</td>\n",
              "      <td>Atheism/AGAINST</td>\n",
              "      <td>Hillary Clinton/NONE OF THE ABOVE</td>\n",
              "    </tr>\n",
              "    <tr>\n",
              "      <th>188</th>\n",
              "      <td>0</td>\n",
              "      <td>0</td>\n",
              "      <td>3</td>\n",
              "      <td>0</td>\n",
              "      <td>Atheism/AGAINST</td>\n",
              "      <td>Legalization of Abortion/AGAINST</td>\n",
              "    </tr>\n",
              "    <tr>\n",
              "      <th>189</th>\n",
              "      <td>0</td>\n",
              "      <td>0</td>\n",
              "      <td>2</td>\n",
              "      <td>0</td>\n",
              "      <td>Atheism/AGAINST</td>\n",
              "      <td>Hillary Clinton/AGAINST</td>\n",
              "    </tr>\n",
              "    <tr>\n",
              "      <th>190</th>\n",
              "      <td>0</td>\n",
              "      <td>0</td>\n",
              "      <td>1</td>\n",
              "      <td>1</td>\n",
              "      <td>Atheism/AGAINST</td>\n",
              "      <td>Feminist Movement/FOR</td>\n",
              "    </tr>\n",
              "    <tr>\n",
              "      <th>191</th>\n",
              "      <td>0</td>\n",
              "      <td>0</td>\n",
              "      <td>0</td>\n",
              "      <td>0</td>\n",
              "      <td>Atheism/AGAINST</td>\n",
              "      <td>Atheism/AGAINST</td>\n",
              "    </tr>\n",
              "  </tbody>\n",
              "</table>\n",
              "<p>192 rows × 6 columns</p>\n",
              "</div>"
            ],
            "text/plain": [
              "     real_valuesASP  ...                               pred\n",
              "0                 3  ...   Legalization of Abortion/AGAINST\n",
              "1                 1  ...            Hillary Clinton/AGAINST\n",
              "2                 3  ...                    Atheism/AGAINST\n",
              "3                 1  ...          Feminist Movement/AGAINST\n",
              "4                 1  ...   Legalization of Abortion/AGAINST\n",
              "..              ...  ...                                ...\n",
              "187               0  ...  Hillary Clinton/NONE OF THE ABOVE\n",
              "188               0  ...   Legalization of Abortion/AGAINST\n",
              "189               0  ...            Hillary Clinton/AGAINST\n",
              "190               0  ...              Feminist Movement/FOR\n",
              "191               0  ...                    Atheism/AGAINST\n",
              "\n",
              "[192 rows x 6 columns]"
            ]
          },
          "metadata": {
            "tags": []
          },
          "execution_count": 285
        }
      ]
    },
    {
      "cell_type": "code",
      "metadata": {
        "id": "GVMZR3iSvEDj",
        "colab": {
          "base_uri": "https://localhost:8080/"
        },
        "outputId": "3e1fb0d4-a669-48af-f04f-b1d2b992a620"
      },
      "source": [
        "sum(all_valuesBERT['real'] == all_valuesBERT['pred'])/len(all_valuesBERT)"
      ],
      "execution_count": 286,
      "outputs": [
        {
          "output_type": "execute_result",
          "data": {
            "text/plain": [
              "0.140625"
            ]
          },
          "metadata": {
            "tags": []
          },
          "execution_count": 286
        }
      ]
    },
    {
      "cell_type": "code",
      "metadata": {
        "id": "lBqVVxiIwUKm",
        "colab": {
          "base_uri": "https://localhost:8080/"
        },
        "outputId": "e012e557-088b-4f64-ac5f-fbb2a6f55a7a"
      },
      "source": [
        "targetsBERT = all_valuesBERT['pred'].value_counts().index\n",
        "all_valuesBERT['pred'].value_counts()"
      ],
      "execution_count": 287,
      "outputs": [
        {
          "output_type": "execute_result",
          "data": {
            "text/plain": [
              "Legalization of Abortion/AGAINST              45\n",
              "Hillary Clinton/AGAINST                       40\n",
              "Atheism/AGAINST                               26\n",
              "Feminist Movement/AGAINST                     17\n",
              "Legalization of Abortion/NONE OF THE ABOVE    14\n",
              "Legalization of Abortion/FOR                  14\n",
              "Hillary Clinton/NONE OF THE ABOVE             14\n",
              "Atheism/NONE OF THE ABOVE                      6\n",
              "Hillary Clinton/FOR                            5\n",
              "Feminist Movement/FOR                          5\n",
              "Feminist Movement/NONE OF THE ABOVE            3\n",
              "Atheism/FOR                                    3\n",
              "Name: pred, dtype: int64"
            ]
          },
          "metadata": {
            "tags": []
          },
          "execution_count": 287
        }
      ]
    },
    {
      "cell_type": "code",
      "metadata": {
        "id": "F_Qrn2-lvfku",
        "colab": {
          "base_uri": "https://localhost:8080/"
        },
        "outputId": "51124b54-aa29-44ea-84fc-60f6312f2075"
      },
      "source": [
        "cm = confusion_matrix(all_valuesBERT['real'], all_valuesBERT['pred'])\n",
        "cm"
      ],
      "execution_count": 288,
      "outputs": [
        {
          "output_type": "execute_result",
          "data": {
            "text/plain": [
              "array([[18,  0,  3,  4,  3,  1, 18,  1,  0,  3, 21,  2,  3],\n",
              "       [ 0,  0,  0,  0,  0,  0,  0,  0,  0,  0,  0,  0,  0],\n",
              "       [ 0,  0,  0,  0,  0,  0,  0,  0,  0,  0,  0,  0,  0],\n",
              "       [ 0,  0,  0,  0,  0,  0,  0,  0,  0,  0,  0,  0,  0],\n",
              "       [ 4,  2,  2, 12,  2,  1, 14,  4,  0,  3, 14,  8,  4],\n",
              "       [ 0,  0,  0,  0,  0,  0,  0,  0,  0,  0,  0,  0,  0],\n",
              "       [ 0,  0,  0,  0,  0,  0,  0,  0,  0,  0,  0,  0,  0],\n",
              "       [ 0,  0,  0,  0,  0,  0,  0,  0,  0,  0,  0,  0,  0],\n",
              "       [ 0,  0,  0,  0,  0,  0,  2,  0,  0,  0,  0,  0,  0],\n",
              "       [ 0,  0,  0,  0,  0,  0,  0,  0,  0,  0,  0,  0,  0],\n",
              "       [ 0,  0,  0,  0,  0,  0,  0,  0,  0,  0,  0,  0,  0],\n",
              "       [ 0,  0,  0,  0,  0,  0,  0,  0,  0,  0,  0,  0,  0],\n",
              "       [ 4,  1,  1,  1,  0,  1,  6,  0,  0,  8, 10,  4,  7]])"
            ]
          },
          "metadata": {
            "tags": []
          },
          "execution_count": 288
        }
      ]
    },
    {
      "cell_type": "code",
      "metadata": {
        "id": "XIddbP71vTAf",
        "colab": {
          "base_uri": "https://localhost:8080/",
          "height": 693
        },
        "outputId": "4608acf6-49ad-45f3-fe65-efe425d80c9d"
      },
      "source": [
        "plt.figure(figsize=(10,8))\n",
        "\n",
        "df_cm = pd.DataFrame(cm)\n",
        "show_confusion_matrix(df_cm, 'aspect')\n",
        "print(classification_report(real_valuesAspect, predictionsAspect))"
      ],
      "execution_count": 289,
      "outputs": [
        {
          "output_type": "display_data",
          "data": {
            "image/png": "[encoded data removed]",
            "text/plain": [
              "<Figure size 720x576 with 2 Axes>"
            ]
          },
          "metadata": {
            "tags": []
          }
        },
        {
          "output_type": "stream",
          "text": [
            "              precision    recall  f1-score   support\n",
            "\n",
            "           0       0.60      0.27      0.37        77\n",
            "           1       0.60      0.21      0.32        70\n",
            "           2       0.03      1.00      0.07         2\n",
            "           3       0.29      0.49      0.36        43\n",
            "\n",
            "    accuracy                           0.31       192\n",
            "   macro avg       0.38      0.49      0.28       192\n",
            "weighted avg       0.52      0.31      0.35       192\n",
            "\n"
          ],
          "name": "stdout"
        }
      ]
    },
    {
      "cell_type": "markdown",
      "metadata": {
        "id": "o_sSgIMWBpSc"
      },
      "source": [
        "# 5) Qualitative Analysis"
      ]
    },
    {
      "cell_type": "code",
      "metadata": {
        "id": "kcJ5mpdvsruc"
      },
      "source": [
        "# SAVING MODELS\n",
        "from pickle import dump, load\n",
        "#dump(pipe1, open('gdrive/MyDrive/NLP_Project/pipe_W2V_Sent.pkl', 'wb'))\n",
        "#dump(pipe2, open('gdrive/MyDrive/NLP_Project/pipe_W2V_Asp.pkl', 'wb'))\n",
        "#dump(pol_wv, open('gdrive/MyDrive/NLP_Project/polwv_W2V_tokenizer.pkl', 'wb'))\n",
        "torch.save(sentiment_model, 'gdrive/MyDrive/NLP_Project/sent_BERT.pth')\n",
        "torch.save(aspect_model, 'gdrive/MyDrive/NLP_Project/aspect_BERT.pth')"
      ],
      "execution_count": 290,
      "outputs": []
    },
    {
      "cell_type": "code",
      "metadata": {
        "id": "15Uyln9OtckY"
      },
      "source": [
        "#OPENING MODELS\n",
        "pipe1 = load(open('gdrive/MyDrive/NLP_Project/pipe_W2V_Sent.pkl', 'rb'))\n",
        "pipe2 = load(open('gdrive/MyDrive/NLP_Project/pipe_W2V_Asp.pkl', 'rb'))\n",
        "pol_wv = load(open('gdrive/MyDrive/NLP_Project/polwv_W2V_tokenizer.pkl', 'rb'))\n",
        "sentiment_model = torch.load('gdrive/MyDrive/NLP_Project/sent_BERT.pth')\n",
        "aspect_model = torch.load('gdrive/MyDrive/NLP_Project/aspect_BERT.pth')"
      ],
      "execution_count": 294,
      "outputs": []
    },
    {
      "cell_type": "markdown",
      "metadata": {
        "id": "hANU_66Q1Njo"
      },
      "source": [
        "## Word2Vec"
      ]
    },
    {
      "cell_type": "code",
      "metadata": {
        "id": "2cX_KUx71d9x"
      },
      "source": [
        "def get_prediction_textW2VEC(model1, model2, tokenizer, classes1, classes2, review_text):\n",
        "\n",
        "  dekotenized_text = detokenize_url_hashtags([review_text])\n",
        "  X_review = tokens2vectors(dekotenized_text, tokenizer)\n",
        "  y_pred1 = model1.predict(X_review)\n",
        "  y_pred2 = model2.predict(X_review)\n",
        "\n",
        "  return {'text':review_text, 'pred_model1':classes1[y_pred1], 'pred_model2':classes2[y_pred2]}"
      ],
      "execution_count": null,
      "outputs": []
    },
    {
      "cell_type": "markdown",
      "metadata": {
        "id": "-zJK-2Ln1Yk-"
      },
      "source": [
        "## Bert"
      ]
    },
    {
      "cell_type": "code",
      "metadata": {
        "id": "eLtdDX22Io0b"
      },
      "source": [
        "def get_prediction_text(model1, model2, classes1, classes2, review_text):\n",
        "\n",
        "  dekotenized_text = detokenize_url_hashtags([review_text])\n",
        "  review_df = pd.DataFrame({'sentence':dekotenized_text, 'label':[0]})\n",
        "  review_set = ProgressiveIssuesDataSet(review_df.reset_index(drop=True), maxlen=30,  model_name='bert-base-uncased')\n",
        "  review_loader = DataLoader(review_set, batch_size = 1, num_workers = 1)\n",
        "\n",
        "  model1 = model1.eval()\n",
        "  model2 = model2.eval()\n",
        "\n",
        "  with torch.no_grad():\n",
        "    for it, (seq, attn_masks, labels) in list(enumerate(review_loader)):\n",
        "      outputs1 = model1(\n",
        "        seq=seq,\n",
        "        attn_masks= attn_masks\n",
        "      )\n",
        "\n",
        "      _, preds1 = torch.max(outputs1, dim=1)\n",
        "        \n",
        "      outputs2 = model2(\n",
        "        seq=seq,\n",
        "        attn_masks= attn_masks\n",
        "      )\n",
        "\n",
        "      _, preds2 = torch.max(outputs2, dim=1)\n",
        "\n",
        "\n",
        "  return {'text':review_text, 'pred_model1':classes1[preds1], 'pred_model2':classes2[preds2]}"
      ],
      "execution_count": null,
      "outputs": []
    },
    {
      "cell_type": "markdown",
      "metadata": {
        "id": "z3o8c4BRPsd0"
      },
      "source": [
        "Tweet de @lazyuniverses : \"the hijab ban in France is more than enough evidence that if your feminism isn't DECOLONIAL, it is also a tool for imperialist oppression\"\n"
      ]
    },
    {
      "cell_type": "code",
      "metadata": {
        "id": "kNMZRbx2BsqX",
        "colab": {
          "base_uri": "https://localhost:8080/"
        },
        "outputId": "6d11e82d-6d83-4e94-9440-fad9c6519913"
      },
      "source": [
        "review_text = \"the hijab ban in France is more than enough evidence that if your feminism isn't DECOLONIAL, it is also a tool for imperialist oppression\"\n",
        "get_prediction_text(sentiment_model, aspect_model, le_classes, le_classesAspect, review_text)"
      ],
      "execution_count": 295,
      "outputs": [
        {
          "output_type": "stream",
          "text": [
            "100%|██████████| 1/1 [00:00<00:00, 302.73it/s]\n"
          ],
          "name": "stderr"
        },
        {
          "output_type": "execute_result",
          "data": {
            "text/plain": [
              "{'pred_model1': 'AGAINST',\n",
              " 'pred_model2': 'Feminist Movement',\n",
              " 'text': \"the hijab ban in France is more than enough evidence that if your feminism isn't DECOLONIAL, it is also a tool for imperialist oppression\"}"
            ]
          },
          "metadata": {
            "tags": []
          },
          "execution_count": 295
        }
      ]
    },
    {
      "cell_type": "code",
      "metadata": {
        "id": "HYJZ94JKR9zP",
        "colab": {
          "base_uri": "https://localhost:8080/"
        },
        "outputId": "0798a6c6-785d-4028-f42d-8fd23ffc4024"
      },
      "source": [
        "get_prediction_textW2VEC(pipe1, pipe2, pol_wv, le_classes, le_classesAspect, review_text)"
      ],
      "execution_count": 297,
      "outputs": [
        {
          "output_type": "stream",
          "text": [
            "100%|██████████| 1/1 [00:00<00:00, 2559.06it/s]\n"
          ],
          "name": "stderr"
        },
        {
          "output_type": "execute_result",
          "data": {
            "text/plain": [
              "{'pred_model1': array(['AGAINST'], dtype=object),\n",
              " 'pred_model2': array(['Hillary Clinton'], dtype=object),\n",
              " 'text': \"the hijab ban in France is more than enough evidence that if your feminism isn't DECOLONIAL, it is also a tool for imperialist oppression\"}"
            ]
          },
          "metadata": {
            "tags": []
          },
          "execution_count": 297
        }
      ]
    },
    {
      "cell_type": "markdown",
      "metadata": {
        "id": "h0ahGtjOh3Uz"
      },
      "source": [
        "Tweet de @AOC : \"Cameras, chokehold bans, “retraining” funds, and similar reform measures do not ultimately solve what is a systemic problem.\n",
        "\n",
        "That system will find a way - killings happen on camera, people are killed in other ways, retraining grows $ while often substituting for deeper measures.\""
      ]
    },
    {
      "cell_type": "code",
      "metadata": {
        "id": "YUfIO3xNJK55",
        "colab": {
          "base_uri": "https://localhost:8080/"
        },
        "outputId": "b6adbda1-073c-4b13-98a3-82739d65feea"
      },
      "source": [
        "review_text2 = \"Cameras, chokehold bans, “retraining” funds, and similar reform measures do not ultimately solve what is a systemic problem. \\n That system will find a way - killings happen on camera, people are killed in other ways, retraining grows $ while often substituting for deeper measures.\"\n",
        "get_prediction_text(sentiment_model, aspect_model, le_classes, le_classesAspect, review_text2)"
      ],
      "execution_count": 292,
      "outputs": [
        {
          "output_type": "stream",
          "text": [
            "100%|██████████| 1/1 [00:00<00:00, 1006.79it/s]\n"
          ],
          "name": "stderr"
        },
        {
          "output_type": "execute_result",
          "data": {
            "text/plain": [
              "{'pred_model1': 'NONE OF THE ABOVE',\n",
              " 'pred_model2': 'Hillary Clinton',\n",
              " 'text': 'Cameras, chokehold bans, “retraining” funds, and similar reform measures do not ultimately solve what is a systemic problem. \\n That system will find a way - killings happen on camera, people are killed in other ways, retraining grows $ while often substituting for deeper measures.'}"
            ]
          },
          "metadata": {
            "tags": []
          },
          "execution_count": 292
        }
      ]
    },
    {
      "cell_type": "code",
      "metadata": {
        "id": "vZjHvtY5BNqy",
        "outputId": "a8e6889c-e8b8-4001-eed5-d43d1e40d214",
        "colab": {
          "base_uri": "https://localhost:8080/"
        }
      },
      "source": [
        "get_prediction_textW2VEC(pipe1, pipe2, pol_wv, le_classes, le_classesAspect, review_text2)"
      ],
      "execution_count": 298,
      "outputs": [
        {
          "output_type": "stream",
          "text": [
            "100%|██████████| 1/1 [00:00<00:00, 1271.00it/s]\n"
          ],
          "name": "stderr"
        },
        {
          "output_type": "execute_result",
          "data": {
            "text/plain": [
              "{'pred_model1': array(['AGAINST'], dtype=object),\n",
              " 'pred_model2': array(['Atheism'], dtype=object),\n",
              " 'text': 'Cameras, chokehold bans, “retraining” funds, and similar reform measures do not ultimately solve what is a systemic problem. \\n That system will find a way - killings happen on camera, people are killed in other ways, retraining grows $ while often substituting for deeper measures.'}"
            ]
          },
          "metadata": {
            "tags": []
          },
          "execution_count": 298
        }
      ]
    },
    {
      "cell_type": "code",
      "metadata": {
        "id": "c7FwHopLjhs9"
      },
      "source": [
        ""
      ],
      "execution_count": null,
      "outputs": []
    }
  ]
}