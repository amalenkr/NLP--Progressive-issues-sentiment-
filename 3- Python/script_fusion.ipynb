{
 "cells": [
  {
   "cell_type": "markdown",
   "metadata": {},
   "source": [
    "## NLP Sentiment classification"
   ]
  },
  {
   "cell_type": "code",
   "execution_count": 116,
   "metadata": {},
   "outputs": [
    {
     "name": "stderr",
     "output_type": "stream",
     "text": [
      "[nltk_data] Downloading package stopwords to\n",
      "[nltk_data]     C:\\Users\\amale\\AppData\\Roaming\\nltk_data...\n",
      "[nltk_data]   Package stopwords is already up-to-date!\n"
     ]
    }
   ],
   "source": [
    "import pandas as pd\n",
    "import numpy as np\n",
    "import matplotlib.pyplot as plt\n",
    "import pickle as pckl\n",
    "import seaborn as sns\n",
    "sns.set_theme()\n",
    "from wordcloud import WordCloud, STOPWORDS, ImageColorGenerator\n",
    "import re\n",
    "import nltk\n",
    "nltk.download('stopwords')\n",
    "from nltk.corpus import stopwords"
   ]
  },
  {
   "cell_type": "markdown",
   "metadata": {},
   "source": [
    "#### Extraction et recodage des données"
   ]
  },
  {
   "cell_type": "code",
   "execution_count": 5,
   "metadata": {
    "scrolled": true
   },
   "outputs": [],
   "source": [
    "database = pckl.load(open('data_query.p', 'rb'))"
   ]
  },
  {
   "cell_type": "code",
   "execution_count": 6,
   "metadata": {},
   "outputs": [],
   "source": [
    "database = database.rename(columns={'q1_from_reading_the_tweet_which_of_the_options_below_is_most_likely_to_be_true_about_the_stance_or_outlook_of_the_tweeter_towards_the_target' : 'q1', 'q1_from_reading_the_tweet_which_of_the_options_below_is_most_likely_to_be_true_about_the_stance_or_outlook_of_the_tweeter_towards_the_target_confidence': 'q1_confidence', 'q2_which_of_the_options_below_is_true_about_the_opinion_in_the_tweet' : 'q2', 'q2_which_of_the_options_below_is_true_about_the_opinion_in_the_tweet_confidence': 'q2_confidence'})"
   ]
  },
  {
   "cell_type": "code",
   "execution_count": 8,
   "metadata": {},
   "outputs": [
    {
     "data": {
      "text/plain": [
       "AGAINST: We can infer from the tweet that the tweeter is against the target (e.g., directly or indirectly by opposing or criticizing someone/something, by supporting someone/something opposed to the target, or by echoing the stance of somebody else).                                                                                                483\n",
       "FOR: We can infer from the tweet that the tweeter supports the target (e.g., directly or indirectly by supporting someone/something, by opposing or criticizing someone/something opposed to the target, or by echoing the stance of somebody else).                                                                                                      348\n",
       "NONE OF THE ABOVE: There is no clue in the tweet to reveal the stance of the tweeter towards the target (support/against/neutral).                                                                                                                                                                                                                        317\n",
       "NEUTRAL: We can infer from the tweet that the tweeter has a neutral stance towards the target. (The tweet being neither favorable nor against the target is not sufficient reason for choosing this option. One reason for choosing this option is that the tweeter supports the target entity to some extent, but is also against it to some extent.)     11\n",
       "Name: q1, dtype: int64"
      ]
     },
     "execution_count": 8,
     "metadata": {},
     "output_type": "execute_result"
    }
   ],
   "source": [
    "database['q1'].value_counts()"
   ]
  },
  {
   "cell_type": "code",
   "execution_count": 12,
   "metadata": {},
   "outputs": [],
   "source": [
    "database['q1'] = database['q1'].replace({'AGAINST: We can infer from the tweet that the tweeter is against the target (e.g., directly or indirectly by opposing or criticizing someone/something, by supporting someone/something opposed to the target, or by echoing the stance of somebody else).':'AGAINST', 'FOR: We can infer from the tweet that the tweeter supports the target (e.g., directly or indirectly by supporting someone/something, by opposing or criticizing someone/something opposed to the target, or by echoing the stance of somebody else).':'FOR', 'NONE OF THE ABOVE: There is no clue in the tweet to reveal the stance of the tweeter towards the target (support/against/neutral).':'NONE OF THE ABOVE','NEUTRAL: We can infer from the tweet that the tweeter has a neutral stance towards the target. (The tweet being neither favorable nor against the target is not sufficient reason for choosing this option. One reason for choosing this option is that the tweeter supports the target entity to some extent, but is also against it to some extent.)': 'NEUTRAL'})"
   ]
  },
  {
   "cell_type": "code",
   "execution_count": 13,
   "metadata": {},
   "outputs": [
    {
     "data": {
      "text/plain": [
       "AGAINST              483\n",
       "FOR                  348\n",
       "NONE OF THE ABOVE    317\n",
       "NEUTRAL               11\n",
       "Name: q1, dtype: int64"
      ]
     },
     "execution_count": 13,
     "metadata": {},
     "output_type": "execute_result"
    }
   ],
   "source": [
    "database['q1'].value_counts()"
   ]
  },
  {
   "cell_type": "markdown",
   "metadata": {},
   "source": [
    "## Exploration"
   ]
  },
  {
   "cell_type": "code",
   "execution_count": 14,
   "metadata": {},
   "outputs": [
    {
     "data": {
      "text/html": [
       "<div>\n",
       "<style scoped>\n",
       "    .dataframe tbody tr th:only-of-type {\n",
       "        vertical-align: middle;\n",
       "    }\n",
       "\n",
       "    .dataframe tbody tr th {\n",
       "        vertical-align: top;\n",
       "    }\n",
       "\n",
       "    .dataframe thead th {\n",
       "        text-align: right;\n",
       "    }\n",
       "</style>\n",
       "<table border=\"1\" class=\"dataframe\">\n",
       "  <thead>\n",
       "    <tr style=\"text-align: right;\">\n",
       "      <th></th>\n",
       "      <th>unit_id</th>\n",
       "      <th>golden</th>\n",
       "      <th>unit_state</th>\n",
       "      <th>trusted_judgments</th>\n",
       "      <th>last_judgment_at</th>\n",
       "      <th>q1</th>\n",
       "      <th>q1_confidence</th>\n",
       "      <th>q2</th>\n",
       "      <th>q2_confidence</th>\n",
       "      <th>orig_golden</th>\n",
       "      <th>internal_id</th>\n",
       "      <th>orig_q1_from_reading_the_tweet_which_of_the_options_below_is_most_likely_to_be_true_about_the_stance_or_outlook_of_the_tweeter_towards_the_target</th>\n",
       "      <th>q1_from_reading_the_tweet_which_of_the_options_below_is_most_likely_to_be_true_about_the_stance_or_outlook_of_the_tweeter_towards_the_target_gold</th>\n",
       "      <th>orig_q2_which_of_the_options_below_is_true_about_the_opinion_in_the_tweet</th>\n",
       "      <th>target</th>\n",
       "      <th>tweet</th>\n",
       "      <th>tweet_id</th>\n",
       "    </tr>\n",
       "  </thead>\n",
       "  <tbody>\n",
       "    <tr>\n",
       "      <th>0</th>\n",
       "      <td>713632888</td>\n",
       "      <td>True</td>\n",
       "      <td>golden</td>\n",
       "      <td>30</td>\n",
       "      <td>None</td>\n",
       "      <td>AGAINST</td>\n",
       "      <td>0.6581</td>\n",
       "      <td>2. The tweet does NOT expresses opinion about ...</td>\n",
       "      <td>0.4976</td>\n",
       "      <td>True</td>\n",
       "      <td>189</td>\n",
       "      <td>None</td>\n",
       "      <td>AGAINST: We can infer from the tweet that the ...</td>\n",
       "      <td>None</td>\n",
       "      <td>Legalization of Abortion</td>\n",
       "      <td>Thank you for another day of life Lord. #Chris...</td>\n",
       "      <td>id588718177095266305</td>\n",
       "    </tr>\n",
       "    <tr>\n",
       "      <th>1</th>\n",
       "      <td>713632889</td>\n",
       "      <td>False</td>\n",
       "      <td>golden</td>\n",
       "      <td>2</td>\n",
       "      <td>None</td>\n",
       "      <td>NONE OF THE ABOVE</td>\n",
       "      <td>1.0000</td>\n",
       "      <td>2. The tweet does NOT expresses opinion about ...</td>\n",
       "      <td>0.5294</td>\n",
       "      <td>True</td>\n",
       "      <td>190</td>\n",
       "      <td>None</td>\n",
       "      <td>AGAINST: We can infer from the tweet that the ...</td>\n",
       "      <td>None</td>\n",
       "      <td>Legalization of Abortion</td>\n",
       "      <td>@rosaryrevival Lovely to use Glorious Mysterie...</td>\n",
       "      <td>id592798858725425152</td>\n",
       "    </tr>\n",
       "    <tr>\n",
       "      <th>2</th>\n",
       "      <td>713632890</td>\n",
       "      <td>True</td>\n",
       "      <td>golden</td>\n",
       "      <td>26</td>\n",
       "      <td>None</td>\n",
       "      <td>AGAINST</td>\n",
       "      <td>0.8859</td>\n",
       "      <td>1.  The tweet explicitly expresses opinion abo...</td>\n",
       "      <td>0.8820</td>\n",
       "      <td>True</td>\n",
       "      <td>207</td>\n",
       "      <td>None</td>\n",
       "      <td>AGAINST: We can infer from the tweet that the ...</td>\n",
       "      <td>None</td>\n",
       "      <td>Legalization of Abortion</td>\n",
       "      <td>@Niall250 good thing is that #DUP have consist...</td>\n",
       "      <td>id593472619208380419</td>\n",
       "    </tr>\n",
       "    <tr>\n",
       "      <th>3</th>\n",
       "      <td>713632891</td>\n",
       "      <td>False</td>\n",
       "      <td>golden</td>\n",
       "      <td>3</td>\n",
       "      <td>None</td>\n",
       "      <td>AGAINST</td>\n",
       "      <td>0.6323</td>\n",
       "      <td>1.  The tweet explicitly expresses opinion abo...</td>\n",
       "      <td>0.6323</td>\n",
       "      <td>True</td>\n",
       "      <td>211</td>\n",
       "      <td>None</td>\n",
       "      <td>AGAINST: We can infer from the tweet that the ...</td>\n",
       "      <td>None</td>\n",
       "      <td>Legalization of Abortion</td>\n",
       "      <td>So, you tell me... is murder okay if the victi...</td>\n",
       "      <td>id592699132399194112</td>\n",
       "    </tr>\n",
       "    <tr>\n",
       "      <th>4</th>\n",
       "      <td>713632892</td>\n",
       "      <td>True</td>\n",
       "      <td>golden</td>\n",
       "      <td>31</td>\n",
       "      <td>None</td>\n",
       "      <td>AGAINST</td>\n",
       "      <td>0.8920</td>\n",
       "      <td>1.  The tweet explicitly expresses opinion abo...</td>\n",
       "      <td>0.8939</td>\n",
       "      <td>True</td>\n",
       "      <td>213</td>\n",
       "      <td>None</td>\n",
       "      <td>AGAINST: We can infer from the tweet that the ...</td>\n",
       "      <td>None</td>\n",
       "      <td>Legalization of Abortion</td>\n",
       "      <td>@HillaryClinton Don't you mean to say (all chi...</td>\n",
       "      <td>id588527665365188608</td>\n",
       "    </tr>\n",
       "  </tbody>\n",
       "</table>\n",
       "</div>"
      ],
      "text/plain": [
       "     unit_id  golden unit_state  trusted_judgments last_judgment_at  \\\n",
       "0  713632888    True     golden                 30             None   \n",
       "1  713632889   False     golden                  2             None   \n",
       "2  713632890    True     golden                 26             None   \n",
       "3  713632891   False     golden                  3             None   \n",
       "4  713632892    True     golden                 31             None   \n",
       "\n",
       "                  q1  q1_confidence  \\\n",
       "0            AGAINST         0.6581   \n",
       "1  NONE OF THE ABOVE         1.0000   \n",
       "2            AGAINST         0.8859   \n",
       "3            AGAINST         0.6323   \n",
       "4            AGAINST         0.8920   \n",
       "\n",
       "                                                  q2  q2_confidence  \\\n",
       "0  2. The tweet does NOT expresses opinion about ...         0.4976   \n",
       "1  2. The tweet does NOT expresses opinion about ...         0.5294   \n",
       "2  1.  The tweet explicitly expresses opinion abo...         0.8820   \n",
       "3  1.  The tweet explicitly expresses opinion abo...         0.6323   \n",
       "4  1.  The tweet explicitly expresses opinion abo...         0.8939   \n",
       "\n",
       "  orig_golden  internal_id  \\\n",
       "0        True          189   \n",
       "1        True          190   \n",
       "2        True          207   \n",
       "3        True          211   \n",
       "4        True          213   \n",
       "\n",
       "  orig_q1_from_reading_the_tweet_which_of_the_options_below_is_most_likely_to_be_true_about_the_stance_or_outlook_of_the_tweeter_towards_the_target  \\\n",
       "0                                               None                                                                                                  \n",
       "1                                               None                                                                                                  \n",
       "2                                               None                                                                                                  \n",
       "3                                               None                                                                                                  \n",
       "4                                               None                                                                                                  \n",
       "\n",
       "  q1_from_reading_the_tweet_which_of_the_options_below_is_most_likely_to_be_true_about_the_stance_or_outlook_of_the_tweeter_towards_the_target_gold  \\\n",
       "0  AGAINST: We can infer from the tweet that the ...                                                                                                  \n",
       "1  AGAINST: We can infer from the tweet that the ...                                                                                                  \n",
       "2  AGAINST: We can infer from the tweet that the ...                                                                                                  \n",
       "3  AGAINST: We can infer from the tweet that the ...                                                                                                  \n",
       "4  AGAINST: We can infer from the tweet that the ...                                                                                                  \n",
       "\n",
       "  orig_q2_which_of_the_options_below_is_true_about_the_opinion_in_the_tweet  \\\n",
       "0                                               None                          \n",
       "1                                               None                          \n",
       "2                                               None                          \n",
       "3                                               None                          \n",
       "4                                               None                          \n",
       "\n",
       "                     target  \\\n",
       "0  Legalization of Abortion   \n",
       "1  Legalization of Abortion   \n",
       "2  Legalization of Abortion   \n",
       "3  Legalization of Abortion   \n",
       "4  Legalization of Abortion   \n",
       "\n",
       "                                               tweet              tweet_id  \n",
       "0  Thank you for another day of life Lord. #Chris...  id588718177095266305  \n",
       "1  @rosaryrevival Lovely to use Glorious Mysterie...  id592798858725425152  \n",
       "2  @Niall250 good thing is that #DUP have consist...  id593472619208380419  \n",
       "3  So, you tell me... is murder okay if the victi...  id592699132399194112  \n",
       "4  @HillaryClinton Don't you mean to say (all chi...  id588527665365188608  "
      ]
     },
     "execution_count": 14,
     "metadata": {},
     "output_type": "execute_result"
    }
   ],
   "source": [
    "database.head()"
   ]
  },
  {
   "cell_type": "code",
   "execution_count": 15,
   "metadata": {},
   "outputs": [
    {
     "data": {
      "text/plain": [
       "(1159, 17)"
      ]
     },
     "execution_count": 15,
     "metadata": {},
     "output_type": "execute_result"
    }
   ],
   "source": [
    "database.shape"
   ]
  },
  {
   "cell_type": "code",
   "execution_count": 16,
   "metadata": {},
   "outputs": [
    {
     "data": {
      "text/html": [
       "<div>\n",
       "<style scoped>\n",
       "    .dataframe tbody tr th:only-of-type {\n",
       "        vertical-align: middle;\n",
       "    }\n",
       "\n",
       "    .dataframe tbody tr th {\n",
       "        vertical-align: top;\n",
       "    }\n",
       "\n",
       "    .dataframe thead th {\n",
       "        text-align: right;\n",
       "    }\n",
       "</style>\n",
       "<table border=\"1\" class=\"dataframe\">\n",
       "  <thead>\n",
       "    <tr style=\"text-align: right;\">\n",
       "      <th></th>\n",
       "      <th>count</th>\n",
       "      <th>unique</th>\n",
       "      <th>top</th>\n",
       "      <th>freq</th>\n",
       "      <th>mean</th>\n",
       "      <th>std</th>\n",
       "      <th>min</th>\n",
       "      <th>25%</th>\n",
       "      <th>50%</th>\n",
       "      <th>75%</th>\n",
       "      <th>max</th>\n",
       "    </tr>\n",
       "  </thead>\n",
       "  <tbody>\n",
       "    <tr>\n",
       "      <th>unit_id</th>\n",
       "      <td>1159</td>\n",
       "      <td>NaN</td>\n",
       "      <td>NaN</td>\n",
       "      <td>NaN</td>\n",
       "      <td>7.13633e+08</td>\n",
       "      <td>335.487</td>\n",
       "      <td>7.13633e+08</td>\n",
       "      <td>7.13633e+08</td>\n",
       "      <td>7.13633e+08</td>\n",
       "      <td>7.13634e+08</td>\n",
       "      <td>7.13634e+08</td>\n",
       "    </tr>\n",
       "    <tr>\n",
       "      <th>golden</th>\n",
       "      <td>1159</td>\n",
       "      <td>2</td>\n",
       "      <td>False</td>\n",
       "      <td>1105</td>\n",
       "      <td>NaN</td>\n",
       "      <td>NaN</td>\n",
       "      <td>NaN</td>\n",
       "      <td>NaN</td>\n",
       "      <td>NaN</td>\n",
       "      <td>NaN</td>\n",
       "      <td>NaN</td>\n",
       "    </tr>\n",
       "    <tr>\n",
       "      <th>unit_state</th>\n",
       "      <td>1159</td>\n",
       "      <td>2</td>\n",
       "      <td>finalized</td>\n",
       "      <td>1090</td>\n",
       "      <td>NaN</td>\n",
       "      <td>NaN</td>\n",
       "      <td>NaN</td>\n",
       "      <td>NaN</td>\n",
       "      <td>NaN</td>\n",
       "      <td>NaN</td>\n",
       "      <td>NaN</td>\n",
       "    </tr>\n",
       "    <tr>\n",
       "      <th>trusted_judgments</th>\n",
       "      <td>1159</td>\n",
       "      <td>NaN</td>\n",
       "      <td>NaN</td>\n",
       "      <td>NaN</td>\n",
       "      <td>8.96635</td>\n",
       "      <td>4.79184</td>\n",
       "      <td>2</td>\n",
       "      <td>8</td>\n",
       "      <td>8</td>\n",
       "      <td>8</td>\n",
       "      <td>38</td>\n",
       "    </tr>\n",
       "    <tr>\n",
       "      <th>last_judgment_at</th>\n",
       "      <td>1090</td>\n",
       "      <td>152</td>\n",
       "      <td>2015-05-04T06:00:00</td>\n",
       "      <td>14</td>\n",
       "      <td>NaN</td>\n",
       "      <td>NaN</td>\n",
       "      <td>NaN</td>\n",
       "      <td>NaN</td>\n",
       "      <td>NaN</td>\n",
       "      <td>NaN</td>\n",
       "      <td>NaN</td>\n",
       "    </tr>\n",
       "    <tr>\n",
       "      <th>q1</th>\n",
       "      <td>1159</td>\n",
       "      <td>4</td>\n",
       "      <td>AGAINST</td>\n",
       "      <td>483</td>\n",
       "      <td>NaN</td>\n",
       "      <td>NaN</td>\n",
       "      <td>NaN</td>\n",
       "      <td>NaN</td>\n",
       "      <td>NaN</td>\n",
       "      <td>NaN</td>\n",
       "      <td>NaN</td>\n",
       "    </tr>\n",
       "    <tr>\n",
       "      <th>q1_confidence</th>\n",
       "      <td>1159</td>\n",
       "      <td>NaN</td>\n",
       "      <td>NaN</td>\n",
       "      <td>NaN</td>\n",
       "      <td>0.78027</td>\n",
       "      <td>0.195433</td>\n",
       "      <td>0.2575</td>\n",
       "      <td>0.6225</td>\n",
       "      <td>0.8143</td>\n",
       "      <td>1</td>\n",
       "      <td>1</td>\n",
       "    </tr>\n",
       "    <tr>\n",
       "      <th>q2</th>\n",
       "      <td>1159</td>\n",
       "      <td>3</td>\n",
       "      <td>1.  The tweet explicitly expresses opinion abo...</td>\n",
       "      <td>730</td>\n",
       "      <td>NaN</td>\n",
       "      <td>NaN</td>\n",
       "      <td>NaN</td>\n",
       "      <td>NaN</td>\n",
       "      <td>NaN</td>\n",
       "      <td>NaN</td>\n",
       "      <td>NaN</td>\n",
       "    </tr>\n",
       "    <tr>\n",
       "      <th>q2_confidence</th>\n",
       "      <td>1159</td>\n",
       "      <td>NaN</td>\n",
       "      <td>NaN</td>\n",
       "      <td>NaN</td>\n",
       "      <td>0.721863</td>\n",
       "      <td>0.195343</td>\n",
       "      <td>0.3732</td>\n",
       "      <td>0.51715</td>\n",
       "      <td>0.7407</td>\n",
       "      <td>0.88275</td>\n",
       "      <td>1</td>\n",
       "    </tr>\n",
       "    <tr>\n",
       "      <th>orig_golden</th>\n",
       "      <td>69</td>\n",
       "      <td>1</td>\n",
       "      <td>True</td>\n",
       "      <td>69</td>\n",
       "      <td>NaN</td>\n",
       "      <td>NaN</td>\n",
       "      <td>NaN</td>\n",
       "      <td>NaN</td>\n",
       "      <td>NaN</td>\n",
       "      <td>NaN</td>\n",
       "      <td>NaN</td>\n",
       "    </tr>\n",
       "    <tr>\n",
       "      <th>internal_id</th>\n",
       "      <td>1159</td>\n",
       "      <td>NaN</td>\n",
       "      <td>NaN</td>\n",
       "      <td>NaN</td>\n",
       "      <td>1107.84</td>\n",
       "      <td>1797.62</td>\n",
       "      <td>1</td>\n",
       "      <td>240</td>\n",
       "      <td>336</td>\n",
       "      <td>439</td>\n",
       "      <td>5194</td>\n",
       "    </tr>\n",
       "    <tr>\n",
       "      <th>orig_q1_from_reading_the_tweet_which_of_the_options_below_is_most_likely_to_be_true_about_the_stance_or_outlook_of_the_tweeter_towards_the_target</th>\n",
       "      <td>0</td>\n",
       "      <td>0</td>\n",
       "      <td>NaN</td>\n",
       "      <td>NaN</td>\n",
       "      <td>NaN</td>\n",
       "      <td>NaN</td>\n",
       "      <td>NaN</td>\n",
       "      <td>NaN</td>\n",
       "      <td>NaN</td>\n",
       "      <td>NaN</td>\n",
       "      <td>NaN</td>\n",
       "    </tr>\n",
       "    <tr>\n",
       "      <th>q1_from_reading_the_tweet_which_of_the_options_below_is_most_likely_to_be_true_about_the_stance_or_outlook_of_the_tweeter_towards_the_target_gold</th>\n",
       "      <td>69</td>\n",
       "      <td>7</td>\n",
       "      <td>AGAINST: We can infer from the tweet that the ...</td>\n",
       "      <td>37</td>\n",
       "      <td>NaN</td>\n",
       "      <td>NaN</td>\n",
       "      <td>NaN</td>\n",
       "      <td>NaN</td>\n",
       "      <td>NaN</td>\n",
       "      <td>NaN</td>\n",
       "      <td>NaN</td>\n",
       "    </tr>\n",
       "    <tr>\n",
       "      <th>orig_q2_which_of_the_options_below_is_true_about_the_opinion_in_the_tweet</th>\n",
       "      <td>0</td>\n",
       "      <td>0</td>\n",
       "      <td>NaN</td>\n",
       "      <td>NaN</td>\n",
       "      <td>NaN</td>\n",
       "      <td>NaN</td>\n",
       "      <td>NaN</td>\n",
       "      <td>NaN</td>\n",
       "      <td>NaN</td>\n",
       "      <td>NaN</td>\n",
       "      <td>NaN</td>\n",
       "    </tr>\n",
       "    <tr>\n",
       "      <th>target</th>\n",
       "      <td>1159</td>\n",
       "      <td>4</td>\n",
       "      <td>Feminist Movement</td>\n",
       "      <td>319</td>\n",
       "      <td>NaN</td>\n",
       "      <td>NaN</td>\n",
       "      <td>NaN</td>\n",
       "      <td>NaN</td>\n",
       "      <td>NaN</td>\n",
       "      <td>NaN</td>\n",
       "      <td>NaN</td>\n",
       "    </tr>\n",
       "    <tr>\n",
       "      <th>tweet</th>\n",
       "      <td>1159</td>\n",
       "      <td>1152</td>\n",
       "      <td>It's time that we move from good words 2 good ...</td>\n",
       "      <td>2</td>\n",
       "      <td>NaN</td>\n",
       "      <td>NaN</td>\n",
       "      <td>NaN</td>\n",
       "      <td>NaN</td>\n",
       "      <td>NaN</td>\n",
       "      <td>NaN</td>\n",
       "      <td>NaN</td>\n",
       "    </tr>\n",
       "    <tr>\n",
       "      <th>tweet_id</th>\n",
       "      <td>1159</td>\n",
       "      <td>1159</td>\n",
       "      <td>id593175825878523904</td>\n",
       "      <td>1</td>\n",
       "      <td>NaN</td>\n",
       "      <td>NaN</td>\n",
       "      <td>NaN</td>\n",
       "      <td>NaN</td>\n",
       "      <td>NaN</td>\n",
       "      <td>NaN</td>\n",
       "      <td>NaN</td>\n",
       "    </tr>\n",
       "  </tbody>\n",
       "</table>\n",
       "</div>"
      ],
      "text/plain": [
       "                                                   count unique  \\\n",
       "unit_id                                             1159    NaN   \n",
       "golden                                              1159      2   \n",
       "unit_state                                          1159      2   \n",
       "trusted_judgments                                   1159    NaN   \n",
       "last_judgment_at                                    1090    152   \n",
       "q1                                                  1159      4   \n",
       "q1_confidence                                       1159    NaN   \n",
       "q2                                                  1159      3   \n",
       "q2_confidence                                       1159    NaN   \n",
       "orig_golden                                           69      1   \n",
       "internal_id                                         1159    NaN   \n",
       "orig_q1_from_reading_the_tweet_which_of_the_opt...     0      0   \n",
       "q1_from_reading_the_tweet_which_of_the_options_...    69      7   \n",
       "orig_q2_which_of_the_options_below_is_true_abou...     0      0   \n",
       "target                                              1159      4   \n",
       "tweet                                               1159   1152   \n",
       "tweet_id                                            1159   1159   \n",
       "\n",
       "                                                                                                  top  \\\n",
       "unit_id                                                                                           NaN   \n",
       "golden                                                                                          False   \n",
       "unit_state                                                                                  finalized   \n",
       "trusted_judgments                                                                                 NaN   \n",
       "last_judgment_at                                                                  2015-05-04T06:00:00   \n",
       "q1                                                                                            AGAINST   \n",
       "q1_confidence                                                                                     NaN   \n",
       "q2                                                  1.  The tweet explicitly expresses opinion abo...   \n",
       "q2_confidence                                                                                     NaN   \n",
       "orig_golden                                                                                      True   \n",
       "internal_id                                                                                       NaN   \n",
       "orig_q1_from_reading_the_tweet_which_of_the_opt...                                                NaN   \n",
       "q1_from_reading_the_tweet_which_of_the_options_...  AGAINST: We can infer from the tweet that the ...   \n",
       "orig_q2_which_of_the_options_below_is_true_abou...                                                NaN   \n",
       "target                                                                              Feminist Movement   \n",
       "tweet                                               It's time that we move from good words 2 good ...   \n",
       "tweet_id                                                                         id593175825878523904   \n",
       "\n",
       "                                                    freq         mean  \\\n",
       "unit_id                                              NaN  7.13633e+08   \n",
       "golden                                              1105          NaN   \n",
       "unit_state                                          1090          NaN   \n",
       "trusted_judgments                                    NaN      8.96635   \n",
       "last_judgment_at                                      14          NaN   \n",
       "q1                                                   483          NaN   \n",
       "q1_confidence                                        NaN      0.78027   \n",
       "q2                                                   730          NaN   \n",
       "q2_confidence                                        NaN     0.721863   \n",
       "orig_golden                                           69          NaN   \n",
       "internal_id                                          NaN      1107.84   \n",
       "orig_q1_from_reading_the_tweet_which_of_the_opt...   NaN          NaN   \n",
       "q1_from_reading_the_tweet_which_of_the_options_...    37          NaN   \n",
       "orig_q2_which_of_the_options_below_is_true_abou...   NaN          NaN   \n",
       "target                                               319          NaN   \n",
       "tweet                                                  2          NaN   \n",
       "tweet_id                                               1          NaN   \n",
       "\n",
       "                                                         std          min  \\\n",
       "unit_id                                              335.487  7.13633e+08   \n",
       "golden                                                   NaN          NaN   \n",
       "unit_state                                               NaN          NaN   \n",
       "trusted_judgments                                    4.79184            2   \n",
       "last_judgment_at                                         NaN          NaN   \n",
       "q1                                                       NaN          NaN   \n",
       "q1_confidence                                       0.195433       0.2575   \n",
       "q2                                                       NaN          NaN   \n",
       "q2_confidence                                       0.195343       0.3732   \n",
       "orig_golden                                              NaN          NaN   \n",
       "internal_id                                          1797.62            1   \n",
       "orig_q1_from_reading_the_tweet_which_of_the_opt...       NaN          NaN   \n",
       "q1_from_reading_the_tweet_which_of_the_options_...       NaN          NaN   \n",
       "orig_q2_which_of_the_options_below_is_true_abou...       NaN          NaN   \n",
       "target                                                   NaN          NaN   \n",
       "tweet                                                    NaN          NaN   \n",
       "tweet_id                                                 NaN          NaN   \n",
       "\n",
       "                                                            25%          50%  \\\n",
       "unit_id                                             7.13633e+08  7.13633e+08   \n",
       "golden                                                      NaN          NaN   \n",
       "unit_state                                                  NaN          NaN   \n",
       "trusted_judgments                                             8            8   \n",
       "last_judgment_at                                            NaN          NaN   \n",
       "q1                                                          NaN          NaN   \n",
       "q1_confidence                                            0.6225       0.8143   \n",
       "q2                                                          NaN          NaN   \n",
       "q2_confidence                                           0.51715       0.7407   \n",
       "orig_golden                                                 NaN          NaN   \n",
       "internal_id                                                 240          336   \n",
       "orig_q1_from_reading_the_tweet_which_of_the_opt...          NaN          NaN   \n",
       "q1_from_reading_the_tweet_which_of_the_options_...          NaN          NaN   \n",
       "orig_q2_which_of_the_options_below_is_true_abou...          NaN          NaN   \n",
       "target                                                      NaN          NaN   \n",
       "tweet                                                       NaN          NaN   \n",
       "tweet_id                                                    NaN          NaN   \n",
       "\n",
       "                                                            75%          max  \n",
       "unit_id                                             7.13634e+08  7.13634e+08  \n",
       "golden                                                      NaN          NaN  \n",
       "unit_state                                                  NaN          NaN  \n",
       "trusted_judgments                                             8           38  \n",
       "last_judgment_at                                            NaN          NaN  \n",
       "q1                                                          NaN          NaN  \n",
       "q1_confidence                                                 1            1  \n",
       "q2                                                          NaN          NaN  \n",
       "q2_confidence                                           0.88275            1  \n",
       "orig_golden                                                 NaN          NaN  \n",
       "internal_id                                                 439         5194  \n",
       "orig_q1_from_reading_the_tweet_which_of_the_opt...          NaN          NaN  \n",
       "q1_from_reading_the_tweet_which_of_the_options_...          NaN          NaN  \n",
       "orig_q2_which_of_the_options_below_is_true_abou...          NaN          NaN  \n",
       "target                                                      NaN          NaN  \n",
       "tweet                                                       NaN          NaN  \n",
       "tweet_id                                                    NaN          NaN  "
      ]
     },
     "execution_count": 16,
     "metadata": {},
     "output_type": "execute_result"
    }
   ],
   "source": [
    "database.describe(include= 'all').transpose()"
   ]
  },
  {
   "cell_type": "code",
   "execution_count": 17,
   "metadata": {},
   "outputs": [
    {
     "data": {
      "text/plain": [
       "Index(['unit_id', 'golden', 'unit_state', 'trusted_judgments',\n",
       "       'last_judgment_at', 'q1', 'q1_confidence', 'q2', 'q2_confidence',\n",
       "       'orig_golden', 'internal_id',\n",
       "       'orig_q1_from_reading_the_tweet_which_of_the_options_below_is_most_likely_to_be_true_about_the_stance_or_outlook_of_the_tweeter_towards_the_target',\n",
       "       'q1_from_reading_the_tweet_which_of_the_options_below_is_most_likely_to_be_true_about_the_stance_or_outlook_of_the_tweeter_towards_the_target_gold',\n",
       "       'orig_q2_which_of_the_options_below_is_true_about_the_opinion_in_the_tweet',\n",
       "       'target', 'tweet', 'tweet_id'],\n",
       "      dtype='object')"
      ]
     },
     "execution_count": 17,
     "metadata": {},
     "output_type": "execute_result"
    }
   ],
   "source": [
    "database.columns"
   ]
  },
  {
   "cell_type": "markdown",
   "metadata": {},
   "source": [
    "#### Sujets des tweets "
   ]
  },
  {
   "cell_type": "code",
   "execution_count": 18,
   "metadata": {},
   "outputs": [
    {
     "name": "stdout",
     "output_type": "stream",
     "text": [
      "['Legalization of Abortion' 'Hillary Clinton' 'Feminist Movement'\n",
      " 'Atheism']\n"
     ]
    }
   ],
   "source": [
    "#Targets\n",
    "print(database['target'].unique())"
   ]
  },
  {
   "cell_type": "code",
   "execution_count": 25,
   "metadata": {},
   "outputs": [
    {
     "data": {
      "image/png": "[encoded data removed]",
      "text/plain": [
       "<Figure size 432x288 with 1 Axes>"
      ]
     },
     "metadata": {},
     "output_type": "display_data"
    }
   ],
   "source": [
    "pd.Series(database['target']).value_counts().plot.pie(autopct=\"%.1f%%\")\n",
    "plt.show()"
   ]
  },
  {
   "cell_type": "markdown",
   "metadata": {},
   "source": [
    "#### q1"
   ]
  },
  {
   "cell_type": "code",
   "execution_count": 20,
   "metadata": {},
   "outputs": [
    {
     "name": "stdout",
     "output_type": "stream",
     "text": [
      "['AGAINST' 'NONE OF THE ABOVE' 'FOR' 'NEUTRAL']\n",
      "count    1159.000000\n",
      "mean        0.780270\n",
      "std         0.195433\n",
      "min         0.257500\n",
      "25%         0.622500\n",
      "50%         0.814300\n",
      "75%         1.000000\n",
      "max         1.000000\n",
      "Name: q1_confidence, dtype: float64\n"
     ]
    }
   ],
   "source": [
    "#Answers to Q1\n",
    "print(database['q1'].unique())\n",
    "print(database['q1_confidence'].describe())"
   ]
  },
  {
   "cell_type": "code",
   "execution_count": 22,
   "metadata": {},
   "outputs": [
    {
     "data": {
      "text/plain": [
       "<matplotlib.axes._subplots.AxesSubplot at 0x2398e23ab80>"
      ]
     },
     "execution_count": 22,
     "metadata": {},
     "output_type": "execute_result"
    },
    {
     "data": {
      "image/png": "[encoded data removed]",
      "text/plain": [
       "<Figure size 432x288 with 1 Axes>"
      ]
     },
     "metadata": {},
     "output_type": "display_data"
    }
   ],
   "source": [
    "sns.barplot(y=database.groupby(by='q1').count().transpose().iloc[0,:], x=['AGAINST', 'FOR', 'NEUTRAL', 'NONE OF THE ABOVE'])"
   ]
  },
  {
   "cell_type": "markdown",
   "metadata": {},
   "source": [
    "#### q2"
   ]
  },
  {
   "cell_type": "code",
   "execution_count": 24,
   "metadata": {},
   "outputs": [
    {
     "name": "stdout",
     "output_type": "stream",
     "text": [
      "['2. The tweet does NOT expresses opinion about the target but it HAS opinion about something or someone other than the target.'\n",
      " '1.  The tweet explicitly expresses opinion about the target, a part of the target, or an aspect of the target.'\n",
      " '3.  The tweet is not explicitly expressing opinion. (For example, the tweet is simply giving information.)']\n",
      "count    1159.000000\n",
      "mean        0.721863\n",
      "std         0.195343\n",
      "min         0.373200\n",
      "25%         0.517150\n",
      "50%         0.740700\n",
      "75%         0.882750\n",
      "max         1.000000\n",
      "Name: q2_confidence, dtype: float64\n"
     ]
    }
   ],
   "source": [
    "#Answers to Q2\n",
    "print(database['q2'].unique())\n",
    "print(database['q2_confidence'].describe())"
   ]
  },
  {
   "cell_type": "code",
   "execution_count": 11,
   "metadata": {},
   "outputs": [
    {
     "name": "stdout",
     "output_type": "stream",
     "text": [
      "[None]\n"
     ]
    }
   ],
   "source": [
    "print(database['orig_q1_from_reading_the_tweet_which_of_the_options_below_is_most_likely_to_be_true_about_the_stance_or_outlook_of_the_tweeter_towards_the_target'].unique())"
   ]
  },
  {
   "cell_type": "markdown",
   "metadata": {},
   "source": [
    "#### Tweets"
   ]
  },
  {
   "cell_type": "code",
   "execution_count": 117,
   "metadata": {},
   "outputs": [
    {
     "ename": "NameError",
     "evalue": "name 'stop_words' is not defined",
     "output_type": "error",
     "traceback": [
      "\u001b[1;31m---------------------------------------------------------------------------\u001b[0m",
      "\u001b[1;31mNameError\u001b[0m                                 Traceback (most recent call last)",
      "\u001b[1;32m<ipython-input-117-70b255a9e182>\u001b[0m in \u001b[0;36m<module>\u001b[1;34m\u001b[0m\n\u001b[0;32m     15\u001b[0m \u001b[1;33m\u001b[0m\u001b[0m\n\u001b[0;32m     16\u001b[0m \u001b[1;33m\u001b[0m\u001b[0m\n\u001b[1;32m---> 17\u001b[1;33m \u001b[0mplot_word_cloud\u001b[0m\u001b[1;33m(\u001b[0m\u001b[0mtext\u001b[0m\u001b[1;33m)\u001b[0m\u001b[1;33m\u001b[0m\u001b[1;33m\u001b[0m\u001b[0m\n\u001b[0m",
      "\u001b[1;32m<ipython-input-117-70b255a9e182>\u001b[0m in \u001b[0;36mplot_word_cloud\u001b[1;34m(text)\u001b[0m\n\u001b[0;32m      5\u001b[0m \u001b[1;32mdef\u001b[0m \u001b[0mplot_word_cloud\u001b[0m\u001b[1;33m(\u001b[0m\u001b[0mtext\u001b[0m\u001b[1;33m)\u001b[0m \u001b[1;33m:\u001b[0m\u001b[1;33m\u001b[0m\u001b[1;33m\u001b[0m\u001b[0m\n\u001b[0;32m      6\u001b[0m     \u001b[1;31m# Définir le calque du nuage des mots\u001b[0m\u001b[1;33m\u001b[0m\u001b[1;33m\u001b[0m\u001b[1;33m\u001b[0m\u001b[0m\n\u001b[1;32m----> 7\u001b[1;33m     \u001b[0mwc\u001b[0m \u001b[1;33m=\u001b[0m \u001b[0mWordCloud\u001b[0m\u001b[1;33m(\u001b[0m\u001b[0mwidth\u001b[0m\u001b[1;33m=\u001b[0m\u001b[1;36m600\u001b[0m\u001b[1;33m,\u001b[0m\u001b[0mheight\u001b[0m\u001b[1;33m=\u001b[0m\u001b[1;36m600\u001b[0m\u001b[1;33m,\u001b[0m\u001b[0mbackground_color\u001b[0m\u001b[1;33m=\u001b[0m\u001b[1;34m\"white\"\u001b[0m\u001b[1;33m,\u001b[0m \u001b[0mmax_words\u001b[0m\u001b[1;33m=\u001b[0m\u001b[1;36m200\u001b[0m\u001b[1;33m,\u001b[0m \u001b[0mstopwords\u001b[0m\u001b[1;33m=\u001b[0m\u001b[0mstop_words\u001b[0m\u001b[1;33m,\u001b[0m \u001b[0mmask\u001b[0m \u001b[1;33m=\u001b[0m \u001b[0mmask_coloring\u001b[0m\u001b[1;33m,\u001b[0m \u001b[0mmax_font_size\u001b[0m\u001b[1;33m=\u001b[0m\u001b[1;36m90\u001b[0m\u001b[1;33m,\u001b[0m\u001b[0mcollocations\u001b[0m \u001b[1;33m=\u001b[0m \u001b[1;32mFalse\u001b[0m\u001b[1;33m,\u001b[0m \u001b[0mrandom_state\u001b[0m\u001b[1;33m=\u001b[0m\u001b[1;36m42\u001b[0m\u001b[1;33m)\u001b[0m\u001b[1;33m\u001b[0m\u001b[1;33m\u001b[0m\u001b[0m\n\u001b[0m\u001b[0;32m      8\u001b[0m \u001b[1;33m\u001b[0m\u001b[0m\n\u001b[0;32m      9\u001b[0m     \u001b[1;31m# Générer et afficher le nuage de mots\u001b[0m\u001b[1;33m\u001b[0m\u001b[1;33m\u001b[0m\u001b[1;33m\u001b[0m\u001b[0m\n",
      "\u001b[1;31mNameError\u001b[0m: name 'stop_words' is not defined"
     ]
    }
   ],
   "source": [
    "# Faire un nuage de mot \n",
    "# Analyser les langues des tweets \n",
    "text = str(database['tweet'].values)\n",
    "\n",
    "def plot_word_cloud(text) :\n",
    "    # Définir le calque du nuage des mots\n",
    "    wc = WordCloud(width=600,height=600,background_color=\"white\", max_words=200, stopwords=stop_words, mask = mask_coloring, max_font_size=90,collocations = False, random_state=42)\n",
    "\n",
    "    # Générer et afficher le nuage de mots\n",
    "    plt.figure(figsize= (15,20))\n",
    "    wc.generate(text)\n",
    "    plt.imshow(wc,interpolation=\"bilinear\")\n",
    "    plt.axis(\"off\")\n",
    "    plt.show()\n",
    "\n",
    "\n",
    "plot_word_cloud(text)"
   ]
  },
  {
   "cell_type": "markdown",
   "metadata": {},
   "source": [
    "#### Valeurs manquantes "
   ]
  },
  {
   "cell_type": "code",
   "execution_count": 26,
   "metadata": {},
   "outputs": [
    {
     "data": {
      "text/plain": [
       "unit_id                                                                                                                                                 0\n",
       "golden                                                                                                                                                  0\n",
       "unit_state                                                                                                                                              0\n",
       "trusted_judgments                                                                                                                                       0\n",
       "last_judgment_at                                                                                                                                       69\n",
       "q1                                                                                                                                                      0\n",
       "q1_confidence                                                                                                                                           0\n",
       "q2                                                                                                                                                      0\n",
       "q2_confidence                                                                                                                                           0\n",
       "orig_golden                                                                                                                                          1090\n",
       "internal_id                                                                                                                                             0\n",
       "orig_q1_from_reading_the_tweet_which_of_the_options_below_is_most_likely_to_be_true_about_the_stance_or_outlook_of_the_tweeter_towards_the_target    1159\n",
       "q1_from_reading_the_tweet_which_of_the_options_below_is_most_likely_to_be_true_about_the_stance_or_outlook_of_the_tweeter_towards_the_target_gold    1090\n",
       "orig_q2_which_of_the_options_below_is_true_about_the_opinion_in_the_tweet                                                                            1159\n",
       "target                                                                                                                                                  0\n",
       "tweet                                                                                                                                                   0\n",
       "tweet_id                                                                                                                                                0\n",
       "dtype: int64"
      ]
     },
     "execution_count": 26,
     "metadata": {},
     "output_type": "execute_result"
    }
   ],
   "source": [
    "database.isna().sum()"
   ]
  },
  {
   "cell_type": "code",
   "execution_count": 89,
   "metadata": {},
   "outputs": [
    {
     "data": {
      "text/plain": [
       "array([True, None], dtype=object)"
      ]
     },
     "execution_count": 89,
     "metadata": {},
     "output_type": "execute_result"
    }
   ],
   "source": [
    "database['orig_golden'].unique()"
   ]
  },
  {
   "cell_type": "code",
   "execution_count": 64,
   "metadata": {},
   "outputs": [
    {
     "data": {
      "image/png": "[encoded data removed]",
      "text/plain": [
       "<Figure size 432x288 with 1 Axes>"
      ]
     },
     "metadata": {
      "needs_background": "light"
     },
     "output_type": "display_data"
    }
   ],
   "source": [
    "database[['unit_id', 'trusted_judgments']].groupby(by='trusted_judgments').count().plot.bar(y='unit_id')\n",
    "plt.show()"
   ]
  },
  {
   "cell_type": "code",
   "execution_count": 72,
   "metadata": {},
   "outputs": [
    {
     "data": {
      "image/png": "[encoded data removed]",
      "text/plain": [
       "<Figure size 432x288 with 1 Axes>"
      ]
     },
     "metadata": {},
     "output_type": "display_data"
    }
   ],
   "source": [
    "database.groupby(by='golden').count().plot.pie(y='unit_id', label='unit_id')\n",
    "plt.title('Golden Tweets')\n",
    "plt.show()"
   ]
  },
  {
   "cell_type": "markdown",
   "metadata": {},
   "source": [
    "# Word 2 Vec"
   ]
  },
  {
   "cell_type": "code",
   "execution_count": 31,
   "metadata": {},
   "outputs": [
    {
     "name": "stderr",
     "output_type": "stream",
     "text": [
      "[nltk_data] Downloading package punkt to\n",
      "[nltk_data]     C:\\Users\\amale\\AppData\\Roaming\\nltk_data...\n",
      "[nltk_data]   Package punkt is already up-to-date!\n"
     ]
    }
   ],
   "source": [
    "import nltk\n",
    "from tqdm import tqdm\n",
    "from gensim.models import Word2Vec\n",
    "from multiprocessing import cpu_count\n",
    "from gensim.models.phrases import Phrases, Phraser\n",
    "from gensim.models.phrases import Phrases, Phraser\n",
    "from nltk.tokenize import TreebankWordTokenizer, TweetTokenizer\n",
    "nltk.download('punkt')\n",
    "sent_detector = nltk.data.load('tokenizers/punkt/english.pickle')\n",
    "\n",
    "from sklearn.feature_extraction.text import CountVectorizer\n",
    "from sklearn import preprocessing"
   ]
  },
  {
   "cell_type": "markdown",
   "metadata": {},
   "source": [
    "#### Clean text "
   ]
  },
  {
   "cell_type": "code",
   "execution_count": 71,
   "metadata": {},
   "outputs": [],
   "source": [
    "#Suppression des hashtags\n",
    "def remove_hashtags(tokens):\n",
    "    tokens = map(lambda x: x.replace('#', ''), tokens)\n",
    "    return list(tokens)\n",
    "\n",
    "#Suppression des url\n",
    "def remove_url(tokens):\n",
    "    tokens = filter(lambda x: \"http\" not in x, tokens)\n",
    "    return list(tokens)\n",
    "\n",
    "def remove_html(tokens):\n",
    "    tokens = filter(lambda x: x[0]+x[-1] != '<>', tokens)\n",
    "    return list(tokens)\n",
    "\n",
    "\n",
    "def tokenize_url_hashtags(corpus, tweets=False):\n",
    "    if tweets:\n",
    "        tokenizer = TweetTokenizer()\n",
    "    else:\n",
    "        tokenizer = TreebankWordTokenizer()  \n",
    "    # Life hack : treebank word tokenizer won't keep html code in one token.\n",
    "    # To preprocess economics news corpus, use tweettokenizer. \n",
    "    tokenized_sentences = []\n",
    "    for sample in tqdm(corpus):\n",
    "    # separating sentences\n",
    "        for sentence in sent_detector.tokenize(sample):\n",
    "            tokens = tokenizer.tokenize(sentence)\n",
    "            tokens = remove_url(tokens)\n",
    "            tokens = remove_html(tokens)\n",
    "            tokens = remove_hashtags(tokens)\n",
    "            tokens = list(map(lambda x: x.lower(), tokens))\n",
    "            tokenized_sentences.append(tokens)\n",
    "    return tokenized_sentences\n",
    "\n",
    "\n",
    "def clean_corpus(corpus, threshold=50, tweets=False):\n",
    "    tokenized_sentences = tokenize_url_hashtags(corpus, tweets=tweets)\n",
    "    phrases = Phrases(tokenized_sentences, threshold=threshold)\n",
    "\n",
    "  # This lets you use it with less RAM and faster processing.\n",
    "  # But it will no longer be possible to update the detector with new training \n",
    "  # samples\n",
    "    phraser = Phraser(phrases)\n",
    "\n",
    "  # Merging multi-word expressions in the tokenization\n",
    "    clean_corpus = []\n",
    "    for sentence in tokenized_sentences:\n",
    "        clean_corpus.append(phraser[sentence])\n",
    "    return clean_corpus\n",
    "\n",
    "from gensim.models.phrases import Phrases, Phraser\n",
    "\n",
    "def show_phrases(tokenized_sentences, threshold=10, shown=15):\n",
    "  # Training the multi-word expression detector\n",
    "  phrases = Phrases(tokenized_sentences, threshold=threshold)\n",
    "  i = 0\n",
    "  for phrase, score in phrases.export_phrases(tokenized_sentences):\n",
    "    if i>shown:\n",
    "      break\n",
    "    else:\n",
    "      print(\"Expression : {0}, score = {1}\".format(phrase, score))\n",
    "    i=i+1"
   ]
  },
  {
   "cell_type": "code",
   "execution_count": 72,
   "metadata": {},
   "outputs": [
    {
     "name": "stderr",
     "output_type": "stream",
     "text": [
      "100%|██████████| 1159/1159 [00:00<00:00, 2381.55it/s]"
     ]
    },
    {
     "name": "stdout",
     "output_type": "stream",
     "text": [
      "number of pol: 2134\n"
     ]
    },
    {
     "name": "stderr",
     "output_type": "stream",
     "text": [
      "\n"
     ]
    }
   ],
   "source": [
    "cleaned_pol = tokenize_url_hashtags(database.tweet.array, tweets=True)\n",
    "print('number of pol:', len(cleaned_pol))"
   ]
  },
  {
   "cell_type": "code",
   "execution_count": 82,
   "metadata": {},
   "outputs": [
    {
     "name": "stdout",
     "output_type": "stream",
     "text": [
      "[\"it's\", 'time', 'that', 'we', 'move', 'from', 'good', 'words', '2', 'good', 'works', ',', 'from', 'sound', 'bites', '2', 'sound', 'solutions', 'hillary', 'clinton', 'hillaryclinton']\n"
     ]
    }
   ],
   "source": [
    "print(cleaned_pol[106]) #Pb : Hillary Clinton devrait être ensemble"
   ]
  },
  {
   "cell_type": "code",
   "execution_count": 74,
   "metadata": {},
   "outputs": [
    {
     "name": "stdout",
     "output_type": "stream",
     "text": [
      "Expression : b'the same', score = 19.115553388590932\n",
      "Expression : b'pray for', score = 25.343244990303816\n",
      "Expression : b'to kill', score = 13.87004716981132\n",
      "Expression : b'i am', score = 49.5795719844358\n",
      "Expression : b'want to', score = 11.643990216631726\n",
      "Expression : b'i am', score = 49.5795719844358\n",
      "Expression : b'no matter', score = 60.878881987577635\n",
      "Expression : b'people who', score = 39.89755766621438\n",
      "Expression : b'have been', score = 10.677015250544661\n",
      "Expression : b'ready for', score = 44.926661573720395\n",
      "Expression : b'marcorubio in', score = 36.85764168681171\n",
      "Expression : b'a woman', score = 18.289482612383374\n",
      "Expression : b'hillary clinton', score = 122.86780626780627\n",
      "Expression : b'too many', score = 75.39615384615385\n",
      "Expression : b'too many', score = 75.39615384615385\n",
      "Expression : b'the same', score = 19.115553388590932\n"
     ]
    }
   ],
   "source": [
    "show_phrases(cleaned_pol, threshold=10)"
   ]
  },
  {
   "cell_type": "markdown",
   "metadata": {},
   "source": [
    "#### Training Word2Vec model "
   ]
  },
  {
   "cell_type": "code",
   "execution_count": 83,
   "metadata": {},
   "outputs": [
    {
     "name": "stdout",
     "output_type": "stream",
     "text": [
      "The virtual instance has 8 cpus, that will be used to train the word2vec model\n"
     ]
    }
   ],
   "source": [
    "cpu = cpu_count()\n",
    "print('The virtual instance has {} cpus, that will be used to train the word2vec model'.format(cpu))"
   ]
  },
  {
   "cell_type": "code",
   "execution_count": 84,
   "metadata": {},
   "outputs": [
    {
     "name": "stdout",
     "output_type": "stream",
     "text": [
      "Training the political W2V ...\n"
     ]
    }
   ],
   "source": [
    "# We will just get the \"WordVectors\" parameter from the trained Word2Vec model.\n",
    "# Otherwise, we could continue training with some more exemples that could be\n",
    "# fed on the fly to the model.\n",
    "print(\"Training the political W2V ...\")\n",
    "pol = Word2Vec(cleaned_pol, size=100, window=5, min_count=1, workers=cpu, sg=0)\n",
    "pol.train(cleaned_pol, total_examples=len(cleaned_pol), epochs=100)\n",
    "pol_wv = pol.wv"
   ]
  },
  {
   "cell_type": "code",
   "execution_count": 85,
   "metadata": {},
   "outputs": [],
   "source": [
    "def tokens2vectors(tokenCorpus, trained_word2vec, dim=100):\n",
    "    new_sample = list()\n",
    "    for sample in tokenCorpus:\n",
    "        tweetVecs = list()\n",
    "        for token in sample.split(' '):\n",
    "            try: tweetVecs.append(trained_word2vec.get_vector(token)  )\n",
    "            except: tweetVecs.append( np.zeros(dim) ) \n",
    "        new_sample.append(np.mean(tweetVecs, axis=0))\n",
    "    return np.array(new_sample)"
   ]
  },
  {
   "cell_type": "code",
   "execution_count": 86,
   "metadata": {},
   "outputs": [
    {
     "name": "stdout",
     "output_type": "stream",
     "text": [
      "(1159, 100)\n",
      "1159\n"
     ]
    }
   ],
   "source": [
    "X = tokens2vectors(database.loc[:, \"tweet\"], pol_wv)\n",
    "print(X.shape)\n",
    "print(len(database.loc[:, \"tweet\"]))"
   ]
  },
  {
   "cell_type": "markdown",
   "metadata": {},
   "source": [
    "# Cos similarity "
   ]
  },
  {
   "cell_type": "code",
   "execution_count": 90,
   "metadata": {},
   "outputs": [],
   "source": [
    "from sklearn.metrics.pairwise import cosine_similarity "
   ]
  },
  {
   "cell_type": "markdown",
   "metadata": {},
   "source": [
    "Après avoir vectorisé les mots, nous allons calculer la similarité de ceux-ci afin d'analyser la cohérence. "
   ]
  },
  {
   "cell_type": "markdown",
   "metadata": {},
   "source": [
    "## Trying Kmeans on the data\n",
    "On tente un kmeans sur les données pour voir si elles sont regroupées en Against / For / Neutral / None Of the Above"
   ]
  },
  {
   "cell_type": "code",
   "execution_count": 94,
   "metadata": {},
   "outputs": [],
   "source": [
    "from sklearn.cluster import KMeans\n",
    "# this example uses only 3 initializations to be fast (but less effective!)\n",
    "kmeans = KMeans(n_clusters=4, random_state=42, n_init=20, max_iter=300, verbose=0).fit(X)"
   ]
  },
  {
   "cell_type": "code",
   "execution_count": 95,
   "metadata": {},
   "outputs": [],
   "source": [
    "#Prédiction des clusters\n",
    "from sklearn.cluster import KMeans\n",
    "# use the model to predict clusters\n",
    "clusters = kmeans.predict(X)"
   ]
  },
  {
   "cell_type": "code",
   "execution_count": 96,
   "metadata": {},
   "outputs": [
    {
     "data": {
      "text/plain": [
       "1159"
      ]
     },
     "execution_count": 96,
     "metadata": {},
     "output_type": "execute_result"
    }
   ],
   "source": [
    "len(clusters)"
   ]
  },
  {
   "cell_type": "code",
   "execution_count": 97,
   "metadata": {},
   "outputs": [
    {
     "data": {
      "text/plain": [
       "(1159, 100)"
      ]
     },
     "execution_count": 97,
     "metadata": {},
     "output_type": "execute_result"
    }
   ],
   "source": [
    "X.shape"
   ]
  },
  {
   "cell_type": "code",
   "execution_count": 98,
   "metadata": {},
   "outputs": [
    {
     "name": "stdout",
     "output_type": "stream",
     "text": [
      "Here is the occurrence counts for each cluster:\n",
      "cluster 2 has 269 elements\n",
      "cluster 0 has 383 elements\n",
      "cluster 1 has 342 elements\n",
      "cluster 3 has 165 elements\n"
     ]
    }
   ],
   "source": [
    "# display some cluster related info\n",
    "from collections import Counter \n",
    "print('Here is the occurrence counts for each cluster:')\n",
    "for k,v in dict(Counter(clusters)).items(): print('cluster', k, 'has', v, 'elements')"
   ]
  },
  {
   "cell_type": "code",
   "execution_count": 99,
   "metadata": {},
   "outputs": [
    {
     "data": {
      "image/png": "[encoded data removed]",
      "text/plain": [
       "<Figure size 432x288 with 1 Axes>"
      ]
     },
     "metadata": {},
     "output_type": "display_data"
    }
   ],
   "source": [
    "pd.DataFrame.from_dict(dict(Counter(clusters)).items()).plot.bar(y=1, x=0, title='Number of tweets in clusters')\n",
    "plt.show()"
   ]
  },
  {
   "cell_type": "code",
   "execution_count": 101,
   "metadata": {},
   "outputs": [
    {
     "name": "stdout",
     "output_type": "stream",
     "text": [
      "clusters distribution accross sentiments\n",
      "{'FOR': Counter({1: 117, 0: 93, 2: 74, 3: 64}), 'NONE OF THE ABOVE': Counter({0: 124, 1: 84, 2: 66, 3: 43}), 'AGAINST': Counter({0: 160, 1: 138, 2: 128, 3: 57}), 'NEUTRAL': Counter({0: 6, 1: 3, 2: 1, 3: 1})}\n",
      "(1159,) hey (1159,)\n"
     ]
    }
   ],
   "source": [
    "clusterTendancies = {'FOR':list(), \n",
    "                     'NONE OF THE ABOVE': list(),\n",
    "                     'AGAINST': list(), \n",
    "                     'NEUTRAL':list()}\n",
    "for text, sentiment, cluster in list(zip(database.loc[:, \"tweet\"], \n",
    "                                         database.loc[:, 'q1'],\n",
    "                                         clusters)):\n",
    "    clusterTendancies[sentiment].append(cluster)\n",
    "clusterTendancies = { k:Counter(v) for k,v in clusterTendancies.items() }\n",
    "print('clusters distribution accross sentiments')\n",
    "print(clusterTendancies)\n",
    "\n",
    "print(database.loc[:, \"tweet\"].shape, 'hey', clusters.shape)"
   ]
  },
  {
   "cell_type": "code",
   "execution_count": 102,
   "metadata": {},
   "outputs": [
    {
     "name": "stdout",
     "output_type": "stream",
     "text": [
      "v_measure score: 0.0\n"
     ]
    }
   ],
   "source": [
    "# Quantitative evaluation\n",
    "from sklearn.metrics.cluster import v_measure_score\n",
    "label2id = {'FOR':0, \n",
    "            'NONE OF THE ABOVE': 0,\n",
    "            'AGAINST': 0, \n",
    "            'NEUTRAL':0}\n",
    "y_true = np.array([ label2id[sentiment] for sentiment in database.loc[:, \"q1\"] ])\n",
    "print('v_measure score:', v_measure_score(y_true, clusters))"
   ]
  },
  {
   "cell_type": "markdown",
   "metadata": {},
   "source": [
    "# Aspect-Based Sentiment Analysis"
   ]
  },
  {
   "cell_type": "code",
   "execution_count": null,
   "metadata": {},
   "outputs": [],
   "source": []
  }
 ],
 "metadata": {
  "kernelspec": {
   "display_name": "Python 3",
   "language": "python",
   "name": "python3"
  },
  "language_info": {
   "codemirror_mode": {
    "name": "ipython",
    "version": 3
   },
   "file_extension": ".py",
   "mimetype": "text/x-python",
   "name": "python",
   "nbconvert_exporter": "python",
   "pygments_lexer": "ipython3",
   "version": "3.8.3"
  }
 },
 "nbformat": 4,
 "nbformat_minor": 4
}
