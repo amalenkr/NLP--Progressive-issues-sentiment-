{
 "cells": [
  {
   "cell_type": "markdown",
   "metadata": {},
   "source": [
    "## NLP Sentiment classification"
   ]
  },
  {
   "cell_type": "code",
   "execution_count": 23,
   "metadata": {},
   "outputs": [
    {
     "name": "stderr",
     "output_type": "stream",
     "text": [
      "[nltk_data] Downloading package stopwords to\n",
      "[nltk_data]     /Users/erwanrahis/nltk_data...\n",
      "[nltk_data]   Package stopwords is already up-to-date!\n"
     ]
    }
   ],
   "source": [
    "import pandas as pd\n",
    "import numpy as np\n",
    "import matplotlib.pyplot as plt\n",
    "import pickle as pckl\n",
    "import seaborn as sns\n",
    "sns.set_theme()\n",
    "from wordcloud import WordCloud, STOPWORDS, ImageColorGenerator\n",
    "import re\n",
    "import nltk\n",
    "nltk.download('stopwords')\n",
    "from nltk.corpus import stopwords"
   ]
  },
  {
   "cell_type": "markdown",
   "metadata": {},
   "source": [
    "#### Extraction et recodage des données"
   ]
  },
  {
   "cell_type": "code",
   "execution_count": 24,
   "metadata": {
    "scrolled": true
   },
   "outputs": [],
   "source": [
    "database = pckl.load(open('data_query.p', 'rb'))"
   ]
  },
  {
   "cell_type": "code",
   "execution_count": 25,
   "metadata": {},
   "outputs": [],
   "source": [
    "database = database.rename(columns={'q1_from_reading_the_tweet_which_of_the_options_below_is_most_likely_to_be_true_about_the_stance_or_outlook_of_the_tweeter_towards_the_target' : 'q1', 'q1_from_reading_the_tweet_which_of_the_options_below_is_most_likely_to_be_true_about_the_stance_or_outlook_of_the_tweeter_towards_the_target_confidence': 'q1_confidence', 'q2_which_of_the_options_below_is_true_about_the_opinion_in_the_tweet' : 'q2', 'q2_which_of_the_options_below_is_true_about_the_opinion_in_the_tweet_confidence': 'q2_confidence'})"
   ]
  },
  {
   "cell_type": "code",
   "execution_count": 26,
   "metadata": {},
   "outputs": [
    {
     "data": {
      "text/plain": [
       "AGAINST: We can infer from the tweet that the tweeter is against the target (e.g., directly or indirectly by opposing or criticizing someone/something, by supporting someone/something opposed to the target, or by echoing the stance of somebody else).                                                                                                483\n",
       "FOR: We can infer from the tweet that the tweeter supports the target (e.g., directly or indirectly by supporting someone/something, by opposing or criticizing someone/something opposed to the target, or by echoing the stance of somebody else).                                                                                                      348\n",
       "NONE OF THE ABOVE: There is no clue in the tweet to reveal the stance of the tweeter towards the target (support/against/neutral).                                                                                                                                                                                                                        317\n",
       "NEUTRAL: We can infer from the tweet that the tweeter has a neutral stance towards the target. (The tweet being neither favorable nor against the target is not sufficient reason for choosing this option. One reason for choosing this option is that the tweeter supports the target entity to some extent, but is also against it to some extent.)     11\n",
       "Name: q1, dtype: int64"
      ]
     },
     "execution_count": 26,
     "metadata": {},
     "output_type": "execute_result"
    }
   ],
   "source": [
    "database['q1'].value_counts()"
   ]
  },
  {
   "cell_type": "code",
   "execution_count": 27,
   "metadata": {},
   "outputs": [],
   "source": [
    "database['q1r'] = database['q1'].replace({'AGAINST: We can infer from the tweet that the tweeter is against the target (e.g., directly or indirectly by opposing or criticizing someone/something, by supporting someone/something opposed to the target, or by echoing the stance of somebody else).':'AGAINST', \n",
    "                                         'FOR: We can infer from the tweet that the tweeter supports the target (e.g., directly or indirectly by supporting someone/something, by opposing or criticizing someone/something opposed to the target, or by echoing the stance of somebody else).':'FOR', \n",
    "                                         'NONE OF THE ABOVE: There is no clue in the tweet to reveal the stance of the tweeter towards the target (support/against/neutral).':'NONE OF THE ABOVE',\n",
    "                                         'NEUTRAL: We can infer from the tweet that the tweeter has a neutral stance towards the target. (The tweet being neither favorable nor against the target is not sufficient reason for choosing this option. One reason for choosing this option is that the tweeter supports the target entity to some extent, but is also against it to some extent.)': 'NEUTRAL'})"
   ]
  },
  {
   "cell_type": "code",
   "execution_count": 28,
   "metadata": {},
   "outputs": [
    {
     "data": {
      "text/plain": [
       "AGAINST              483\n",
       "FOR                  348\n",
       "NONE OF THE ABOVE    317\n",
       "NEUTRAL               11\n",
       "Name: q1r, dtype: int64"
      ]
     },
     "execution_count": 28,
     "metadata": {},
     "output_type": "execute_result"
    }
   ],
   "source": [
    "database['q1r'].value_counts()"
   ]
  },
  {
   "cell_type": "markdown",
   "metadata": {},
   "source": [
    "## Exploration"
   ]
  },
  {
   "cell_type": "code",
   "execution_count": 29,
   "metadata": {},
   "outputs": [
    {
     "data": {
      "text/html": [
       "<div>\n",
       "<style scoped>\n",
       "    .dataframe tbody tr th:only-of-type {\n",
       "        vertical-align: middle;\n",
       "    }\n",
       "\n",
       "    .dataframe tbody tr th {\n",
       "        vertical-align: top;\n",
       "    }\n",
       "\n",
       "    .dataframe thead th {\n",
       "        text-align: right;\n",
       "    }\n",
       "</style>\n",
       "<table border=\"1\" class=\"dataframe\">\n",
       "  <thead>\n",
       "    <tr style=\"text-align: right;\">\n",
       "      <th></th>\n",
       "      <th>unit_id</th>\n",
       "      <th>golden</th>\n",
       "      <th>unit_state</th>\n",
       "      <th>trusted_judgments</th>\n",
       "      <th>last_judgment_at</th>\n",
       "      <th>q1</th>\n",
       "      <th>q1_confidence</th>\n",
       "      <th>q2</th>\n",
       "      <th>q2_confidence</th>\n",
       "      <th>orig_golden</th>\n",
       "      <th>internal_id</th>\n",
       "      <th>orig_q1_from_reading_the_tweet_which_of_the_options_below_is_most_likely_to_be_true_about_the_stance_or_outlook_of_the_tweeter_towards_the_target</th>\n",
       "      <th>q1_from_reading_the_tweet_which_of_the_options_below_is_most_likely_to_be_true_about_the_stance_or_outlook_of_the_tweeter_towards_the_target_gold</th>\n",
       "      <th>orig_q2_which_of_the_options_below_is_true_about_the_opinion_in_the_tweet</th>\n",
       "      <th>target</th>\n",
       "      <th>tweet</th>\n",
       "      <th>tweet_id</th>\n",
       "      <th>q1r</th>\n",
       "    </tr>\n",
       "  </thead>\n",
       "  <tbody>\n",
       "    <tr>\n",
       "      <th>0</th>\n",
       "      <td>713632888</td>\n",
       "      <td>True</td>\n",
       "      <td>golden</td>\n",
       "      <td>30</td>\n",
       "      <td>None</td>\n",
       "      <td>AGAINST: We can infer from the tweet that the ...</td>\n",
       "      <td>0.6581</td>\n",
       "      <td>2. The tweet does NOT expresses opinion about ...</td>\n",
       "      <td>0.4976</td>\n",
       "      <td>True</td>\n",
       "      <td>189</td>\n",
       "      <td>None</td>\n",
       "      <td>AGAINST: We can infer from the tweet that the ...</td>\n",
       "      <td>None</td>\n",
       "      <td>Legalization of Abortion</td>\n",
       "      <td>Thank you for another day of life Lord. #Chris...</td>\n",
       "      <td>id588718177095266305</td>\n",
       "      <td>AGAINST</td>\n",
       "    </tr>\n",
       "    <tr>\n",
       "      <th>1</th>\n",
       "      <td>713632889</td>\n",
       "      <td>False</td>\n",
       "      <td>golden</td>\n",
       "      <td>2</td>\n",
       "      <td>None</td>\n",
       "      <td>NONE OF THE ABOVE: There is no clue in the twe...</td>\n",
       "      <td>1.0000</td>\n",
       "      <td>2. The tweet does NOT expresses opinion about ...</td>\n",
       "      <td>0.5294</td>\n",
       "      <td>True</td>\n",
       "      <td>190</td>\n",
       "      <td>None</td>\n",
       "      <td>AGAINST: We can infer from the tweet that the ...</td>\n",
       "      <td>None</td>\n",
       "      <td>Legalization of Abortion</td>\n",
       "      <td>@rosaryrevival Lovely to use Glorious Mysterie...</td>\n",
       "      <td>id592798858725425152</td>\n",
       "      <td>NONE OF THE ABOVE</td>\n",
       "    </tr>\n",
       "    <tr>\n",
       "      <th>2</th>\n",
       "      <td>713632890</td>\n",
       "      <td>True</td>\n",
       "      <td>golden</td>\n",
       "      <td>26</td>\n",
       "      <td>None</td>\n",
       "      <td>AGAINST: We can infer from the tweet that the ...</td>\n",
       "      <td>0.8859</td>\n",
       "      <td>1.  The tweet explicitly expresses opinion abo...</td>\n",
       "      <td>0.8820</td>\n",
       "      <td>True</td>\n",
       "      <td>207</td>\n",
       "      <td>None</td>\n",
       "      <td>AGAINST: We can infer from the tweet that the ...</td>\n",
       "      <td>None</td>\n",
       "      <td>Legalization of Abortion</td>\n",
       "      <td>@Niall250 good thing is that #DUP have consist...</td>\n",
       "      <td>id593472619208380419</td>\n",
       "      <td>AGAINST</td>\n",
       "    </tr>\n",
       "    <tr>\n",
       "      <th>3</th>\n",
       "      <td>713632891</td>\n",
       "      <td>False</td>\n",
       "      <td>golden</td>\n",
       "      <td>3</td>\n",
       "      <td>None</td>\n",
       "      <td>AGAINST: We can infer from the tweet that the ...</td>\n",
       "      <td>0.6323</td>\n",
       "      <td>1.  The tweet explicitly expresses opinion abo...</td>\n",
       "      <td>0.6323</td>\n",
       "      <td>True</td>\n",
       "      <td>211</td>\n",
       "      <td>None</td>\n",
       "      <td>AGAINST: We can infer from the tweet that the ...</td>\n",
       "      <td>None</td>\n",
       "      <td>Legalization of Abortion</td>\n",
       "      <td>So, you tell me... is murder okay if the victi...</td>\n",
       "      <td>id592699132399194112</td>\n",
       "      <td>AGAINST</td>\n",
       "    </tr>\n",
       "    <tr>\n",
       "      <th>4</th>\n",
       "      <td>713632892</td>\n",
       "      <td>True</td>\n",
       "      <td>golden</td>\n",
       "      <td>31</td>\n",
       "      <td>None</td>\n",
       "      <td>AGAINST: We can infer from the tweet that the ...</td>\n",
       "      <td>0.8920</td>\n",
       "      <td>1.  The tweet explicitly expresses opinion abo...</td>\n",
       "      <td>0.8939</td>\n",
       "      <td>True</td>\n",
       "      <td>213</td>\n",
       "      <td>None</td>\n",
       "      <td>AGAINST: We can infer from the tweet that the ...</td>\n",
       "      <td>None</td>\n",
       "      <td>Legalization of Abortion</td>\n",
       "      <td>@HillaryClinton Don't you mean to say (all chi...</td>\n",
       "      <td>id588527665365188608</td>\n",
       "      <td>AGAINST</td>\n",
       "    </tr>\n",
       "  </tbody>\n",
       "</table>\n",
       "</div>"
      ],
      "text/plain": [
       "     unit_id  golden unit_state  trusted_judgments last_judgment_at  \\\n",
       "0  713632888    True     golden                 30             None   \n",
       "1  713632889   False     golden                  2             None   \n",
       "2  713632890    True     golden                 26             None   \n",
       "3  713632891   False     golden                  3             None   \n",
       "4  713632892    True     golden                 31             None   \n",
       "\n",
       "                                                  q1  q1_confidence  \\\n",
       "0  AGAINST: We can infer from the tweet that the ...         0.6581   \n",
       "1  NONE OF THE ABOVE: There is no clue in the twe...         1.0000   \n",
       "2  AGAINST: We can infer from the tweet that the ...         0.8859   \n",
       "3  AGAINST: We can infer from the tweet that the ...         0.6323   \n",
       "4  AGAINST: We can infer from the tweet that the ...         0.8920   \n",
       "\n",
       "                                                  q2  q2_confidence  \\\n",
       "0  2. The tweet does NOT expresses opinion about ...         0.4976   \n",
       "1  2. The tweet does NOT expresses opinion about ...         0.5294   \n",
       "2  1.  The tweet explicitly expresses opinion abo...         0.8820   \n",
       "3  1.  The tweet explicitly expresses opinion abo...         0.6323   \n",
       "4  1.  The tweet explicitly expresses opinion abo...         0.8939   \n",
       "\n",
       "  orig_golden  internal_id  \\\n",
       "0        True          189   \n",
       "1        True          190   \n",
       "2        True          207   \n",
       "3        True          211   \n",
       "4        True          213   \n",
       "\n",
       "  orig_q1_from_reading_the_tweet_which_of_the_options_below_is_most_likely_to_be_true_about_the_stance_or_outlook_of_the_tweeter_towards_the_target  \\\n",
       "0                                               None                                                                                                  \n",
       "1                                               None                                                                                                  \n",
       "2                                               None                                                                                                  \n",
       "3                                               None                                                                                                  \n",
       "4                                               None                                                                                                  \n",
       "\n",
       "  q1_from_reading_the_tweet_which_of_the_options_below_is_most_likely_to_be_true_about_the_stance_or_outlook_of_the_tweeter_towards_the_target_gold  \\\n",
       "0  AGAINST: We can infer from the tweet that the ...                                                                                                  \n",
       "1  AGAINST: We can infer from the tweet that the ...                                                                                                  \n",
       "2  AGAINST: We can infer from the tweet that the ...                                                                                                  \n",
       "3  AGAINST: We can infer from the tweet that the ...                                                                                                  \n",
       "4  AGAINST: We can infer from the tweet that the ...                                                                                                  \n",
       "\n",
       "  orig_q2_which_of_the_options_below_is_true_about_the_opinion_in_the_tweet  \\\n",
       "0                                               None                          \n",
       "1                                               None                          \n",
       "2                                               None                          \n",
       "3                                               None                          \n",
       "4                                               None                          \n",
       "\n",
       "                     target  \\\n",
       "0  Legalization of Abortion   \n",
       "1  Legalization of Abortion   \n",
       "2  Legalization of Abortion   \n",
       "3  Legalization of Abortion   \n",
       "4  Legalization of Abortion   \n",
       "\n",
       "                                               tweet              tweet_id  \\\n",
       "0  Thank you for another day of life Lord. #Chris...  id588718177095266305   \n",
       "1  @rosaryrevival Lovely to use Glorious Mysterie...  id592798858725425152   \n",
       "2  @Niall250 good thing is that #DUP have consist...  id593472619208380419   \n",
       "3  So, you tell me... is murder okay if the victi...  id592699132399194112   \n",
       "4  @HillaryClinton Don't you mean to say (all chi...  id588527665365188608   \n",
       "\n",
       "                 q1r  \n",
       "0            AGAINST  \n",
       "1  NONE OF THE ABOVE  \n",
       "2            AGAINST  \n",
       "3            AGAINST  \n",
       "4            AGAINST  "
      ]
     },
     "execution_count": 29,
     "metadata": {},
     "output_type": "execute_result"
    }
   ],
   "source": [
    "database.head()"
   ]
  },
  {
   "cell_type": "code",
   "execution_count": 30,
   "metadata": {},
   "outputs": [
    {
     "data": {
      "text/plain": [
       "(1159, 18)"
      ]
     },
     "execution_count": 30,
     "metadata": {},
     "output_type": "execute_result"
    }
   ],
   "source": [
    "database.shape"
   ]
  },
  {
   "cell_type": "code",
   "execution_count": 31,
   "metadata": {},
   "outputs": [
    {
     "data": {
      "text/html": [
       "<div>\n",
       "<style scoped>\n",
       "    .dataframe tbody tr th:only-of-type {\n",
       "        vertical-align: middle;\n",
       "    }\n",
       "\n",
       "    .dataframe tbody tr th {\n",
       "        vertical-align: top;\n",
       "    }\n",
       "\n",
       "    .dataframe thead th {\n",
       "        text-align: right;\n",
       "    }\n",
       "</style>\n",
       "<table border=\"1\" class=\"dataframe\">\n",
       "  <thead>\n",
       "    <tr style=\"text-align: right;\">\n",
       "      <th></th>\n",
       "      <th>count</th>\n",
       "      <th>unique</th>\n",
       "      <th>top</th>\n",
       "      <th>freq</th>\n",
       "      <th>mean</th>\n",
       "      <th>std</th>\n",
       "      <th>min</th>\n",
       "      <th>25%</th>\n",
       "      <th>50%</th>\n",
       "      <th>75%</th>\n",
       "      <th>max</th>\n",
       "    </tr>\n",
       "  </thead>\n",
       "  <tbody>\n",
       "    <tr>\n",
       "      <th>unit_id</th>\n",
       "      <td>1159</td>\n",
       "      <td>NaN</td>\n",
       "      <td>NaN</td>\n",
       "      <td>NaN</td>\n",
       "      <td>7.13633e+08</td>\n",
       "      <td>335.487</td>\n",
       "      <td>7.13633e+08</td>\n",
       "      <td>7.13633e+08</td>\n",
       "      <td>7.13633e+08</td>\n",
       "      <td>7.13634e+08</td>\n",
       "      <td>7.13634e+08</td>\n",
       "    </tr>\n",
       "    <tr>\n",
       "      <th>golden</th>\n",
       "      <td>1159</td>\n",
       "      <td>2</td>\n",
       "      <td>False</td>\n",
       "      <td>1105</td>\n",
       "      <td>NaN</td>\n",
       "      <td>NaN</td>\n",
       "      <td>NaN</td>\n",
       "      <td>NaN</td>\n",
       "      <td>NaN</td>\n",
       "      <td>NaN</td>\n",
       "      <td>NaN</td>\n",
       "    </tr>\n",
       "    <tr>\n",
       "      <th>unit_state</th>\n",
       "      <td>1159</td>\n",
       "      <td>2</td>\n",
       "      <td>finalized</td>\n",
       "      <td>1090</td>\n",
       "      <td>NaN</td>\n",
       "      <td>NaN</td>\n",
       "      <td>NaN</td>\n",
       "      <td>NaN</td>\n",
       "      <td>NaN</td>\n",
       "      <td>NaN</td>\n",
       "      <td>NaN</td>\n",
       "    </tr>\n",
       "    <tr>\n",
       "      <th>trusted_judgments</th>\n",
       "      <td>1159</td>\n",
       "      <td>NaN</td>\n",
       "      <td>NaN</td>\n",
       "      <td>NaN</td>\n",
       "      <td>8.96635</td>\n",
       "      <td>4.79184</td>\n",
       "      <td>2</td>\n",
       "      <td>8</td>\n",
       "      <td>8</td>\n",
       "      <td>8</td>\n",
       "      <td>38</td>\n",
       "    </tr>\n",
       "    <tr>\n",
       "      <th>last_judgment_at</th>\n",
       "      <td>1090</td>\n",
       "      <td>152</td>\n",
       "      <td>2015-05-03T02:08:00</td>\n",
       "      <td>14</td>\n",
       "      <td>NaN</td>\n",
       "      <td>NaN</td>\n",
       "      <td>NaN</td>\n",
       "      <td>NaN</td>\n",
       "      <td>NaN</td>\n",
       "      <td>NaN</td>\n",
       "      <td>NaN</td>\n",
       "    </tr>\n",
       "    <tr>\n",
       "      <th>q1</th>\n",
       "      <td>1159</td>\n",
       "      <td>4</td>\n",
       "      <td>AGAINST: We can infer from the tweet that the ...</td>\n",
       "      <td>483</td>\n",
       "      <td>NaN</td>\n",
       "      <td>NaN</td>\n",
       "      <td>NaN</td>\n",
       "      <td>NaN</td>\n",
       "      <td>NaN</td>\n",
       "      <td>NaN</td>\n",
       "      <td>NaN</td>\n",
       "    </tr>\n",
       "    <tr>\n",
       "      <th>q1_confidence</th>\n",
       "      <td>1159</td>\n",
       "      <td>NaN</td>\n",
       "      <td>NaN</td>\n",
       "      <td>NaN</td>\n",
       "      <td>0.78027</td>\n",
       "      <td>0.195433</td>\n",
       "      <td>0.2575</td>\n",
       "      <td>0.6225</td>\n",
       "      <td>0.8143</td>\n",
       "      <td>1</td>\n",
       "      <td>1</td>\n",
       "    </tr>\n",
       "    <tr>\n",
       "      <th>q2</th>\n",
       "      <td>1159</td>\n",
       "      <td>3</td>\n",
       "      <td>1.  The tweet explicitly expresses opinion abo...</td>\n",
       "      <td>730</td>\n",
       "      <td>NaN</td>\n",
       "      <td>NaN</td>\n",
       "      <td>NaN</td>\n",
       "      <td>NaN</td>\n",
       "      <td>NaN</td>\n",
       "      <td>NaN</td>\n",
       "      <td>NaN</td>\n",
       "    </tr>\n",
       "    <tr>\n",
       "      <th>q2_confidence</th>\n",
       "      <td>1159</td>\n",
       "      <td>NaN</td>\n",
       "      <td>NaN</td>\n",
       "      <td>NaN</td>\n",
       "      <td>0.721863</td>\n",
       "      <td>0.195343</td>\n",
       "      <td>0.3732</td>\n",
       "      <td>0.51715</td>\n",
       "      <td>0.7407</td>\n",
       "      <td>0.88275</td>\n",
       "      <td>1</td>\n",
       "    </tr>\n",
       "    <tr>\n",
       "      <th>orig_golden</th>\n",
       "      <td>69</td>\n",
       "      <td>1</td>\n",
       "      <td>True</td>\n",
       "      <td>69</td>\n",
       "      <td>NaN</td>\n",
       "      <td>NaN</td>\n",
       "      <td>NaN</td>\n",
       "      <td>NaN</td>\n",
       "      <td>NaN</td>\n",
       "      <td>NaN</td>\n",
       "      <td>NaN</td>\n",
       "    </tr>\n",
       "    <tr>\n",
       "      <th>internal_id</th>\n",
       "      <td>1159</td>\n",
       "      <td>NaN</td>\n",
       "      <td>NaN</td>\n",
       "      <td>NaN</td>\n",
       "      <td>1107.84</td>\n",
       "      <td>1797.62</td>\n",
       "      <td>1</td>\n",
       "      <td>240</td>\n",
       "      <td>336</td>\n",
       "      <td>439</td>\n",
       "      <td>5194</td>\n",
       "    </tr>\n",
       "    <tr>\n",
       "      <th>orig_q1_from_reading_the_tweet_which_of_the_options_below_is_most_likely_to_be_true_about_the_stance_or_outlook_of_the_tweeter_towards_the_target</th>\n",
       "      <td>0</td>\n",
       "      <td>0</td>\n",
       "      <td>NaN</td>\n",
       "      <td>NaN</td>\n",
       "      <td>NaN</td>\n",
       "      <td>NaN</td>\n",
       "      <td>NaN</td>\n",
       "      <td>NaN</td>\n",
       "      <td>NaN</td>\n",
       "      <td>NaN</td>\n",
       "      <td>NaN</td>\n",
       "    </tr>\n",
       "    <tr>\n",
       "      <th>q1_from_reading_the_tweet_which_of_the_options_below_is_most_likely_to_be_true_about_the_stance_or_outlook_of_the_tweeter_towards_the_target_gold</th>\n",
       "      <td>69</td>\n",
       "      <td>7</td>\n",
       "      <td>AGAINST: We can infer from the tweet that the ...</td>\n",
       "      <td>37</td>\n",
       "      <td>NaN</td>\n",
       "      <td>NaN</td>\n",
       "      <td>NaN</td>\n",
       "      <td>NaN</td>\n",
       "      <td>NaN</td>\n",
       "      <td>NaN</td>\n",
       "      <td>NaN</td>\n",
       "    </tr>\n",
       "    <tr>\n",
       "      <th>orig_q2_which_of_the_options_below_is_true_about_the_opinion_in_the_tweet</th>\n",
       "      <td>0</td>\n",
       "      <td>0</td>\n",
       "      <td>NaN</td>\n",
       "      <td>NaN</td>\n",
       "      <td>NaN</td>\n",
       "      <td>NaN</td>\n",
       "      <td>NaN</td>\n",
       "      <td>NaN</td>\n",
       "      <td>NaN</td>\n",
       "      <td>NaN</td>\n",
       "      <td>NaN</td>\n",
       "    </tr>\n",
       "    <tr>\n",
       "      <th>target</th>\n",
       "      <td>1159</td>\n",
       "      <td>4</td>\n",
       "      <td>Feminist Movement</td>\n",
       "      <td>319</td>\n",
       "      <td>NaN</td>\n",
       "      <td>NaN</td>\n",
       "      <td>NaN</td>\n",
       "      <td>NaN</td>\n",
       "      <td>NaN</td>\n",
       "      <td>NaN</td>\n",
       "      <td>NaN</td>\n",
       "    </tr>\n",
       "    <tr>\n",
       "      <th>tweet</th>\n",
       "      <td>1159</td>\n",
       "      <td>1152</td>\n",
       "      <td>Even if your MIND denied #God, your SOUL will ...</td>\n",
       "      <td>2</td>\n",
       "      <td>NaN</td>\n",
       "      <td>NaN</td>\n",
       "      <td>NaN</td>\n",
       "      <td>NaN</td>\n",
       "      <td>NaN</td>\n",
       "      <td>NaN</td>\n",
       "      <td>NaN</td>\n",
       "    </tr>\n",
       "    <tr>\n",
       "      <th>tweet_id</th>\n",
       "      <td>1159</td>\n",
       "      <td>1159</td>\n",
       "      <td>id593065357943902210</td>\n",
       "      <td>1</td>\n",
       "      <td>NaN</td>\n",
       "      <td>NaN</td>\n",
       "      <td>NaN</td>\n",
       "      <td>NaN</td>\n",
       "      <td>NaN</td>\n",
       "      <td>NaN</td>\n",
       "      <td>NaN</td>\n",
       "    </tr>\n",
       "    <tr>\n",
       "      <th>q1r</th>\n",
       "      <td>1159</td>\n",
       "      <td>4</td>\n",
       "      <td>AGAINST</td>\n",
       "      <td>483</td>\n",
       "      <td>NaN</td>\n",
       "      <td>NaN</td>\n",
       "      <td>NaN</td>\n",
       "      <td>NaN</td>\n",
       "      <td>NaN</td>\n",
       "      <td>NaN</td>\n",
       "      <td>NaN</td>\n",
       "    </tr>\n",
       "  </tbody>\n",
       "</table>\n",
       "</div>"
      ],
      "text/plain": [
       "                                                   count unique  \\\n",
       "unit_id                                             1159    NaN   \n",
       "golden                                              1159      2   \n",
       "unit_state                                          1159      2   \n",
       "trusted_judgments                                   1159    NaN   \n",
       "last_judgment_at                                    1090    152   \n",
       "q1                                                  1159      4   \n",
       "q1_confidence                                       1159    NaN   \n",
       "q2                                                  1159      3   \n",
       "q2_confidence                                       1159    NaN   \n",
       "orig_golden                                           69      1   \n",
       "internal_id                                         1159    NaN   \n",
       "orig_q1_from_reading_the_tweet_which_of_the_opt...     0      0   \n",
       "q1_from_reading_the_tweet_which_of_the_options_...    69      7   \n",
       "orig_q2_which_of_the_options_below_is_true_abou...     0      0   \n",
       "target                                              1159      4   \n",
       "tweet                                               1159   1152   \n",
       "tweet_id                                            1159   1159   \n",
       "q1r                                                 1159      4   \n",
       "\n",
       "                                                                                                  top  \\\n",
       "unit_id                                                                                           NaN   \n",
       "golden                                                                                          False   \n",
       "unit_state                                                                                  finalized   \n",
       "trusted_judgments                                                                                 NaN   \n",
       "last_judgment_at                                                                  2015-05-03T02:08:00   \n",
       "q1                                                  AGAINST: We can infer from the tweet that the ...   \n",
       "q1_confidence                                                                                     NaN   \n",
       "q2                                                  1.  The tweet explicitly expresses opinion abo...   \n",
       "q2_confidence                                                                                     NaN   \n",
       "orig_golden                                                                                      True   \n",
       "internal_id                                                                                       NaN   \n",
       "orig_q1_from_reading_the_tweet_which_of_the_opt...                                                NaN   \n",
       "q1_from_reading_the_tweet_which_of_the_options_...  AGAINST: We can infer from the tweet that the ...   \n",
       "orig_q2_which_of_the_options_below_is_true_abou...                                                NaN   \n",
       "target                                                                              Feminist Movement   \n",
       "tweet                                               Even if your MIND denied #God, your SOUL will ...   \n",
       "tweet_id                                                                         id593065357943902210   \n",
       "q1r                                                                                           AGAINST   \n",
       "\n",
       "                                                    freq         mean  \\\n",
       "unit_id                                              NaN  7.13633e+08   \n",
       "golden                                              1105          NaN   \n",
       "unit_state                                          1090          NaN   \n",
       "trusted_judgments                                    NaN      8.96635   \n",
       "last_judgment_at                                      14          NaN   \n",
       "q1                                                   483          NaN   \n",
       "q1_confidence                                        NaN      0.78027   \n",
       "q2                                                   730          NaN   \n",
       "q2_confidence                                        NaN     0.721863   \n",
       "orig_golden                                           69          NaN   \n",
       "internal_id                                          NaN      1107.84   \n",
       "orig_q1_from_reading_the_tweet_which_of_the_opt...   NaN          NaN   \n",
       "q1_from_reading_the_tweet_which_of_the_options_...    37          NaN   \n",
       "orig_q2_which_of_the_options_below_is_true_abou...   NaN          NaN   \n",
       "target                                               319          NaN   \n",
       "tweet                                                  2          NaN   \n",
       "tweet_id                                               1          NaN   \n",
       "q1r                                                  483          NaN   \n",
       "\n",
       "                                                         std          min  \\\n",
       "unit_id                                              335.487  7.13633e+08   \n",
       "golden                                                   NaN          NaN   \n",
       "unit_state                                               NaN          NaN   \n",
       "trusted_judgments                                    4.79184            2   \n",
       "last_judgment_at                                         NaN          NaN   \n",
       "q1                                                       NaN          NaN   \n",
       "q1_confidence                                       0.195433       0.2575   \n",
       "q2                                                       NaN          NaN   \n",
       "q2_confidence                                       0.195343       0.3732   \n",
       "orig_golden                                              NaN          NaN   \n",
       "internal_id                                          1797.62            1   \n",
       "orig_q1_from_reading_the_tweet_which_of_the_opt...       NaN          NaN   \n",
       "q1_from_reading_the_tweet_which_of_the_options_...       NaN          NaN   \n",
       "orig_q2_which_of_the_options_below_is_true_abou...       NaN          NaN   \n",
       "target                                                   NaN          NaN   \n",
       "tweet                                                    NaN          NaN   \n",
       "tweet_id                                                 NaN          NaN   \n",
       "q1r                                                      NaN          NaN   \n",
       "\n",
       "                                                            25%          50%  \\\n",
       "unit_id                                             7.13633e+08  7.13633e+08   \n",
       "golden                                                      NaN          NaN   \n",
       "unit_state                                                  NaN          NaN   \n",
       "trusted_judgments                                             8            8   \n",
       "last_judgment_at                                            NaN          NaN   \n",
       "q1                                                          NaN          NaN   \n",
       "q1_confidence                                            0.6225       0.8143   \n",
       "q2                                                          NaN          NaN   \n",
       "q2_confidence                                           0.51715       0.7407   \n",
       "orig_golden                                                 NaN          NaN   \n",
       "internal_id                                                 240          336   \n",
       "orig_q1_from_reading_the_tweet_which_of_the_opt...          NaN          NaN   \n",
       "q1_from_reading_the_tweet_which_of_the_options_...          NaN          NaN   \n",
       "orig_q2_which_of_the_options_below_is_true_abou...          NaN          NaN   \n",
       "target                                                      NaN          NaN   \n",
       "tweet                                                       NaN          NaN   \n",
       "tweet_id                                                    NaN          NaN   \n",
       "q1r                                                         NaN          NaN   \n",
       "\n",
       "                                                            75%          max  \n",
       "unit_id                                             7.13634e+08  7.13634e+08  \n",
       "golden                                                      NaN          NaN  \n",
       "unit_state                                                  NaN          NaN  \n",
       "trusted_judgments                                             8           38  \n",
       "last_judgment_at                                            NaN          NaN  \n",
       "q1                                                          NaN          NaN  \n",
       "q1_confidence                                                 1            1  \n",
       "q2                                                          NaN          NaN  \n",
       "q2_confidence                                           0.88275            1  \n",
       "orig_golden                                                 NaN          NaN  \n",
       "internal_id                                                 439         5194  \n",
       "orig_q1_from_reading_the_tweet_which_of_the_opt...          NaN          NaN  \n",
       "q1_from_reading_the_tweet_which_of_the_options_...          NaN          NaN  \n",
       "orig_q2_which_of_the_options_below_is_true_abou...          NaN          NaN  \n",
       "target                                                      NaN          NaN  \n",
       "tweet                                                       NaN          NaN  \n",
       "tweet_id                                                    NaN          NaN  \n",
       "q1r                                                         NaN          NaN  "
      ]
     },
     "execution_count": 31,
     "metadata": {},
     "output_type": "execute_result"
    }
   ],
   "source": [
    "database.describe(include= 'all').transpose()"
   ]
  },
  {
   "cell_type": "code",
   "execution_count": 32,
   "metadata": {},
   "outputs": [
    {
     "data": {
      "text/plain": [
       "Index(['unit_id', 'golden', 'unit_state', 'trusted_judgments',\n",
       "       'last_judgment_at', 'q1', 'q1_confidence', 'q2', 'q2_confidence',\n",
       "       'orig_golden', 'internal_id',\n",
       "       'orig_q1_from_reading_the_tweet_which_of_the_options_below_is_most_likely_to_be_true_about_the_stance_or_outlook_of_the_tweeter_towards_the_target',\n",
       "       'q1_from_reading_the_tweet_which_of_the_options_below_is_most_likely_to_be_true_about_the_stance_or_outlook_of_the_tweeter_towards_the_target_gold',\n",
       "       'orig_q2_which_of_the_options_below_is_true_about_the_opinion_in_the_tweet',\n",
       "       'target', 'tweet', 'tweet_id', 'q1r'],\n",
       "      dtype='object')"
      ]
     },
     "execution_count": 32,
     "metadata": {},
     "output_type": "execute_result"
    }
   ],
   "source": [
    "database.columns"
   ]
  },
  {
   "cell_type": "markdown",
   "metadata": {},
   "source": [
    "#### Sujets des tweets "
   ]
  },
  {
   "cell_type": "code",
   "execution_count": 33,
   "metadata": {},
   "outputs": [
    {
     "name": "stdout",
     "output_type": "stream",
     "text": [
      "['Legalization of Abortion' 'Hillary Clinton' 'Feminist Movement'\n",
      " 'Atheism']\n"
     ]
    }
   ],
   "source": [
    "#Targets\n",
    "print(database['target'].unique())"
   ]
  },
  {
   "cell_type": "code",
   "execution_count": 34,
   "metadata": {},
   "outputs": [
    {
     "data": {
      "image/png": "[encoded data removed]",
      "text/plain": [
       "<Figure size 432x288 with 1 Axes>"
      ]
     },
     "metadata": {},
     "output_type": "display_data"
    }
   ],
   "source": [
    "pd.Series(database['target']).value_counts().plot.pie(autopct=\"%.1f%%\")\n",
    "plt.show()"
   ]
  },
  {
   "cell_type": "markdown",
   "metadata": {},
   "source": [
    "#### q1"
   ]
  },
  {
   "cell_type": "code",
   "execution_count": 62,
   "metadata": {},
   "outputs": [
    {
     "name": "stdout",
     "output_type": "stream",
     "text": [
      "['AGAINST' 'NONE OF THE ABOVE' 'FOR' 'NEUTRAL']\n",
      "count    1159.000000\n",
      "mean        0.780270\n",
      "std         0.195433\n",
      "min         0.257500\n",
      "25%         0.622500\n",
      "50%         0.814300\n",
      "75%         1.000000\n",
      "max         1.000000\n",
      "Name: q1_confidence, dtype: float64\n"
     ]
    }
   ],
   "source": [
    "#Answers to Q1\n",
    "print(database['q1r'].unique())\n",
    "print(database['q1_confidence'].describe())"
   ]
  },
  {
   "cell_type": "code",
   "execution_count": 63,
   "metadata": {},
   "outputs": [
    {
     "data": {
      "text/plain": [
       "<matplotlib.axes._subplots.AxesSubplot at 0x7f948493d2e0>"
      ]
     },
     "execution_count": 63,
     "metadata": {},
     "output_type": "execute_result"
    },
    {
     "data": {
      "image/png": "[encoded data removed]",
      "text/plain": [
       "<Figure size 432x288 with 1 Axes>"
      ]
     },
     "metadata": {},
     "output_type": "display_data"
    }
   ],
   "source": [
    "sns.barplot(y=database.groupby(by='q1r').count().transpose().iloc[0,:], x=['AGAINST', 'FOR', 'NEUTRAL', 'NONE OF THE ABOVE'])"
   ]
  },
  {
   "cell_type": "markdown",
   "metadata": {},
   "source": [
    "#### q2"
   ]
  },
  {
   "cell_type": "code",
   "execution_count": 37,
   "metadata": {},
   "outputs": [
    {
     "name": "stdout",
     "output_type": "stream",
     "text": [
      "['2. The tweet does NOT expresses opinion about the target but it HAS opinion about something or someone other than the target.'\n",
      " '1.  The tweet explicitly expresses opinion about the target, a part of the target, or an aspect of the target.'\n",
      " '3.  The tweet is not explicitly expressing opinion. (For example, the tweet is simply giving information.)']\n",
      "count    1159.000000\n",
      "mean        0.721863\n",
      "std         0.195343\n",
      "min         0.373200\n",
      "25%         0.517150\n",
      "50%         0.740700\n",
      "75%         0.882750\n",
      "max         1.000000\n",
      "Name: q2_confidence, dtype: float64\n"
     ]
    }
   ],
   "source": [
    "#Answers to Q2\n",
    "print(database['q2'].unique())\n",
    "print(database['q2_confidence'].describe())"
   ]
  },
  {
   "cell_type": "markdown",
   "metadata": {},
   "source": [
    "#### Tweets"
   ]
  },
  {
   "cell_type": "code",
   "execution_count": 38,
   "metadata": {},
   "outputs": [
    {
     "data": {
      "image/png": "[encoded data removed]",
      "text/plain": [
       "<Figure size 1080x1440 with 1 Axes>"
      ]
     },
     "metadata": {},
     "output_type": "display_data"
    }
   ],
   "source": [
    "# Faire un nuage de mot \n",
    "# Analyser les langues des tweets \n",
    "text = str(database['tweet'].values)\n",
    "stop_words = stopwords.words('english')\n",
    "\n",
    "def plot_word_cloud(text) :\n",
    "    # Définir le calque du nuage des mots\n",
    "    wc = WordCloud(width=700,height=300,background_color=\"white\", max_words=30, stopwords=stop_words, max_font_size=200,collocations = False, random_state=42)\n",
    "    # Générer et afficher le nuage de mots\n",
    "    plt.figure(figsize= (15,20))\n",
    "    wc.generate(text)\n",
    "    plt.imshow(wc, interpolation=\"bilinear\")\n",
    "    plt.axis(\"off\")\n",
    "    plt.show()\n",
    "\n",
    "\n",
    "plot_word_cloud(text)"
   ]
  },
  {
   "cell_type": "markdown",
   "metadata": {},
   "source": [
    "#### Valeurs manquantes "
   ]
  },
  {
   "cell_type": "code",
   "execution_count": 39,
   "metadata": {},
   "outputs": [
    {
     "data": {
      "text/plain": [
       "unit_id                                                                                                                                                 0\n",
       "golden                                                                                                                                                  0\n",
       "unit_state                                                                                                                                              0\n",
       "trusted_judgments                                                                                                                                       0\n",
       "last_judgment_at                                                                                                                                       69\n",
       "q1                                                                                                                                                      0\n",
       "q1_confidence                                                                                                                                           0\n",
       "q2                                                                                                                                                      0\n",
       "q2_confidence                                                                                                                                           0\n",
       "orig_golden                                                                                                                                          1090\n",
       "internal_id                                                                                                                                             0\n",
       "orig_q1_from_reading_the_tweet_which_of_the_options_below_is_most_likely_to_be_true_about_the_stance_or_outlook_of_the_tweeter_towards_the_target    1159\n",
       "q1_from_reading_the_tweet_which_of_the_options_below_is_most_likely_to_be_true_about_the_stance_or_outlook_of_the_tweeter_towards_the_target_gold    1090\n",
       "orig_q2_which_of_the_options_below_is_true_about_the_opinion_in_the_tweet                                                                            1159\n",
       "target                                                                                                                                                  0\n",
       "tweet                                                                                                                                                   0\n",
       "tweet_id                                                                                                                                                0\n",
       "q1r                                                                                                                                                     0\n",
       "dtype: int64"
      ]
     },
     "execution_count": 39,
     "metadata": {},
     "output_type": "execute_result"
    }
   ],
   "source": [
    "database.isna().sum()"
   ]
  },
  {
   "cell_type": "code",
   "execution_count": 40,
   "metadata": {},
   "outputs": [
    {
     "data": {
      "text/plain": [
       "array([True, None], dtype=object)"
      ]
     },
     "execution_count": 40,
     "metadata": {},
     "output_type": "execute_result"
    }
   ],
   "source": [
    "database['orig_golden'].unique()"
   ]
  },
  {
   "cell_type": "code",
   "execution_count": 41,
   "metadata": {},
   "outputs": [
    {
     "data": {
      "image/png": "[encoded data removed]",
      "text/plain": [
       "<Figure size 432x288 with 1 Axes>"
      ]
     },
     "metadata": {},
     "output_type": "display_data"
    }
   ],
   "source": [
    "database[['unit_id', 'trusted_judgments']].groupby(by='trusted_judgments').count().plot.bar(y='unit_id')\n",
    "plt.show()"
   ]
  },
  {
   "cell_type": "code",
   "execution_count": 42,
   "metadata": {},
   "outputs": [
    {
     "data": {
      "image/png": "[encoded data removed]",
      "text/plain": [
       "<Figure size 432x288 with 1 Axes>"
      ]
     },
     "metadata": {},
     "output_type": "display_data"
    }
   ],
   "source": [
    "database.groupby(by='golden').count().plot.pie(y='unit_id', label='unit_id')\n",
    "plt.title('Golden Tweets')\n",
    "plt.show()"
   ]
  },
  {
   "cell_type": "markdown",
   "metadata": {},
   "source": [
    "# Word 2 Vec"
   ]
  },
  {
   "cell_type": "code",
   "execution_count": 45,
   "metadata": {},
   "outputs": [],
   "source": [
    "import nltk\n",
    "from tqdm import tqdm\n",
    "from gensim.models import Word2Vec\n",
    "from multiprocessing import cpu_count\n",
    "from gensim.models.phrases import Phrases, Phraser\n",
    "from gensim.models.phrases import Phrases, Phraser\n",
    "from nltk.tokenize import TreebankWordTokenizer, TweetTokenizer\n",
    "#nltk.download('punkt')\n",
    "sent_detector = nltk.data.load('tokenizers/punkt/english.pickle')\n",
    "\n",
    "from sklearn.feature_extraction.text import CountVectorizer\n",
    "from sklearn import preprocessing"
   ]
  },
  {
   "cell_type": "markdown",
   "metadata": {},
   "source": [
    "#### Clean text "
   ]
  },
  {
   "cell_type": "code",
   "execution_count": 46,
   "metadata": {},
   "outputs": [],
   "source": [
    "#Suppression des hashtags\n",
    "def remove_hashtags(tokens):\n",
    "    tokens = map(lambda x: x.replace('#', ''), tokens)\n",
    "    return list(tokens)\n",
    "\n",
    "#Suppression des url\n",
    "def remove_url(tokens):\n",
    "    tokens = filter(lambda x: \"http\" not in x, tokens)\n",
    "    return list(tokens)\n",
    "\n",
    "def remove_html(tokens):\n",
    "    tokens = filter(lambda x: x[0]+x[-1] != '<>', tokens)\n",
    "    return list(tokens)\n",
    "\n",
    "\n",
    "def tokenize_url_hashtags(corpus, tweets=False):\n",
    "    if tweets:\n",
    "        tokenizer = TweetTokenizer()\n",
    "    else:\n",
    "        tokenizer = TreebankWordTokenizer()  \n",
    "    # Life hack : treebank word tokenizer won't keep html code in one token.\n",
    "    # To preprocess economics news corpus, use tweettokenizer. \n",
    "    tokenized_sentences = []\n",
    "    for sample in tqdm(corpus):\n",
    "    # separating sentences\n",
    "        for sentence in sent_detector.tokenize(sample):\n",
    "            tokens = tokenizer.tokenize(sentence)\n",
    "            tokens = remove_url(tokens)\n",
    "            tokens = remove_html(tokens)\n",
    "            tokens = remove_hashtags(tokens)\n",
    "            tokens = list(map(lambda x: x.lower(), tokens))\n",
    "            tokenized_sentences.append(tokens)\n",
    "    return tokenized_sentences\n",
    "\n",
    "\n",
    "def clean_corpus(corpus, threshold=50, tweets=False):\n",
    "    tokenized_sentences = tokenize_url_hashtags(corpus, tweets=tweets)\n",
    "    phrases = Phrases(tokenized_sentences, threshold=threshold)\n",
    "\n",
    "  # This lets you use it with less RAM and faster processing.\n",
    "  # But it will no longer be possible to update the detector with new training \n",
    "  # samples\n",
    "    phraser = Phraser(phrases)\n",
    "\n",
    "  # Merging multi-word expressions in the tokenization\n",
    "    clean_corpus = []\n",
    "    for sentence in tokenized_sentences:\n",
    "        clean_corpus.append(phraser[sentence])\n",
    "    return clean_corpus\n",
    "\n",
    "from gensim.models.phrases import Phrases, Phraser\n",
    "\n",
    "def show_phrases(tokenized_sentences, threshold=10, shown=15):\n",
    "  # Training the multi-word expression detector\n",
    "  phrases = Phrases(tokenized_sentences, threshold=threshold)\n",
    "  i = 0\n",
    "  for phrase, score in phrases.export_phrases(tokenized_sentences):\n",
    "    if i>shown:\n",
    "      break\n",
    "    else:\n",
    "      print(\"Expression : {0}, score = {1}\".format(phrase, score))\n",
    "    i=i+1"
   ]
  },
  {
   "cell_type": "code",
   "execution_count": 47,
   "metadata": {},
   "outputs": [
    {
     "name": "stderr",
     "output_type": "stream",
     "text": [
      "100%|██████████| 1159/1159 [00:00<00:00, 3486.16it/s]"
     ]
    },
    {
     "name": "stdout",
     "output_type": "stream",
     "text": [
      "number of pol: 2134\n"
     ]
    },
    {
     "name": "stderr",
     "output_type": "stream",
     "text": [
      "\n"
     ]
    }
   ],
   "source": [
    "cleaned_pol = tokenize_url_hashtags(database.tweet.array, tweets=True)\n",
    "print('number of pol:', len(cleaned_pol))"
   ]
  },
  {
   "cell_type": "code",
   "execution_count": 48,
   "metadata": {},
   "outputs": [
    {
     "name": "stdout",
     "output_type": "stream",
     "text": [
      "[\"it's\", 'time', 'that', 'we', 'move', 'from', 'good', 'words', '2', 'good', 'works', ',', 'from', 'sound', 'bites', '2', 'sound', 'solutions', 'hillary', 'clinton', 'hillaryclinton']\n"
     ]
    }
   ],
   "source": [
    "print(cleaned_pol[106]) #Pb : Hillary Clinton devrait être ensemble"
   ]
  },
  {
   "cell_type": "code",
   "execution_count": 49,
   "metadata": {},
   "outputs": [
    {
     "name": "stdout",
     "output_type": "stream",
     "text": [
      "Expression : b'the same', score = 19.115553388590932\n",
      "Expression : b'pray for', score = 25.343244990303816\n",
      "Expression : b'to kill', score = 13.87004716981132\n",
      "Expression : b'i am', score = 49.5795719844358\n",
      "Expression : b'want to', score = 11.643990216631726\n",
      "Expression : b'i am', score = 49.5795719844358\n",
      "Expression : b'no matter', score = 60.878881987577635\n",
      "Expression : b'people who', score = 39.89755766621438\n",
      "Expression : b'have been', score = 10.677015250544661\n",
      "Expression : b'ready for', score = 44.926661573720395\n",
      "Expression : b'marcorubio in', score = 36.85764168681171\n",
      "Expression : b'a woman', score = 18.289482612383374\n",
      "Expression : b'hillary clinton', score = 122.86780626780627\n",
      "Expression : b'too many', score = 75.39615384615385\n",
      "Expression : b'too many', score = 75.39615384615385\n",
      "Expression : b'the same', score = 19.115553388590932\n"
     ]
    }
   ],
   "source": [
    "show_phrases(cleaned_pol, threshold=10)"
   ]
  },
  {
   "cell_type": "markdown",
   "metadata": {},
   "source": [
    "#### Training Word2Vec model "
   ]
  },
  {
   "cell_type": "code",
   "execution_count": 50,
   "metadata": {},
   "outputs": [
    {
     "name": "stdout",
     "output_type": "stream",
     "text": [
      "The virtual instance has 4 cpus, that will be used to train the word2vec model\n"
     ]
    }
   ],
   "source": [
    "cpu = cpu_count()\n",
    "print('The virtual instance has {} cpus, that will be used to train the word2vec model'.format(cpu))"
   ]
  },
  {
   "cell_type": "code",
   "execution_count": 51,
   "metadata": {},
   "outputs": [
    {
     "name": "stdout",
     "output_type": "stream",
     "text": [
      "Training the political W2V ...\n"
     ]
    }
   ],
   "source": [
    "# We will just get the \"WordVectors\" parameter from the trained Word2Vec model.\n",
    "# Otherwise, we could continue training with some more exemples that could be\n",
    "# fed on the fly to the model.\n",
    "print(\"Training the political W2V ...\")\n",
    "pol = Word2Vec(cleaned_pol, size=100, window=5, min_count=1, workers=cpu, sg=0)\n",
    "pol.train(cleaned_pol, total_examples=len(cleaned_pol), epochs=100)\n",
    "pol_wv = pol.wv"
   ]
  },
  {
   "cell_type": "code",
   "execution_count": 52,
   "metadata": {},
   "outputs": [],
   "source": [
    "def tokens2vectors(tokenCorpus, trained_word2vec, dim=100):\n",
    "    new_sample = list()\n",
    "    for sample in tokenCorpus:\n",
    "        tweetVecs = list()\n",
    "        for token in sample.split(' '):\n",
    "            try: tweetVecs.append(trained_word2vec.get_vector(token)  )\n",
    "            except: tweetVecs.append( np.zeros(dim) ) \n",
    "        new_sample.append(np.mean(tweetVecs, axis=0))\n",
    "    return np.array(new_sample)"
   ]
  },
  {
   "cell_type": "code",
   "execution_count": 53,
   "metadata": {},
   "outputs": [
    {
     "name": "stdout",
     "output_type": "stream",
     "text": [
      "(1159, 100)\n",
      "1159\n"
     ]
    }
   ],
   "source": [
    "X = tokens2vectors(database.loc[:, \"tweet\"], pol_wv)\n",
    "print(X.shape)\n",
    "print(len(database.loc[:, \"tweet\"]))"
   ]
  },
  {
   "cell_type": "markdown",
   "metadata": {},
   "source": [
    "# Cos similarity "
   ]
  },
  {
   "cell_type": "code",
   "execution_count": 54,
   "metadata": {},
   "outputs": [],
   "source": [
    "from sklearn.metrics.pairwise import cosine_similarity "
   ]
  },
  {
   "cell_type": "markdown",
   "metadata": {},
   "source": [
    "Après avoir vectorisé les mots, nous allons calculer la similarité de ceux-ci afin d'analyser la cohérence. "
   ]
  },
  {
   "cell_type": "markdown",
   "metadata": {},
   "source": [
    "## Trying Kmeans on the data\n",
    "On tente un kmeans sur les données pour voir si elles sont regroupées en Against / For / Neutral / None Of the Above"
   ]
  },
  {
   "cell_type": "code",
   "execution_count": 55,
   "metadata": {},
   "outputs": [],
   "source": [
    "from sklearn.cluster import KMeans\n",
    "# this example uses only 3 initializations to be fast (but less effective!)\n",
    "kmeans = KMeans(n_clusters=4, random_state=42, n_init=20, max_iter=300, verbose=0).fit(X)"
   ]
  },
  {
   "cell_type": "code",
   "execution_count": 56,
   "metadata": {},
   "outputs": [],
   "source": [
    "#Prédiction des clusters\n",
    "from sklearn.cluster import KMeans\n",
    "# use the model to predict clusters\n",
    "clusters = kmeans.predict(X)"
   ]
  },
  {
   "cell_type": "code",
   "execution_count": 57,
   "metadata": {},
   "outputs": [
    {
     "data": {
      "text/plain": [
       "1159"
      ]
     },
     "execution_count": 57,
     "metadata": {},
     "output_type": "execute_result"
    }
   ],
   "source": [
    "len(clusters)"
   ]
  },
  {
   "cell_type": "code",
   "execution_count": 58,
   "metadata": {},
   "outputs": [
    {
     "data": {
      "text/plain": [
       "(1159, 100)"
      ]
     },
     "execution_count": 58,
     "metadata": {},
     "output_type": "execute_result"
    }
   ],
   "source": [
    "X.shape"
   ]
  },
  {
   "cell_type": "code",
   "execution_count": 59,
   "metadata": {},
   "outputs": [
    {
     "name": "stdout",
     "output_type": "stream",
     "text": [
      "Here is the occurrence counts for each cluster:\n",
      "cluster 0 has 263 elements\n",
      "cluster 2 has 401 elements\n",
      "cluster 1 has 323 elements\n",
      "cluster 3 has 172 elements\n"
     ]
    }
   ],
   "source": [
    "# display some cluster related info\n",
    "from collections import Counter \n",
    "print('Here is the occurrence counts for each cluster:')\n",
    "for k,v in dict(Counter(clusters)).items(): print('cluster', k, 'has', v, 'elements')"
   ]
  },
  {
   "cell_type": "code",
   "execution_count": 60,
   "metadata": {},
   "outputs": [
    {
     "data": {
      "image/png": "[encoded data removed]",
      "text/plain": [
       "<Figure size 432x288 with 1 Axes>"
      ]
     },
     "metadata": {},
     "output_type": "display_data"
    }
   ],
   "source": [
    "pd.DataFrame.from_dict(dict(Counter(clusters)).items()).plot.bar(y=1, x=0, title='Number of tweets in clusters')\n",
    "plt.show()"
   ]
  },
  {
   "cell_type": "code",
   "execution_count": 69,
   "metadata": {},
   "outputs": [
    {
     "name": "stdout",
     "output_type": "stream",
     "text": [
      "clusters distribution accross sentiments\n",
      "(1159,) hey (1159,)\n"
     ]
    },
    {
     "data": {
      "text/html": [
       "<div>\n",
       "<style scoped>\n",
       "    .dataframe tbody tr th:only-of-type {\n",
       "        vertical-align: middle;\n",
       "    }\n",
       "\n",
       "    .dataframe tbody tr th {\n",
       "        vertical-align: top;\n",
       "    }\n",
       "\n",
       "    .dataframe thead th {\n",
       "        text-align: right;\n",
       "    }\n",
       "</style>\n",
       "<table border=\"1\" class=\"dataframe\">\n",
       "  <thead>\n",
       "    <tr style=\"text-align: right;\">\n",
       "      <th></th>\n",
       "      <th>FOR</th>\n",
       "      <th>NONE OF THE ABOVE</th>\n",
       "      <th>AGAINST</th>\n",
       "      <th>NEUTRAL</th>\n",
       "    </tr>\n",
       "  </thead>\n",
       "  <tbody>\n",
       "    <tr>\n",
       "      <th>0</th>\n",
       "      <td>72</td>\n",
       "      <td>64</td>\n",
       "      <td>126</td>\n",
       "      <td>1</td>\n",
       "    </tr>\n",
       "    <tr>\n",
       "      <th>1</th>\n",
       "      <td>110</td>\n",
       "      <td>81</td>\n",
       "      <td>130</td>\n",
       "      <td>2</td>\n",
       "    </tr>\n",
       "    <tr>\n",
       "      <th>3</th>\n",
       "      <td>68</td>\n",
       "      <td>44</td>\n",
       "      <td>59</td>\n",
       "      <td>1</td>\n",
       "    </tr>\n",
       "    <tr>\n",
       "      <th>2</th>\n",
       "      <td>98</td>\n",
       "      <td>128</td>\n",
       "      <td>168</td>\n",
       "      <td>7</td>\n",
       "    </tr>\n",
       "  </tbody>\n",
       "</table>\n",
       "</div>"
      ],
      "text/plain": [
       "   FOR  NONE OF THE ABOVE  AGAINST  NEUTRAL\n",
       "0   72                 64      126        1\n",
       "1  110                 81      130        2\n",
       "3   68                 44       59        1\n",
       "2   98                128      168        7"
      ]
     },
     "execution_count": 69,
     "metadata": {},
     "output_type": "execute_result"
    }
   ],
   "source": [
    "clusterTendancies = {'FOR':list(), \n",
    "                     'NONE OF THE ABOVE': list(),\n",
    "                     'AGAINST': list(), \n",
    "                     'NEUTRAL':list()}\n",
    "for text, sentiment, cluster in list(zip(database.loc[:, \"tweet\"], \n",
    "                                         database.loc[:, 'q1r'],\n",
    "                                         clusters)):\n",
    "    clusterTendancies[sentiment].append(cluster)\n",
    "clusterTendancies = { k:Counter(v) for k,v in clusterTendancies.items() }\n",
    "print('clusters distribution accross sentiments')\n",
    "\n",
    "\n",
    "print(database.loc[:, \"tweet\"].shape, 'hey', clusters.shape)\n",
    "clusterTendancies_df = pd.DataFrame.from_dict(clusterTendancies)\n",
    "clusterTendancies_df"
   ]
  },
  {
   "cell_type": "code",
   "execution_count": 67,
   "metadata": {},
   "outputs": [
    {
     "name": "stdout",
     "output_type": "stream",
     "text": [
      "v_measure score: 3.3067703281407454e-16\n"
     ]
    }
   ],
   "source": [
    "# Quantitative evaluation\n",
    "from sklearn.metrics.cluster import v_measure_score\n",
    "label2id = {'FOR':0, \n",
    "            'NONE OF THE ABOVE': 0,\n",
    "            'AGAINST': 0, \n",
    "            'NEUTRAL':0}\n",
    "y_true = np.array([ label2id[sentiment] for sentiment in database.loc[:, \"q1r\"] ])\n",
    "print('v_measure score:', v_measure_score(y_true, clusters))"
   ]
  },
  {
   "cell_type": "code",
   "execution_count": 88,
   "metadata": {},
   "outputs": [
    {
     "data": {
      "image/png": "[encoded data removed]",
      "text/plain": [
       "<Figure size 1080x504 with 1 Axes>"
      ]
     },
     "metadata": {},
     "output_type": "display_data"
    }
   ],
   "source": [
    "clusterTendancies_df.plot.bar(figsize=(15,7), title='Clusters composition')\n",
    "plt.show()"
   ]
  },
  {
   "cell_type": "markdown",
   "metadata": {},
   "source": [
    "Le clustering est mauvais."
   ]
  },
  {
   "cell_type": "markdown",
   "metadata": {},
   "source": [
    "# BERT"
   ]
  },
  {
   "cell_type": "code",
   "execution_count": 5,
   "metadata": {},
   "outputs": [
    {
     "data": {
      "application/vnd.jupyter.widget-view+json": {
       "model_id": "b71612bec7b94d489b24fcf769306f3c",
       "version_major": 2,
       "version_minor": 0
      },
      "text/plain": [
       "HBox(children=(FloatProgress(value=0.0, description='Downloading', max=665.0, style=ProgressStyle(description_…"
      ]
     },
     "metadata": {},
     "output_type": "display_data"
    },
    {
     "name": "stdout",
     "output_type": "stream",
     "text": [
      "\n"
     ]
    },
    {
     "data": {
      "application/vnd.jupyter.widget-view+json": {
       "model_id": "3d9fdba4bb92460e8e279c2eaa3ff9fb",
       "version_major": 2,
       "version_minor": 0
      },
      "text/plain": [
       "HBox(children=(FloatProgress(value=0.0, description='Downloading', max=1042301.0, style=ProgressStyle(descript…"
      ]
     },
     "metadata": {},
     "output_type": "display_data"
    },
    {
     "name": "stdout",
     "output_type": "stream",
     "text": [
      "\n"
     ]
    },
    {
     "data": {
      "application/vnd.jupyter.widget-view+json": {
       "model_id": "bbe955bd538848928414e1bba9423d42",
       "version_major": 2,
       "version_minor": 0
      },
      "text/plain": [
       "HBox(children=(FloatProgress(value=0.0, description='Downloading', max=456318.0, style=ProgressStyle(descripti…"
      ]
     },
     "metadata": {},
     "output_type": "display_data"
    },
    {
     "name": "stdout",
     "output_type": "stream",
     "text": [
      "\n"
     ]
    },
    {
     "data": {
      "application/vnd.jupyter.widget-view+json": {
       "model_id": "438343b7f2184a02be35edb62bf4b063",
       "version_major": 2,
       "version_minor": 0
      },
      "text/plain": [
       "HBox(children=(FloatProgress(value=0.0, description='Downloading', max=1355256.0, style=ProgressStyle(descript…"
      ]
     },
     "metadata": {},
     "output_type": "display_data"
    },
    {
     "name": "stdout",
     "output_type": "stream",
     "text": [
      "\n",
      "Input text is ['<|endoftext|>', 'ĠIn', 'Ġa', 'Ġrace', 'Ġagainst', 'Ġa', 'Ġfaster', '-', 'sp', 'reading', 'Ġvariant', 'Ġof', 'Ġthe', 'Ġvirus', ',', 'Ġministers', 'Ġhave', 'Ġpinned', 'Ġtheir', 'Ġhopes', 'Ġof', 'Ġeasing', 'Ġa', 'Ġthird', 'Ġnational', 'Ġlockdown', 'Ġon', 'Ġvacc', 'inating', 'Ġas', 'Ġmany', 'Ġadults', 'Ġas', 'Ġpossible', 'Ġby', 'Ġsummer', '.', 'Ġ']\n"
     ]
    }
   ],
   "source": [
    "import torch \n",
    "from transformers import AutoTokenizer\n",
    "### Loading a model \n",
    "import pdb\n",
    "import torch\n",
    "import torch.nn as nn\n",
    "from transformers import AutoModel, AutoTokenizer\n",
    "\n",
    "MODEL_NAME = \"gpt2\"\n",
    "# Load pre-trained model tokenizer (vocabulary)\n",
    "tokenizer = AutoTokenizer.from_pretrained(MODEL_NAME)\n",
    "\n",
    "# Tokenize input\n",
    "text = tokenizer.bos_token+\" In a race against a faster-spreading variant of the virus, ministers have pinned their hopes of easing a third national lockdown on vaccinating as many adults as possible by summer. \"\n",
    "tokenized_text = tokenizer.tokenize(text)\n",
    "indexed_tokens = tokenizer.convert_tokens_to_ids(tokenized_text)\n",
    "print(\"Input text is {}\".format(tokenized_text))\n",
    "\n",
    "# Convert inputs to PyTorch tensors\n",
    "tokens_tensor = torch.tensor([indexed_tokens])\n",
    "\n",
    "#tokenized_text, tokens_tensor"
   ]
  },
  {
   "cell_type": "code",
   "execution_count": 8,
   "metadata": {},
   "outputs": [
    {
     "data": {
      "application/vnd.jupyter.widget-view+json": {
       "model_id": "453380cf758746799e97b4665b59faec",
       "version_major": 2,
       "version_minor": 0
      },
      "text/plain": [
       "HBox(children=(FloatProgress(value=0.0, description='Downloading', max=810912.0, style=ProgressStyle(descripti…"
      ]
     },
     "metadata": {},
     "output_type": "display_data"
    },
    {
     "name": "stdout",
     "output_type": "stream",
     "text": [
      "\n"
     ]
    },
    {
     "data": {
      "application/vnd.jupyter.widget-view+json": {
       "model_id": "ec37e783a0f24b5d9818d2cc9476998c",
       "version_major": 2,
       "version_minor": 0
      },
      "text/plain": [
       "HBox(children=(FloatProgress(value=0.0, description='Downloading', max=1395301.0, style=ProgressStyle(descript…"
      ]
     },
     "metadata": {},
     "output_type": "display_data"
    },
    {
     "name": "stdout",
     "output_type": "stream",
     "text": [
      "\n",
      "Input text is ['<s>', '▁Les', '▁feux', '▁de', '▁b', 'rousse', '▁qui', '▁s', 'év', 'issent', '▁depuis', '▁septembre', '▁en', '<mask>', ',', '▁favorisé', 's', '▁par', '▁des', '▁températures', '▁exceptionnelles', ',', '▁dépassent', '▁tous', '▁les', '▁records', '.', '</s>']\n"
     ]
    },
    {
     "data": {
      "text/plain": [
       "(tensor([[    5,    74,  7795,     8,  1011, 15380,    31,    52,  5632,  5999,\n",
       "            176,   652,    22, 32004,     7, 21438,    10,    37,    20,  6350,\n",
       "          15039,     7, 18851,   117,    19, 18588,     9,     6]]),\n",
       " tensor([[0, 0, 0, 0, 0, 0, 0, 0, 0, 0, 0, 0, 0, 0, 0, 0, 0, 0, 0, 0, 0, 0, 0, 0,\n",
       "          0, 0, 0, 0]]))"
      ]
     },
     "execution_count": 8,
     "metadata": {},
     "output_type": "execute_result"
    }
   ],
   "source": [
    "## OPTIONAL: if you want to have more information on what's happening under the hood, activate the logger as follows\n",
    "#import logging\n",
    "#logging.basicConfig(level=logging.)\n",
    "\n",
    "MODEL_NAME = \"camembert-base\"\n",
    "# Load pre-trained model tokenizer (vocabulary)\n",
    "tokenizer = AutoTokenizer.from_pretrained(MODEL_NAME)\n",
    "\n",
    "# Tokenize input\n",
    "text = tokenizer.bos_token+\" Les feux de brousse qui sévissent depuis septembre en Australie, favorisés par des températures exceptionnelles, dépassent tous les records. \"+tokenizer.eos_token\n",
    "tokenized_text = tokenizer.tokenize(text)\n",
    "\n",
    "# Mask a token that we will try to predict back with `BertForMaskedLM`\n",
    "masked_index = 13 # e.g mask the word 'Australie' index by 13 \n",
    "tokenized_text[masked_index] = tokenizer.mask_token\n",
    "#assert tokenized_text == ['<s>', '▁Les', '▁feux', '▁de', '▁b', 'rousse', '▁qui', '▁s', 'év', 'issent', '▁depuis', '▁septembre', '▁en', '<mask>', ',', '▁favorisé', 's', '▁par', '▁des', '▁températures', '▁exceptionnelles', ',', '▁dépassent', '▁tous', '▁les', '▁records', '.', '</s>'], \"ERROR {}\".format(tokenized_text)\n",
    "print(\"Input text is {}\".format(tokenized_text))\n",
    "# Convert token to vocabulary indices\n",
    "indexed_tokens = tokenizer.convert_tokens_to_ids(tokenized_text)\n",
    "# Define sentence A and B indices associated to 1st and 2nd sentences (see paper)\n",
    "segments_ids = [0 for _ in indexed_tokens]\n",
    "\n",
    "# Convert inputs to PyTorch tensors\n",
    "tokens_tensor = torch.tensor([indexed_tokens])\n",
    "segments_tensors = torch.tensor([segments_ids])\n",
    "tokens_tensor, segments_tensors"
   ]
  },
  {
   "cell_type": "code",
   "execution_count": 9,
   "metadata": {},
   "outputs": [
    {
     "data": {
      "text/plain": [
       "(torch.Size([1, 28, 32005]),\n",
       " tensor([[[ 24.2970,  -4.9570,   7.4591,  ...,  -6.7556,  -3.8422,   1.5580],\n",
       "          [  0.8888,  -5.1120,  20.0042,  ..., -10.3811,  -2.8260,   1.2345],\n",
       "          [  0.7079,  -4.8594,   5.9372,  ...,  -2.2902,  -9.3024,  -4.2323],\n",
       "          ...,\n",
       "          [  3.1483,  -5.8761,   9.6652,  ...,   0.6660, -14.9198,  -1.6405],\n",
       "          [  6.5931,  -9.3456,   6.4011,  ...,  -6.1560,  -7.7579,   1.6096],\n",
       "          [  9.2209,  -6.0294,  27.4843,  ...,  -9.5553,  -6.6237,   2.0224]]]))"
      ]
     },
     "execution_count": 9,
     "metadata": {},
     "output_type": "execute_result"
    }
   ],
   "source": [
    "# Load pre-trained model (weights)\n",
    "from transformers import AutoModelWithLMHead\n",
    "\n",
    "model = AutoModelWithLMHead.from_pretrained('camembert-base')\n",
    "model.eval()\n",
    "# If you have a GPU, put everything on cuda\n",
    "#tokens_tensor = tokens_tensor.to('cuda')\n",
    "#segments_tensors = segments_tensors.to('cuda')\n",
    "#model.to('cuda')\n",
    "\n",
    "# Predict all tokens\n",
    "with torch.no_grad():\n",
    "    outputs = model(tokens_tensor, token_type_ids=segments_tensors)\n",
    "    predictions = outputs[0]\n",
    "\n",
    "predictions.size(), predictions"
   ]
  },
  {
   "cell_type": "code",
   "execution_count": 10,
   "metadata": {},
   "outputs": [],
   "source": [
    "import torch\n",
    "import torch.nn as nn\n",
    "from torch.utils.data import Dataset\n",
    "from transformers import BertTokenizer, AutoModel, AutoTokenizer\n",
    "import pandas as pd\n",
    "from torch.utils.data import DataLoader\n",
    "\n",
    "class SSTDataset(Dataset):\n",
    "\n",
    "    def __init__(self, filename, maxlen, model_name='bert-base-uncased'):\n",
    "\n",
    "        #Store the contents of the file in a pandas dataframe\n",
    "        self.dataset = load_dataset('sst')[filename]\n",
    "\n",
    "        #Initialize the BERT tokenizer\n",
    "        self.tokenizer = AutoTokenizer.from_pretrained(model_name)\n",
    "\n",
    "        self.maxlen = maxlen\n",
    "\n",
    "    def __len__(self):\n",
    "        return len(self.dataset)\n",
    "\n",
    "    def __getitem__(self, index):\n",
    "\n",
    "        #Selecting the sentence and label at the specified index in the data frame\n",
    "        sentence = self.dataset[index]['sentence']\n",
    "        label = 1 if self.dataset[index]['label']>0.5 else 0\n",
    "\n",
    "        #Preprocessing the text to be suitable for BERT\n",
    "        tokens = self.tokenizer.tokenize(sentence) #Tokenize the sentence\n",
    "        if self.tokenizer.cls_token is None:\n",
    "          bos_token = self.tokenizer.bos_token\n",
    "        else:\n",
    "          bos_token = self.tokenizer.cls_token\n",
    "          \n",
    "        if self.tokenizer.sep_token is None:\n",
    "          eos_token = self.tokenizer.eos_token\n",
    "        else:\n",
    "          eos_token = self.tokenizer.sep_token\n",
    "        \n",
    "        tokens = [bos_token] + tokens + [eos_token] #Insering the CLS and SEP token in the beginning and end of the sentence\n",
    "        if len(tokens) < self.maxlen:\n",
    "            tokens = tokens + [self.tokenizer.pad_token for _ in range(self.maxlen - len(tokens))] #Padding sentences\n",
    "        else:\n",
    "            tokens = tokens[:self.maxlen-1] + [eos_token] #Prunning the list to be of specified max length\n",
    "\n",
    "        tokens_ids = self.tokenizer.convert_tokens_to_ids(tokens) #Obtaining the indices of the tokens in the BERT Vocabulary\n",
    "        tokens_ids_tensor = torch.tensor(tokens_ids) #Converting the list to a pytorch tensor\n",
    "        #Obtaining the attention mask i.e a tensor containing 1s for no padded tokens and 0s for padded ones\n",
    "        attn_mask = (tokens_ids_tensor != 0).long()\n",
    "\n",
    "        return tokens_ids_tensor, attn_mask, label"
   ]
  },
  {
   "cell_type": "code",
   "execution_count": null,
   "metadata": {},
   "outputs": [],
   "source": [
    "#Creating instances of training and validation set\n",
    "train_set = SSTDataset(filename = 'train', maxlen = 30, model_name='bert-base-uncased')\n",
    "val_set = SSTDataset(filename = 'validation', maxlen = 30, model_name='bert-base-uncased')\n",
    "#sentence = train.loc[11, 'sentence']\n",
    "#Creating intsances of training and validation dataloaders\n",
    "train_loader = DataLoader(train_set, batch_size = 12, num_workers = 5)\n",
    "val_loader = DataLoader(val_set, batch_size = 12, num_workers = 5)"
   ]
  }
 ],
 "metadata": {
  "kernelspec": {
   "display_name": "Python 3",
   "language": "python",
   "name": "python3"
  },
  "language_info": {
   "codemirror_mode": {
    "name": "ipython",
    "version": 3
   },
   "file_extension": ".py",
   "mimetype": "text/x-python",
   "name": "python",
   "nbconvert_exporter": "python",
   "pygments_lexer": "ipython3",
   "version": "3.8.3"
  }
 },
 "nbformat": 4,
 "nbformat_minor": 4
}
