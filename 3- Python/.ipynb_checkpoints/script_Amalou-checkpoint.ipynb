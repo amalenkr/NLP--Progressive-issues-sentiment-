{
 "cells": [
  {
   "cell_type": "markdown",
   "metadata": {},
   "source": [
    "## NLP Sentiment classification"
   ]
  },
  {
   "cell_type": "code",
   "execution_count": 53,
   "metadata": {},
   "outputs": [],
   "source": [
    "import pandas as pd\n",
    "import numpy as np\n",
    "import matplotlib.pyplot as plt\n",
    "import seaborn as sns\n",
    "import pickle as pckl\n",
    "sns.set_theme()\n",
    "sns.set_style('whitegrid')\n",
    "sns.set(font_scale=1.25)\n",
    "sns.set()"
   ]
  },
  {
   "cell_type": "markdown",
   "metadata": {},
   "source": [
    "#### Extraction et recodage des données"
   ]
  },
  {
   "cell_type": "code",
   "execution_count": 27,
   "metadata": {},
   "outputs": [],
   "source": [
    "data = pckl.load(open('data_query.p','rb'))"
   ]
  },
  {
   "cell_type": "code",
   "execution_count": 48,
   "metadata": {},
   "outputs": [],
   "source": [
    "data = data.rename(columns={'q1_from_reading_the_tweet_which_of_the_options_below_is_most_likely_to_be_true_about_the_stance_or_outlook_of_the_tweeter_towards_the_target' : 'q1', 'q1_from_reading_the_tweet_which_of_the_options_below_is_most_likely_to_be_true_about_the_stance_or_outlook_of_the_tweeter_towards_the_target_confidence': 'q1_confidence', 'q2_which_of_the_options_below_is_true_about_the_opinion_in_the_tweet' : 'q2', 'q2_which_of_the_options_below_is_true_about_the_opinion_in_the_tweet_confidence': 'q2_confidence'})"
   ]
  },
  {
   "cell_type": "markdown",
   "metadata": {},
   "source": [
    "#### Exploration des données"
   ]
  },
  {
   "cell_type": "code",
   "execution_count": 49,
   "metadata": {},
   "outputs": [
    {
     "name": "stdout",
     "output_type": "stream",
     "text": [
      "Shape:  (1159, 17)\n"
     ]
    }
   ],
   "source": [
    "print(\"Shape:  {0}\".format(data.shape))"
   ]
  },
  {
   "cell_type": "code",
   "execution_count": 50,
   "metadata": {},
   "outputs": [
    {
     "data": {
      "text/plain": [
       "Index(['unit_id', 'golden', 'unit_state', 'trusted_judgments',\n",
       "       'last_judgment_at', 'q1', 'q1_confidence', 'q2', 'q2_confidence',\n",
       "       'orig_golden', 'internal_id',\n",
       "       'orig_q1_from_reading_the_tweet_which_of_the_options_below_is_most_likely_to_be_true_about_the_stance_or_outlook_of_the_tweeter_towards_the_target',\n",
       "       'q1_from_reading_the_tweet_which_of_the_options_below_is_most_likely_to_be_true_about_the_stance_or_outlook_of_the_tweeter_towards_the_target_gold',\n",
       "       'orig_q2_which_of_the_options_below_is_true_about_the_opinion_in_the_tweet',\n",
       "       'target', 'tweet', 'tweet_id'],\n",
       "      dtype='object')"
      ]
     },
     "execution_count": 50,
     "metadata": {},
     "output_type": "execute_result"
    }
   ],
   "source": [
    "data.columns"
   ]
  },
  {
   "cell_type": "code",
   "execution_count": 51,
   "metadata": {},
   "outputs": [
    {
     "data": {
      "text/html": [
       "<div>\n",
       "<style scoped>\n",
       "    .dataframe tbody tr th:only-of-type {\n",
       "        vertical-align: middle;\n",
       "    }\n",
       "\n",
       "    .dataframe tbody tr th {\n",
       "        vertical-align: top;\n",
       "    }\n",
       "\n",
       "    .dataframe thead th {\n",
       "        text-align: right;\n",
       "    }\n",
       "</style>\n",
       "<table border=\"1\" class=\"dataframe\">\n",
       "  <thead>\n",
       "    <tr style=\"text-align: right;\">\n",
       "      <th></th>\n",
       "      <th>unit_id</th>\n",
       "      <th>golden</th>\n",
       "      <th>unit_state</th>\n",
       "      <th>trusted_judgments</th>\n",
       "      <th>last_judgment_at</th>\n",
       "      <th>q1</th>\n",
       "      <th>q1_confidence</th>\n",
       "      <th>q2</th>\n",
       "      <th>q2_confidence</th>\n",
       "      <th>orig_golden</th>\n",
       "      <th>internal_id</th>\n",
       "      <th>orig_q1_from_reading_the_tweet_which_of_the_options_below_is_most_likely_to_be_true_about_the_stance_or_outlook_of_the_tweeter_towards_the_target</th>\n",
       "      <th>q1_from_reading_the_tweet_which_of_the_options_below_is_most_likely_to_be_true_about_the_stance_or_outlook_of_the_tweeter_towards_the_target_gold</th>\n",
       "      <th>orig_q2_which_of_the_options_below_is_true_about_the_opinion_in_the_tweet</th>\n",
       "      <th>target</th>\n",
       "      <th>tweet</th>\n",
       "      <th>tweet_id</th>\n",
       "    </tr>\n",
       "  </thead>\n",
       "  <tbody>\n",
       "    <tr>\n",
       "      <th>0</th>\n",
       "      <td>713632888</td>\n",
       "      <td>True</td>\n",
       "      <td>golden</td>\n",
       "      <td>30</td>\n",
       "      <td>None</td>\n",
       "      <td>AGAINST: We can infer from the tweet that the ...</td>\n",
       "      <td>0.6581</td>\n",
       "      <td>2. The tweet does NOT expresses opinion about ...</td>\n",
       "      <td>0.4976</td>\n",
       "      <td>True</td>\n",
       "      <td>189</td>\n",
       "      <td>None</td>\n",
       "      <td>AGAINST: We can infer from the tweet that the ...</td>\n",
       "      <td>None</td>\n",
       "      <td>Legalization of Abortion</td>\n",
       "      <td>Thank you for another day of life Lord. #Chris...</td>\n",
       "      <td>id588718177095266305</td>\n",
       "    </tr>\n",
       "    <tr>\n",
       "      <th>1</th>\n",
       "      <td>713632889</td>\n",
       "      <td>False</td>\n",
       "      <td>golden</td>\n",
       "      <td>2</td>\n",
       "      <td>None</td>\n",
       "      <td>NONE OF THE ABOVE: There is no clue in the twe...</td>\n",
       "      <td>1.0000</td>\n",
       "      <td>2. The tweet does NOT expresses opinion about ...</td>\n",
       "      <td>0.5294</td>\n",
       "      <td>True</td>\n",
       "      <td>190</td>\n",
       "      <td>None</td>\n",
       "      <td>AGAINST: We can infer from the tweet that the ...</td>\n",
       "      <td>None</td>\n",
       "      <td>Legalization of Abortion</td>\n",
       "      <td>@rosaryrevival Lovely to use Glorious Mysterie...</td>\n",
       "      <td>id592798858725425152</td>\n",
       "    </tr>\n",
       "    <tr>\n",
       "      <th>2</th>\n",
       "      <td>713632890</td>\n",
       "      <td>True</td>\n",
       "      <td>golden</td>\n",
       "      <td>26</td>\n",
       "      <td>None</td>\n",
       "      <td>AGAINST: We can infer from the tweet that the ...</td>\n",
       "      <td>0.8859</td>\n",
       "      <td>1.  The tweet explicitly expresses opinion abo...</td>\n",
       "      <td>0.8820</td>\n",
       "      <td>True</td>\n",
       "      <td>207</td>\n",
       "      <td>None</td>\n",
       "      <td>AGAINST: We can infer from the tweet that the ...</td>\n",
       "      <td>None</td>\n",
       "      <td>Legalization of Abortion</td>\n",
       "      <td>@Niall250 good thing is that #DUP have consist...</td>\n",
       "      <td>id593472619208380419</td>\n",
       "    </tr>\n",
       "    <tr>\n",
       "      <th>3</th>\n",
       "      <td>713632891</td>\n",
       "      <td>False</td>\n",
       "      <td>golden</td>\n",
       "      <td>3</td>\n",
       "      <td>None</td>\n",
       "      <td>AGAINST: We can infer from the tweet that the ...</td>\n",
       "      <td>0.6323</td>\n",
       "      <td>1.  The tweet explicitly expresses opinion abo...</td>\n",
       "      <td>0.6323</td>\n",
       "      <td>True</td>\n",
       "      <td>211</td>\n",
       "      <td>None</td>\n",
       "      <td>AGAINST: We can infer from the tweet that the ...</td>\n",
       "      <td>None</td>\n",
       "      <td>Legalization of Abortion</td>\n",
       "      <td>So, you tell me... is murder okay if the victi...</td>\n",
       "      <td>id592699132399194112</td>\n",
       "    </tr>\n",
       "    <tr>\n",
       "      <th>4</th>\n",
       "      <td>713632892</td>\n",
       "      <td>True</td>\n",
       "      <td>golden</td>\n",
       "      <td>31</td>\n",
       "      <td>None</td>\n",
       "      <td>AGAINST: We can infer from the tweet that the ...</td>\n",
       "      <td>0.8920</td>\n",
       "      <td>1.  The tweet explicitly expresses opinion abo...</td>\n",
       "      <td>0.8939</td>\n",
       "      <td>True</td>\n",
       "      <td>213</td>\n",
       "      <td>None</td>\n",
       "      <td>AGAINST: We can infer from the tweet that the ...</td>\n",
       "      <td>None</td>\n",
       "      <td>Legalization of Abortion</td>\n",
       "      <td>@HillaryClinton Don't you mean to say (all chi...</td>\n",
       "      <td>id588527665365188608</td>\n",
       "    </tr>\n",
       "  </tbody>\n",
       "</table>\n",
       "</div>"
      ],
      "text/plain": [
       "     unit_id  golden unit_state  trusted_judgments last_judgment_at  \\\n",
       "0  713632888    True     golden                 30             None   \n",
       "1  713632889   False     golden                  2             None   \n",
       "2  713632890    True     golden                 26             None   \n",
       "3  713632891   False     golden                  3             None   \n",
       "4  713632892    True     golden                 31             None   \n",
       "\n",
       "                                                  q1  q1_confidence  \\\n",
       "0  AGAINST: We can infer from the tweet that the ...         0.6581   \n",
       "1  NONE OF THE ABOVE: There is no clue in the twe...         1.0000   \n",
       "2  AGAINST: We can infer from the tweet that the ...         0.8859   \n",
       "3  AGAINST: We can infer from the tweet that the ...         0.6323   \n",
       "4  AGAINST: We can infer from the tweet that the ...         0.8920   \n",
       "\n",
       "                                                  q2  q2_confidence  \\\n",
       "0  2. The tweet does NOT expresses opinion about ...         0.4976   \n",
       "1  2. The tweet does NOT expresses opinion about ...         0.5294   \n",
       "2  1.  The tweet explicitly expresses opinion abo...         0.8820   \n",
       "3  1.  The tweet explicitly expresses opinion abo...         0.6323   \n",
       "4  1.  The tweet explicitly expresses opinion abo...         0.8939   \n",
       "\n",
       "  orig_golden  internal_id  \\\n",
       "0        True          189   \n",
       "1        True          190   \n",
       "2        True          207   \n",
       "3        True          211   \n",
       "4        True          213   \n",
       "\n",
       "  orig_q1_from_reading_the_tweet_which_of_the_options_below_is_most_likely_to_be_true_about_the_stance_or_outlook_of_the_tweeter_towards_the_target  \\\n",
       "0                                               None                                                                                                  \n",
       "1                                               None                                                                                                  \n",
       "2                                               None                                                                                                  \n",
       "3                                               None                                                                                                  \n",
       "4                                               None                                                                                                  \n",
       "\n",
       "  q1_from_reading_the_tweet_which_of_the_options_below_is_most_likely_to_be_true_about_the_stance_or_outlook_of_the_tweeter_towards_the_target_gold  \\\n",
       "0  AGAINST: We can infer from the tweet that the ...                                                                                                  \n",
       "1  AGAINST: We can infer from the tweet that the ...                                                                                                  \n",
       "2  AGAINST: We can infer from the tweet that the ...                                                                                                  \n",
       "3  AGAINST: We can infer from the tweet that the ...                                                                                                  \n",
       "4  AGAINST: We can infer from the tweet that the ...                                                                                                  \n",
       "\n",
       "  orig_q2_which_of_the_options_below_is_true_about_the_opinion_in_the_tweet  \\\n",
       "0                                               None                          \n",
       "1                                               None                          \n",
       "2                                               None                          \n",
       "3                                               None                          \n",
       "4                                               None                          \n",
       "\n",
       "                     target  \\\n",
       "0  Legalization of Abortion   \n",
       "1  Legalization of Abortion   \n",
       "2  Legalization of Abortion   \n",
       "3  Legalization of Abortion   \n",
       "4  Legalization of Abortion   \n",
       "\n",
       "                                               tweet              tweet_id  \n",
       "0  Thank you for another day of life Lord. #Chris...  id588718177095266305  \n",
       "1  @rosaryrevival Lovely to use Glorious Mysterie...  id592798858725425152  \n",
       "2  @Niall250 good thing is that #DUP have consist...  id593472619208380419  \n",
       "3  So, you tell me... is murder okay if the victi...  id592699132399194112  \n",
       "4  @HillaryClinton Don't you mean to say (all chi...  id588527665365188608  "
      ]
     },
     "execution_count": 51,
     "metadata": {},
     "output_type": "execute_result"
    }
   ],
   "source": [
    "data.head()"
   ]
  },
  {
   "cell_type": "code",
   "execution_count": 56,
   "metadata": {},
   "outputs": [
    {
     "data": {
      "text/html": [
       "<div>\n",
       "<style scoped>\n",
       "    .dataframe tbody tr th:only-of-type {\n",
       "        vertical-align: middle;\n",
       "    }\n",
       "\n",
       "    .dataframe tbody tr th {\n",
       "        vertical-align: top;\n",
       "    }\n",
       "\n",
       "    .dataframe thead th {\n",
       "        text-align: right;\n",
       "    }\n",
       "</style>\n",
       "<table border=\"1\" class=\"dataframe\">\n",
       "  <thead>\n",
       "    <tr style=\"text-align: right;\">\n",
       "      <th></th>\n",
       "      <th>unit_id</th>\n",
       "      <th>trusted_judgments</th>\n",
       "      <th>q1_confidence</th>\n",
       "      <th>q2_confidence</th>\n",
       "      <th>internal_id</th>\n",
       "    </tr>\n",
       "  </thead>\n",
       "  <tbody>\n",
       "    <tr>\n",
       "      <th>count</th>\n",
       "      <td>1.159000e+03</td>\n",
       "      <td>1159.00000</td>\n",
       "      <td>1159.000000</td>\n",
       "      <td>1159.000000</td>\n",
       "      <td>1159.000000</td>\n",
       "    </tr>\n",
       "    <tr>\n",
       "      <th>mean</th>\n",
       "      <td>7.136335e+08</td>\n",
       "      <td>8.96635</td>\n",
       "      <td>0.780270</td>\n",
       "      <td>0.721863</td>\n",
       "      <td>1107.838654</td>\n",
       "    </tr>\n",
       "    <tr>\n",
       "      <th>std</th>\n",
       "      <td>3.354871e+02</td>\n",
       "      <td>4.79184</td>\n",
       "      <td>0.195433</td>\n",
       "      <td>0.195343</td>\n",
       "      <td>1797.624804</td>\n",
       "    </tr>\n",
       "    <tr>\n",
       "      <th>min</th>\n",
       "      <td>7.136329e+08</td>\n",
       "      <td>2.00000</td>\n",
       "      <td>0.257500</td>\n",
       "      <td>0.373200</td>\n",
       "      <td>1.000000</td>\n",
       "    </tr>\n",
       "    <tr>\n",
       "      <th>25%</th>\n",
       "      <td>7.136332e+08</td>\n",
       "      <td>8.00000</td>\n",
       "      <td>0.622500</td>\n",
       "      <td>0.517150</td>\n",
       "      <td>240.000000</td>\n",
       "    </tr>\n",
       "    <tr>\n",
       "      <th>50%</th>\n",
       "      <td>7.136335e+08</td>\n",
       "      <td>8.00000</td>\n",
       "      <td>0.814300</td>\n",
       "      <td>0.740700</td>\n",
       "      <td>336.000000</td>\n",
       "    </tr>\n",
       "    <tr>\n",
       "      <th>75%</th>\n",
       "      <td>7.136338e+08</td>\n",
       "      <td>8.00000</td>\n",
       "      <td>1.000000</td>\n",
       "      <td>0.882750</td>\n",
       "      <td>439.000000</td>\n",
       "    </tr>\n",
       "    <tr>\n",
       "      <th>max</th>\n",
       "      <td>7.136340e+08</td>\n",
       "      <td>38.00000</td>\n",
       "      <td>1.000000</td>\n",
       "      <td>1.000000</td>\n",
       "      <td>5194.000000</td>\n",
       "    </tr>\n",
       "  </tbody>\n",
       "</table>\n",
       "</div>"
      ],
      "text/plain": [
       "            unit_id  trusted_judgments  q1_confidence  q2_confidence  \\\n",
       "count  1.159000e+03         1159.00000    1159.000000    1159.000000   \n",
       "mean   7.136335e+08            8.96635       0.780270       0.721863   \n",
       "std    3.354871e+02            4.79184       0.195433       0.195343   \n",
       "min    7.136329e+08            2.00000       0.257500       0.373200   \n",
       "25%    7.136332e+08            8.00000       0.622500       0.517150   \n",
       "50%    7.136335e+08            8.00000       0.814300       0.740700   \n",
       "75%    7.136338e+08            8.00000       1.000000       0.882750   \n",
       "max    7.136340e+08           38.00000       1.000000       1.000000   \n",
       "\n",
       "       internal_id  \n",
       "count  1159.000000  \n",
       "mean   1107.838654  \n",
       "std    1797.624804  \n",
       "min       1.000000  \n",
       "25%     240.000000  \n",
       "50%     336.000000  \n",
       "75%     439.000000  \n",
       "max    5194.000000  "
      ]
     },
     "execution_count": 56,
     "metadata": {},
     "output_type": "execute_result"
    }
   ],
   "source": [
    "data.describe()"
   ]
  },
  {
   "cell_type": "markdown",
   "metadata": {},
   "source": [
    "#### q1"
   ]
  },
  {
   "cell_type": "code",
   "execution_count": 62,
   "metadata": {},
   "outputs": [
    {
     "name": "stdout",
     "output_type": "stream",
     "text": [
      "['AGAINST: We can infer from the tweet that the tweeter is against the target (e.g., directly or indirectly by opposing or criticizing someone/something, by supporting someone/something opposed to the target, or by echoing the stance of somebody else).'\n",
      " 'NONE OF THE ABOVE: There is no clue in the tweet to reveal the stance of the tweeter towards the target (support/against/neutral).'\n",
      " 'FOR: We can infer from the tweet that the tweeter supports the target (e.g., directly or indirectly by supporting someone/something, by opposing or criticizing someone/something opposed to the target, or by echoing the stance of somebody else).'\n",
      " 'NEUTRAL: We can infer from the tweet that the tweeter has a neutral stance towards the target. (The tweet being neither favorable nor against the target is not sufficient reason for choosing this option. One reason for choosing this option is that the tweeter supports the target entity to some extent, but is also against it to some extent.)']\n"
     ]
    }
   ],
   "source": [
    "#q1 from reading the tweet which of the options below is most likely to be true about the stance or outlook of the tweeter towards the target\n",
    "print(data['q1'].unique())"
   ]
  },
  {
   "cell_type": "code",
   "execution_count": 68,
   "metadata": {},
   "outputs": [
    {
     "data": {
      "image/png": "[encoded data removed]",
      "text/plain": [
       "<Figure size 432x288 with 1 Axes>"
      ]
     },
     "metadata": {},
     "output_type": "display_data"
    }
   ],
   "source": [
    "pd.Series(q1_resume).value_counts().plot.pie(autopct=\"%.1f%%\")\n",
    "plt.show()"
   ]
  },
  {
   "cell_type": "markdown",
   "metadata": {},
   "source": [
    "#### Sujets des tweets "
   ]
  },
  {
   "cell_type": "code",
   "execution_count": 33,
   "metadata": {},
   "outputs": [
    {
     "name": "stdout",
     "output_type": "stream",
     "text": [
      "['Legalization of Abortion' 'Hillary Clinton' 'Feminist Movement'\n",
      " 'Atheism']\n"
     ]
    }
   ],
   "source": [
    "#Target\n",
    "print(data['target'].unique())"
   ]
  },
  {
   "cell_type": "code",
   "execution_count": 55,
   "metadata": {},
   "outputs": [
    {
     "data": {
      "image/png": "[encoded data removed]",
      "text/plain": [
       "<Figure size 432x288 with 1 Axes>"
      ]
     },
     "metadata": {},
     "output_type": "display_data"
    }
   ],
   "source": [
    "pd.Series(data['target']).value_counts().plot.pie(autopct=\"%.1f%%\")\n",
    "plt.show()"
   ]
  },
  {
   "cell_type": "markdown",
   "metadata": {},
   "source": [
    "#### Tweet"
   ]
  },
  {
   "cell_type": "code",
   "execution_count": 42,
   "metadata": {},
   "outputs": [
    {
     "data": {
      "text/plain": [
       "1159"
      ]
     },
     "execution_count": 42,
     "metadata": {},
     "output_type": "execute_result"
    }
   ],
   "source": [
    "len(data['tweet'])"
   ]
  },
  {
   "cell_type": "code",
   "execution_count": 60,
   "metadata": {},
   "outputs": [],
   "source": [
    "tweet = data['tweet'].astype(str)"
   ]
  },
  {
   "cell_type": "code",
   "execution_count": 61,
   "metadata": {},
   "outputs": [
    {
     "ename": "TypeError",
     "evalue": "expected string or bytes-like object",
     "output_type": "error",
     "traceback": [
      "\u001b[1;31m---------------------------------------------------------------------------\u001b[0m",
      "\u001b[1;31mTypeError\u001b[0m                                 Traceback (most recent call last)",
      "\u001b[1;32m<ipython-input-61-0f66154d21e4>\u001b[0m in \u001b[0;36m<module>\u001b[1;34m\u001b[0m\n\u001b[0;32m      2\u001b[0m \u001b[1;32mfrom\u001b[0m \u001b[0mwordcloud\u001b[0m \u001b[1;32mimport\u001b[0m \u001b[0mWordCloud\u001b[0m\u001b[1;33m,\u001b[0m \u001b[0mSTOPWORDS\u001b[0m\u001b[1;33m\u001b[0m\u001b[1;33m\u001b[0m\u001b[0m\n\u001b[0;32m      3\u001b[0m \u001b[1;33m\u001b[0m\u001b[0m\n\u001b[1;32m----> 4\u001b[1;33m \u001b[0mwordcloud\u001b[0m \u001b[1;33m=\u001b[0m \u001b[0mWordCloud\u001b[0m\u001b[1;33m(\u001b[0m\u001b[1;33m)\u001b[0m\u001b[1;33m.\u001b[0m\u001b[0mgenerate\u001b[0m\u001b[1;33m(\u001b[0m\u001b[0mtweet\u001b[0m\u001b[1;33m)\u001b[0m\u001b[1;33m\u001b[0m\u001b[1;33m\u001b[0m\u001b[0m\n\u001b[0m",
      "\u001b[1;32m~\\anaconda3\\lib\\site-packages\\wordcloud\\wordcloud.py\u001b[0m in \u001b[0;36mgenerate\u001b[1;34m(self, text)\u001b[0m\n\u001b[0;32m    630\u001b[0m         \u001b[0mself\u001b[0m\u001b[1;33m\u001b[0m\u001b[1;33m\u001b[0m\u001b[0m\n\u001b[0;32m    631\u001b[0m         \"\"\"\n\u001b[1;32m--> 632\u001b[1;33m         \u001b[1;32mreturn\u001b[0m \u001b[0mself\u001b[0m\u001b[1;33m.\u001b[0m\u001b[0mgenerate_from_text\u001b[0m\u001b[1;33m(\u001b[0m\u001b[0mtext\u001b[0m\u001b[1;33m)\u001b[0m\u001b[1;33m\u001b[0m\u001b[1;33m\u001b[0m\u001b[0m\n\u001b[0m\u001b[0;32m    633\u001b[0m \u001b[1;33m\u001b[0m\u001b[0m\n\u001b[0;32m    634\u001b[0m     \u001b[1;32mdef\u001b[0m \u001b[0m_check_generated\u001b[0m\u001b[1;33m(\u001b[0m\u001b[0mself\u001b[0m\u001b[1;33m)\u001b[0m\u001b[1;33m:\u001b[0m\u001b[1;33m\u001b[0m\u001b[1;33m\u001b[0m\u001b[0m\n",
      "\u001b[1;32m~\\anaconda3\\lib\\site-packages\\wordcloud\\wordcloud.py\u001b[0m in \u001b[0;36mgenerate_from_text\u001b[1;34m(self, text)\u001b[0m\n\u001b[0;32m    611\u001b[0m         \u001b[0mself\u001b[0m\u001b[1;33m\u001b[0m\u001b[1;33m\u001b[0m\u001b[0m\n\u001b[0;32m    612\u001b[0m         \"\"\"\n\u001b[1;32m--> 613\u001b[1;33m         \u001b[0mwords\u001b[0m \u001b[1;33m=\u001b[0m \u001b[0mself\u001b[0m\u001b[1;33m.\u001b[0m\u001b[0mprocess_text\u001b[0m\u001b[1;33m(\u001b[0m\u001b[0mtext\u001b[0m\u001b[1;33m)\u001b[0m\u001b[1;33m\u001b[0m\u001b[1;33m\u001b[0m\u001b[0m\n\u001b[0m\u001b[0;32m    614\u001b[0m         \u001b[0mself\u001b[0m\u001b[1;33m.\u001b[0m\u001b[0mgenerate_from_frequencies\u001b[0m\u001b[1;33m(\u001b[0m\u001b[0mwords\u001b[0m\u001b[1;33m)\u001b[0m\u001b[1;33m\u001b[0m\u001b[1;33m\u001b[0m\u001b[0m\n\u001b[0;32m    615\u001b[0m         \u001b[1;32mreturn\u001b[0m \u001b[0mself\u001b[0m\u001b[1;33m\u001b[0m\u001b[1;33m\u001b[0m\u001b[0m\n",
      "\u001b[1;32m~\\anaconda3\\lib\\site-packages\\wordcloud\\wordcloud.py\u001b[0m in \u001b[0;36mprocess_text\u001b[1;34m(self, text)\u001b[0m\n\u001b[0;32m    573\u001b[0m         \u001b[0mregexp\u001b[0m \u001b[1;33m=\u001b[0m \u001b[0mself\u001b[0m\u001b[1;33m.\u001b[0m\u001b[0mregexp\u001b[0m \u001b[1;32mif\u001b[0m \u001b[0mself\u001b[0m\u001b[1;33m.\u001b[0m\u001b[0mregexp\u001b[0m \u001b[1;32mis\u001b[0m \u001b[1;32mnot\u001b[0m \u001b[1;32mNone\u001b[0m \u001b[1;32melse\u001b[0m \u001b[0mpattern\u001b[0m\u001b[1;33m\u001b[0m\u001b[1;33m\u001b[0m\u001b[0m\n\u001b[0;32m    574\u001b[0m \u001b[1;33m\u001b[0m\u001b[0m\n\u001b[1;32m--> 575\u001b[1;33m         \u001b[0mwords\u001b[0m \u001b[1;33m=\u001b[0m \u001b[0mre\u001b[0m\u001b[1;33m.\u001b[0m\u001b[0mfindall\u001b[0m\u001b[1;33m(\u001b[0m\u001b[0mregexp\u001b[0m\u001b[1;33m,\u001b[0m \u001b[0mtext\u001b[0m\u001b[1;33m,\u001b[0m \u001b[0mflags\u001b[0m\u001b[1;33m)\u001b[0m\u001b[1;33m\u001b[0m\u001b[1;33m\u001b[0m\u001b[0m\n\u001b[0m\u001b[0;32m    576\u001b[0m         \u001b[1;31m# remove 's\u001b[0m\u001b[1;33m\u001b[0m\u001b[1;33m\u001b[0m\u001b[1;33m\u001b[0m\u001b[0m\n\u001b[0;32m    577\u001b[0m         words = [word[:-2] if word.lower().endswith(\"'s\") else word\n",
      "\u001b[1;32m~\\anaconda3\\lib\\re.py\u001b[0m in \u001b[0;36mfindall\u001b[1;34m(pattern, string, flags)\u001b[0m\n\u001b[0;32m    239\u001b[0m \u001b[1;33m\u001b[0m\u001b[0m\n\u001b[0;32m    240\u001b[0m     Empty matches are included in the result.\"\"\"\n\u001b[1;32m--> 241\u001b[1;33m     \u001b[1;32mreturn\u001b[0m \u001b[0m_compile\u001b[0m\u001b[1;33m(\u001b[0m\u001b[0mpattern\u001b[0m\u001b[1;33m,\u001b[0m \u001b[0mflags\u001b[0m\u001b[1;33m)\u001b[0m\u001b[1;33m.\u001b[0m\u001b[0mfindall\u001b[0m\u001b[1;33m(\u001b[0m\u001b[0mstring\u001b[0m\u001b[1;33m)\u001b[0m\u001b[1;33m\u001b[0m\u001b[1;33m\u001b[0m\u001b[0m\n\u001b[0m\u001b[0;32m    242\u001b[0m \u001b[1;33m\u001b[0m\u001b[0m\n\u001b[0;32m    243\u001b[0m \u001b[1;32mdef\u001b[0m \u001b[0mfinditer\u001b[0m\u001b[1;33m(\u001b[0m\u001b[0mpattern\u001b[0m\u001b[1;33m,\u001b[0m \u001b[0mstring\u001b[0m\u001b[1;33m,\u001b[0m \u001b[0mflags\u001b[0m\u001b[1;33m=\u001b[0m\u001b[1;36m0\u001b[0m\u001b[1;33m)\u001b[0m\u001b[1;33m:\u001b[0m\u001b[1;33m\u001b[0m\u001b[1;33m\u001b[0m\u001b[0m\n",
      "\u001b[1;31mTypeError\u001b[0m: expected string or bytes-like object"
     ]
    }
   ],
   "source": [
    "#Nuage de mot\n",
    "from wordcloud import WordCloud, STOPWORDS\n",
    "\n",
    "wordcloud = WordCloud().generate(tweet)"
   ]
  },
  {
   "cell_type": "markdown",
   "metadata": {},
   "source": [
    "#### Valeurs manquantes"
   ]
  },
  {
   "cell_type": "code",
   "execution_count": 52,
   "metadata": {},
   "outputs": [
    {
     "data": {
      "text/plain": [
       "unit_id                                                                                                                                                 0\n",
       "golden                                                                                                                                                  0\n",
       "unit_state                                                                                                                                              0\n",
       "trusted_judgments                                                                                                                                       0\n",
       "last_judgment_at                                                                                                                                       69\n",
       "q1                                                                                                                                                      0\n",
       "q1_confidence                                                                                                                                           0\n",
       "q2                                                                                                                                                      0\n",
       "q2_confidence                                                                                                                                           0\n",
       "orig_golden                                                                                                                                          1090\n",
       "internal_id                                                                                                                                             0\n",
       "orig_q1_from_reading_the_tweet_which_of_the_options_below_is_most_likely_to_be_true_about_the_stance_or_outlook_of_the_tweeter_towards_the_target    1159\n",
       "q1_from_reading_the_tweet_which_of_the_options_below_is_most_likely_to_be_true_about_the_stance_or_outlook_of_the_tweeter_towards_the_target_gold    1090\n",
       "orig_q2_which_of_the_options_below_is_true_about_the_opinion_in_the_tweet                                                                            1159\n",
       "target                                                                                                                                                  0\n",
       "tweet                                                                                                                                                   0\n",
       "tweet_id                                                                                                                                                0\n",
       "dtype: int64"
      ]
     },
     "execution_count": 52,
     "metadata": {},
     "output_type": "execute_result"
    }
   ],
   "source": [
    "data.isna().sum()"
   ]
  },
  {
   "cell_type": "code",
   "execution_count": null,
   "metadata": {},
   "outputs": [],
   "source": []
  }
 ],
 "metadata": {
  "kernelspec": {
   "display_name": "Python 3",
   "language": "python",
   "name": "python3"
  },
  "language_info": {
   "codemirror_mode": {
    "name": "ipython",
    "version": 3
   },
   "file_extension": ".py",
   "mimetype": "text/x-python",
   "name": "python",
   "nbconvert_exporter": "python",
   "pygments_lexer": "ipython3",
   "version": "3.8.3"
  }
 },
 "nbformat": 4,
 "nbformat_minor": 4
}
